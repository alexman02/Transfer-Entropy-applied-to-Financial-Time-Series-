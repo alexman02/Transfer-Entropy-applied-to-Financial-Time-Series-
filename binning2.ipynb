{
 "cells": [
  {
   "cell_type": "code",
   "execution_count": 1,
   "metadata": {},
   "outputs": [],
   "source": [
    "import preprocess\n",
    "import pandas as pd\n",
    "import numpy as np\n",
    "import matplotlib.pyplot as plt\n",
    "import info_theory\n",
    "import plotting"
   ]
  },
  {
   "cell_type": "code",
   "execution_count": 2,
   "metadata": {},
   "outputs": [
    {
     "name": "stdout",
     "output_type": "stream",
     "text": [
      "Tickers to drop/replace due to insufficient data:\n",
      "['FXJPEMCS', 'QCLN']\n"
     ]
    },
    {
     "name": "stderr",
     "output_type": "stream",
     "text": [
      "c:\\Users\\akhma\\OneDrive\\Onenote\\Python\\my_venv\\Lib\\site-packages\\pandas\\core\\internals\\blocks.py:393: RuntimeWarning: invalid value encountered in log\n",
      "  result = func(self.values, **kwargs)\n"
     ]
    }
   ],
   "source": [
    "# Define assets and file paths\n",
    "assets = [\"commodity\", \"credit\", \"currency\", \"energy\", \"equity\", \"interest\", \"metals\", \"real_estate\", \"volatility\"]\n",
    "file_paths = {asset: f\"../data/{asset}_data.xlsx\" for asset in assets}\n",
    "\n",
    "# Load data\n",
    "aligned_data, tickers = preprocess.load_and_align_data(file_paths)\n",
    "\n",
    "# Drop tickers with many missing points\n",
    "aligned_data, tickers = preprocess.drop_short_tickers(aligned_data, tickers, max_nan=50)\n",
    "aligned_data['GB03'] + 0.1\n",
    "\n",
    "# Compute log returns\n",
    "log_returns = preprocess.compute_log_returns(aligned_data)\n",
    "\n",
    "# Interest data has negative and zero values\n",
    "# interest_data = aligned_data[tickers['interest']]\n",
    "# log_returns[tickers[\"interest\"]] = interest_data\n",
    "\n",
    "# Drop NA\n",
    "log_returns = log_returns.dropna()"
   ]
  },
  {
   "cell_type": "code",
   "execution_count": 3,
   "metadata": {},
   "outputs": [
    {
     "data": {
      "text/html": [
       "<div>\n",
       "<style scoped>\n",
       "    .dataframe tbody tr th:only-of-type {\n",
       "        vertical-align: middle;\n",
       "    }\n",
       "\n",
       "    .dataframe tbody tr th {\n",
       "        vertical-align: top;\n",
       "    }\n",
       "\n",
       "    .dataframe thead th {\n",
       "        text-align: right;\n",
       "    }\n",
       "</style>\n",
       "<table border=\"1\" class=\"dataframe\">\n",
       "  <thead>\n",
       "    <tr style=\"text-align: right;\">\n",
       "      <th></th>\n",
       "      <th>BCOM</th>\n",
       "      <th>CRB CMDT</th>\n",
       "      <th>CRB METL</th>\n",
       "      <th>CRB RIND</th>\n",
       "      <th>SPGSAGP</th>\n",
       "      <th>MOODCAAA</th>\n",
       "      <th>LF98TRUU</th>\n",
       "      <th>DJCBP</th>\n",
       "      <th>LMBITR</th>\n",
       "      <th>LC07TRUU</th>\n",
       "      <th>...</th>\n",
       "      <th>GB03</th>\n",
       "      <th>GT02</th>\n",
       "      <th>GT10</th>\n",
       "      <th>BCOMPR</th>\n",
       "      <th>DJGSP</th>\n",
       "      <th>REIT</th>\n",
       "      <th>DJUSRE</th>\n",
       "      <th>EPRA</th>\n",
       "      <th>VIX</th>\n",
       "      <th>VXN</th>\n",
       "    </tr>\n",
       "    <tr>\n",
       "      <th>Date</th>\n",
       "      <th></th>\n",
       "      <th></th>\n",
       "      <th></th>\n",
       "      <th></th>\n",
       "      <th></th>\n",
       "      <th></th>\n",
       "      <th></th>\n",
       "      <th></th>\n",
       "      <th></th>\n",
       "      <th></th>\n",
       "      <th></th>\n",
       "      <th></th>\n",
       "      <th></th>\n",
       "      <th></th>\n",
       "      <th></th>\n",
       "      <th></th>\n",
       "      <th></th>\n",
       "      <th></th>\n",
       "      <th></th>\n",
       "      <th></th>\n",
       "      <th></th>\n",
       "    </tr>\n",
       "  </thead>\n",
       "  <tbody>\n",
       "    <tr>\n",
       "      <th>2005-01-04</th>\n",
       "      <td>-0.006318</td>\n",
       "      <td>-0.009300</td>\n",
       "      <td>-0.027892</td>\n",
       "      <td>-0.009850</td>\n",
       "      <td>-0.023311</td>\n",
       "      <td>0.010989</td>\n",
       "      <td>0.000156</td>\n",
       "      <td>-0.004388</td>\n",
       "      <td>-0.000826</td>\n",
       "      <td>-0.002611</td>\n",
       "      <td>...</td>\n",
       "      <td>0.045245</td>\n",
       "      <td>0.033686</td>\n",
       "      <td>0.018582</td>\n",
       "      <td>-0.003148</td>\n",
       "      <td>-0.023747</td>\n",
       "      <td>-0.012812</td>\n",
       "      <td>-0.013447</td>\n",
       "      <td>-0.010845</td>\n",
       "      <td>-0.007128</td>\n",
       "      <td>0.028313</td>\n",
       "    </tr>\n",
       "    <tr>\n",
       "      <th>2005-01-05</th>\n",
       "      <td>-0.001498</td>\n",
       "      <td>0.001510</td>\n",
       "      <td>0.000483</td>\n",
       "      <td>0.003783</td>\n",
       "      <td>-0.022794</td>\n",
       "      <td>-0.003650</td>\n",
       "      <td>-0.001831</td>\n",
       "      <td>0.000733</td>\n",
       "      <td>0.000431</td>\n",
       "      <td>-0.000097</td>\n",
       "      <td>...</td>\n",
       "      <td>-0.013274</td>\n",
       "      <td>0.002809</td>\n",
       "      <td>-0.001866</td>\n",
       "      <td>0.000245</td>\n",
       "      <td>-0.003067</td>\n",
       "      <td>-0.038806</td>\n",
       "      <td>-0.038433</td>\n",
       "      <td>-0.005347</td>\n",
       "      <td>0.007838</td>\n",
       "      <td>0.005964</td>\n",
       "    </tr>\n",
       "    <tr>\n",
       "      <th>2005-01-06</th>\n",
       "      <td>0.016104</td>\n",
       "      <td>-0.001476</td>\n",
       "      <td>-0.016444</td>\n",
       "      <td>-0.007361</td>\n",
       "      <td>0.005714</td>\n",
       "      <td>0.001826</td>\n",
       "      <td>-0.000598</td>\n",
       "      <td>-0.001099</td>\n",
       "      <td>0.000350</td>\n",
       "      <td>0.000516</td>\n",
       "      <td>...</td>\n",
       "      <td>-0.004320</td>\n",
       "      <td>-0.015387</td>\n",
       "      <td>-0.004681</td>\n",
       "      <td>-0.013124</td>\n",
       "      <td>-0.005429</td>\n",
       "      <td>0.007550</td>\n",
       "      <td>0.007945</td>\n",
       "      <td>-0.002521</td>\n",
       "      <td>-0.036867</td>\n",
       "      <td>-0.002481</td>\n",
       "    </tr>\n",
       "    <tr>\n",
       "      <th>2005-01-07</th>\n",
       "      <td>-0.001910</td>\n",
       "      <td>0.005139</td>\n",
       "      <td>0.018090</td>\n",
       "      <td>0.007579</td>\n",
       "      <td>0.001899</td>\n",
       "      <td>-0.001826</td>\n",
       "      <td>-0.000325</td>\n",
       "      <td>-0.000825</td>\n",
       "      <td>0.000709</td>\n",
       "      <td>-0.000226</td>\n",
       "      <td>...</td>\n",
       "      <td>0.003889</td>\n",
       "      <td>0.010389</td>\n",
       "      <td>0.001875</td>\n",
       "      <td>-0.003921</td>\n",
       "      <td>0.003605</td>\n",
       "      <td>0.000287</td>\n",
       "      <td>0.000609</td>\n",
       "      <td>0.014654</td>\n",
       "      <td>-0.006649</td>\n",
       "      <td>-0.049909</td>\n",
       "    </tr>\n",
       "    <tr>\n",
       "      <th>2005-01-10</th>\n",
       "      <td>0.002492</td>\n",
       "      <td>-0.000171</td>\n",
       "      <td>0.007883</td>\n",
       "      <td>0.003551</td>\n",
       "      <td>0.006311</td>\n",
       "      <td>-0.003663</td>\n",
       "      <td>-0.000885</td>\n",
       "      <td>0.000734</td>\n",
       "      <td>0.000473</td>\n",
       "      <td>0.000323</td>\n",
       "      <td>...</td>\n",
       "      <td>0.000000</td>\n",
       "      <td>0.007799</td>\n",
       "      <td>0.000000</td>\n",
       "      <td>0.000430</td>\n",
       "      <td>0.009189</td>\n",
       "      <td>-0.003294</td>\n",
       "      <td>-0.002088</td>\n",
       "      <td>0.002704</td>\n",
       "      <td>-0.019462</td>\n",
       "      <td>0.023737</td>\n",
       "    </tr>\n",
       "    <tr>\n",
       "      <th>...</th>\n",
       "      <td>...</td>\n",
       "      <td>...</td>\n",
       "      <td>...</td>\n",
       "      <td>...</td>\n",
       "      <td>...</td>\n",
       "      <td>...</td>\n",
       "      <td>...</td>\n",
       "      <td>...</td>\n",
       "      <td>...</td>\n",
       "      <td>...</td>\n",
       "      <td>...</td>\n",
       "      <td>...</td>\n",
       "      <td>...</td>\n",
       "      <td>...</td>\n",
       "      <td>...</td>\n",
       "      <td>...</td>\n",
       "      <td>...</td>\n",
       "      <td>...</td>\n",
       "      <td>...</td>\n",
       "      <td>...</td>\n",
       "      <td>...</td>\n",
       "    </tr>\n",
       "    <tr>\n",
       "      <th>2024-11-12</th>\n",
       "      <td>-0.013605</td>\n",
       "      <td>-0.003252</td>\n",
       "      <td>-0.020410</td>\n",
       "      <td>-0.011386</td>\n",
       "      <td>-0.009395</td>\n",
       "      <td>0.021633</td>\n",
       "      <td>-0.001196</td>\n",
       "      <td>-0.007839</td>\n",
       "      <td>0.000464</td>\n",
       "      <td>-0.006516</td>\n",
       "      <td>...</td>\n",
       "      <td>0.000441</td>\n",
       "      <td>0.020240</td>\n",
       "      <td>0.028397</td>\n",
       "      <td>-0.030627</td>\n",
       "      <td>-0.079413</td>\n",
       "      <td>-0.018950</td>\n",
       "      <td>-0.019279</td>\n",
       "      <td>-0.015614</td>\n",
       "      <td>-0.015515</td>\n",
       "      <td>0.013334</td>\n",
       "    </tr>\n",
       "    <tr>\n",
       "      <th>2024-11-13</th>\n",
       "      <td>-0.000863</td>\n",
       "      <td>0.001814</td>\n",
       "      <td>-0.005660</td>\n",
       "      <td>-0.001935</td>\n",
       "      <td>-0.001823</td>\n",
       "      <td>0.015444</td>\n",
       "      <td>-0.000004</td>\n",
       "      <td>-0.004919</td>\n",
       "      <td>0.000647</td>\n",
       "      <td>-0.000654</td>\n",
       "      <td>...</td>\n",
       "      <td>-0.007748</td>\n",
       "      <td>-0.012515</td>\n",
       "      <td>0.005180</td>\n",
       "      <td>-0.006529</td>\n",
       "      <td>-0.014328</td>\n",
       "      <td>0.005783</td>\n",
       "      <td>0.006265</td>\n",
       "      <td>-0.013243</td>\n",
       "      <td>-0.048043</td>\n",
       "      <td>-0.034815</td>\n",
       "    </tr>\n",
       "    <tr>\n",
       "      <th>2024-11-14</th>\n",
       "      <td>-0.007853</td>\n",
       "      <td>-0.001122</td>\n",
       "      <td>-0.006477</td>\n",
       "      <td>-0.003030</td>\n",
       "      <td>-0.002832</td>\n",
       "      <td>-0.009625</td>\n",
       "      <td>-0.000358</td>\n",
       "      <td>-0.000558</td>\n",
       "      <td>0.000163</td>\n",
       "      <td>-0.000386</td>\n",
       "      <td>...</td>\n",
       "      <td>0.006424</td>\n",
       "      <td>0.013666</td>\n",
       "      <td>-0.003375</td>\n",
       "      <td>-0.004809</td>\n",
       "      <td>0.006074</td>\n",
       "      <td>-0.009676</td>\n",
       "      <td>-0.009653</td>\n",
       "      <td>0.013018</td>\n",
       "      <td>0.020474</td>\n",
       "      <td>0.011364</td>\n",
       "    </tr>\n",
       "    <tr>\n",
       "      <th>2024-11-15</th>\n",
       "      <td>0.001401</td>\n",
       "      <td>0.000524</td>\n",
       "      <td>0.003978</td>\n",
       "      <td>0.001239</td>\n",
       "      <td>0.007099</td>\n",
       "      <td>0.007707</td>\n",
       "      <td>-0.002076</td>\n",
       "      <td>-0.002143</td>\n",
       "      <td>-0.000080</td>\n",
       "      <td>-0.000420</td>\n",
       "      <td>...</td>\n",
       "      <td>-0.006202</td>\n",
       "      <td>-0.009709</td>\n",
       "      <td>0.000676</td>\n",
       "      <td>-0.001897</td>\n",
       "      <td>-0.007903</td>\n",
       "      <td>0.003259</td>\n",
       "      <td>0.001495</td>\n",
       "      <td>0.000201</td>\n",
       "      <td>0.120342</td>\n",
       "      <td>0.113631</td>\n",
       "    </tr>\n",
       "    <tr>\n",
       "      <th>2024-11-18</th>\n",
       "      <td>0.016269</td>\n",
       "      <td>-0.001422</td>\n",
       "      <td>-0.000164</td>\n",
       "      <td>-0.000388</td>\n",
       "      <td>0.011531</td>\n",
       "      <td>-0.003846</td>\n",
       "      <td>0.000344</td>\n",
       "      <td>0.002423</td>\n",
       "      <td>0.000196</td>\n",
       "      <td>0.001258</td>\n",
       "      <td>...</td>\n",
       "      <td>0.003327</td>\n",
       "      <td>-0.005591</td>\n",
       "      <td>-0.005647</td>\n",
       "      <td>0.019137</td>\n",
       "      <td>0.041726</td>\n",
       "      <td>0.006274</td>\n",
       "      <td>0.007416</td>\n",
       "      <td>-0.017093</td>\n",
       "      <td>-0.035313</td>\n",
       "      <td>-0.003030</td>\n",
       "    </tr>\n",
       "  </tbody>\n",
       "</table>\n",
       "<p>4860 rows × 30 columns</p>\n",
       "</div>"
      ],
      "text/plain": [
       "                BCOM  CRB CMDT  CRB METL  CRB RIND   SPGSAGP  MOODCAAA  \\\n",
       "Date                                                                     \n",
       "2005-01-04 -0.006318 -0.009300 -0.027892 -0.009850 -0.023311  0.010989   \n",
       "2005-01-05 -0.001498  0.001510  0.000483  0.003783 -0.022794 -0.003650   \n",
       "2005-01-06  0.016104 -0.001476 -0.016444 -0.007361  0.005714  0.001826   \n",
       "2005-01-07 -0.001910  0.005139  0.018090  0.007579  0.001899 -0.001826   \n",
       "2005-01-10  0.002492 -0.000171  0.007883  0.003551  0.006311 -0.003663   \n",
       "...              ...       ...       ...       ...       ...       ...   \n",
       "2024-11-12 -0.013605 -0.003252 -0.020410 -0.011386 -0.009395  0.021633   \n",
       "2024-11-13 -0.000863  0.001814 -0.005660 -0.001935 -0.001823  0.015444   \n",
       "2024-11-14 -0.007853 -0.001122 -0.006477 -0.003030 -0.002832 -0.009625   \n",
       "2024-11-15  0.001401  0.000524  0.003978  0.001239  0.007099  0.007707   \n",
       "2024-11-18  0.016269 -0.001422 -0.000164 -0.000388  0.011531 -0.003846   \n",
       "\n",
       "            LF98TRUU     DJCBP    LMBITR  LC07TRUU  ...      GB03      GT02  \\\n",
       "Date                                                ...                       \n",
       "2005-01-04  0.000156 -0.004388 -0.000826 -0.002611  ...  0.045245  0.033686   \n",
       "2005-01-05 -0.001831  0.000733  0.000431 -0.000097  ... -0.013274  0.002809   \n",
       "2005-01-06 -0.000598 -0.001099  0.000350  0.000516  ... -0.004320 -0.015387   \n",
       "2005-01-07 -0.000325 -0.000825  0.000709 -0.000226  ...  0.003889  0.010389   \n",
       "2005-01-10 -0.000885  0.000734  0.000473  0.000323  ...  0.000000  0.007799   \n",
       "...              ...       ...       ...       ...  ...       ...       ...   \n",
       "2024-11-12 -0.001196 -0.007839  0.000464 -0.006516  ...  0.000441  0.020240   \n",
       "2024-11-13 -0.000004 -0.004919  0.000647 -0.000654  ... -0.007748 -0.012515   \n",
       "2024-11-14 -0.000358 -0.000558  0.000163 -0.000386  ...  0.006424  0.013666   \n",
       "2024-11-15 -0.002076 -0.002143 -0.000080 -0.000420  ... -0.006202 -0.009709   \n",
       "2024-11-18  0.000344  0.002423  0.000196  0.001258  ...  0.003327 -0.005591   \n",
       "\n",
       "                GT10    BCOMPR     DJGSP      REIT    DJUSRE      EPRA  \\\n",
       "Date                                                                     \n",
       "2005-01-04  0.018582 -0.003148 -0.023747 -0.012812 -0.013447 -0.010845   \n",
       "2005-01-05 -0.001866  0.000245 -0.003067 -0.038806 -0.038433 -0.005347   \n",
       "2005-01-06 -0.004681 -0.013124 -0.005429  0.007550  0.007945 -0.002521   \n",
       "2005-01-07  0.001875 -0.003921  0.003605  0.000287  0.000609  0.014654   \n",
       "2005-01-10  0.000000  0.000430  0.009189 -0.003294 -0.002088  0.002704   \n",
       "...              ...       ...       ...       ...       ...       ...   \n",
       "2024-11-12  0.028397 -0.030627 -0.079413 -0.018950 -0.019279 -0.015614   \n",
       "2024-11-13  0.005180 -0.006529 -0.014328  0.005783  0.006265 -0.013243   \n",
       "2024-11-14 -0.003375 -0.004809  0.006074 -0.009676 -0.009653  0.013018   \n",
       "2024-11-15  0.000676 -0.001897 -0.007903  0.003259  0.001495  0.000201   \n",
       "2024-11-18 -0.005647  0.019137  0.041726  0.006274  0.007416 -0.017093   \n",
       "\n",
       "                 VIX       VXN  \n",
       "Date                            \n",
       "2005-01-04 -0.007128  0.028313  \n",
       "2005-01-05  0.007838  0.005964  \n",
       "2005-01-06 -0.036867 -0.002481  \n",
       "2005-01-07 -0.006649 -0.049909  \n",
       "2005-01-10 -0.019462  0.023737  \n",
       "...              ...       ...  \n",
       "2024-11-12 -0.015515  0.013334  \n",
       "2024-11-13 -0.048043 -0.034815  \n",
       "2024-11-14  0.020474  0.011364  \n",
       "2024-11-15  0.120342  0.113631  \n",
       "2024-11-18 -0.035313 -0.003030  \n",
       "\n",
       "[4860 rows x 30 columns]"
      ]
     },
     "execution_count": 3,
     "metadata": {},
     "output_type": "execute_result"
    }
   ],
   "source": [
    "log_returns"
   ]
  },
  {
   "cell_type": "code",
   "execution_count": 5,
   "metadata": {},
   "outputs": [],
   "source": [
    "abs_log_returns = np.abs(log_returns)"
   ]
  },
  {
   "cell_type": "code",
   "execution_count": 26,
   "metadata": {},
   "outputs": [
    {
     "data": {
      "text/plain": [
       "Index(['BCOM', 'CRB CMDT', 'CRB METL', 'CRB RIND', 'SPGSAGP', 'MOODCAAA',\n",
       "       'LF98TRUU', 'DJCBP', 'LMBITR', 'LC07TRUU', 'DXY', 'BBDXY', 'MXWO0EN',\n",
       "       'SPGSEN', 'SPX', 'NDX', 'RTY', 'CCMP', 'SML', 'SGX', 'GB03', 'GT02',\n",
       "       'GT10', 'BCOMPR', 'DJGSP', 'REIT', 'DJUSRE', 'EPRA', 'VIX', 'VXN'],\n",
       "      dtype='object')"
      ]
     },
     "execution_count": 26,
     "metadata": {},
     "output_type": "execute_result"
    }
   ],
   "source": [
    "log_returns.columns"
   ]
  },
  {
   "cell_type": "code",
   "execution_count": 8,
   "metadata": {},
   "outputs": [],
   "source": [
    "def discretize_equal_width(contin_data, num_bins=5):\n",
    "    min_val = contin_data.min()\n",
    "    max_val = contin_data.max()\n",
    "    if num_bins == 2:\n",
    "        med = np.median(contin_data)\n",
    "        bins = [min_val, med, max_val]\n",
    "    else:\n",
    "        q1 = np.percentile(contin_data, 25)\n",
    "        q3 = np.percentile(contin_data, 75)\n",
    "        bins = [min_val] + np.linspace(q1, q3, num_bins - 1).tolist() + [max_val]\n",
    "    # std = np.std(contin_data)\n",
    "    # bins = std * np.arange(-num_bins//2, num_bins//2 + 1)\n",
    "    return np.digitize(contin_data, bins)\n",
    "\n",
    "def discretize_equal_freq(contin_data, num_bins=5):\n",
    "    # Use quantiles to create bins\n",
    "    min_val = contin_data.min()\n",
    "    max_val = contin_data.max()\n",
    "    if num_bins == 2:\n",
    "        med = np.median(contin_data)\n",
    "        bins = [min_val, med, max_val]\n",
    "    else:\n",
    "        q1 = np.percentile(contin_data, 25)\n",
    "        q3 = np.percentile(contin_data, 75)\n",
    "        iqr_data = contin_data[(contin_data >= q1) & (contin_data <= q3)]\n",
    "        quantiles = np.linspace(0, 1, num_bins - 1)\n",
    "        bins = [min_val] + np.quantile(iqr_data, quantiles).tolist() + [max_val]\n",
    "    \n",
    "    return np.digitize(contin_data, bins)\n",
    "\n",
    "def discretize_df(dataframe, num_bins=5, disc_type = 'freq'):\n",
    "    discretized = {}\n",
    "    columns = dataframe.columns\n",
    "    if disc_type == 'width':\n",
    "        discretize = discretize_equal_width\n",
    "    elif disc_type == 'freq':\n",
    "        discretize = discretize_equal_freq\n",
    "\n",
    "    for col in columns:\n",
    "        discrete_col = discretize(dataframe[col])\n",
    "        discretized[col] = discrete_col\n",
    "\n",
    "    dates = dataframe.index\n",
    "    discretized = pd.DataFrame(discretized)\n",
    "    discretized.index = pd.to_datetime(dates)\n",
    "    return discretized"
   ]
  },
  {
   "cell_type": "code",
   "execution_count": 9,
   "metadata": {},
   "outputs": [],
   "source": [
    "discrete_log_returns = discretize_df(log_returns)"
   ]
  },
  {
   "cell_type": "code",
   "execution_count": 20,
   "metadata": {},
   "outputs": [],
   "source": [
    "def pca_and_discretize(log_returns, tickers, num_bins, discretize_fn=preprocess.discretize, plot_explained_var_ratio=False):\n",
    "    asset_classes_discrete = {}\n",
    "    explained_variance_ratios = {}\n",
    "    asset_classes = tickers.keys()\n",
    "    for asset_class in asset_classes:\n",
    "        vals = log_returns[tickers[asset_class]]\n",
    "        pca, pca_components, explained_variance_ratio = preprocess.compute_pca(vals)\n",
    "        explained_variance_ratios[asset_class] = explained_variance_ratio\n",
    "        X = pca_components[:, 0]  # Take first principal component\n",
    "        discrete_X = discretize_fn(X, num_bins)\n",
    "        asset_classes_discrete[asset_class] = discrete_X\n",
    "\n",
    "    dates = log_returns.index\n",
    "    asset_classes_discrete = pd.DataFrame(asset_classes_discrete)\n",
    "    asset_classes_discrete.index = dates\n",
    "    asset_classes_discrete.index = pd.to_datetime(asset_classes_discrete.index)\n",
    "\n",
    "    if plot_explained_var_ratio:\n",
    "        for asset, variance_ratio in explained_variance_ratios.items():\n",
    "            plt.plot(np.cumsum(variance_ratio), marker=\"o\", label=asset)\n",
    "        plt.xlabel(\"Number of Components\")\n",
    "        plt.ylabel(\"Cumulative Explained Variance\")\n",
    "        plt.title(\"PCA Explained Variance Ratios\")\n",
    "        plt.legend()\n",
    "        plt.show()\n",
    "    return asset_classes_discrete"
   ]
  },
  {
   "cell_type": "code",
   "execution_count": 33,
   "metadata": {},
   "outputs": [],
   "source": [
    "def discretize(contin_data, num_bins=1):\n",
    "    std = np.std(contin_data)\n",
    "    bins = std * np.arange(-num_bins//2, num_bins//2 + 1)\n",
    "    return np.digitize(contin_data, bins)\n",
    "\n",
    "asset_classes_discrete = pca_and_discretize(log_returns, tickers, num_bins=12, discretize_fn=discretize, plot_explained_var_ratio=False)"
   ]
  },
  {
   "cell_type": "code",
   "execution_count": 28,
   "metadata": {},
   "outputs": [
    {
     "data": {
      "text/html": [
       "<div>\n",
       "<style scoped>\n",
       "    .dataframe tbody tr th:only-of-type {\n",
       "        vertical-align: middle;\n",
       "    }\n",
       "\n",
       "    .dataframe tbody tr th {\n",
       "        vertical-align: top;\n",
       "    }\n",
       "\n",
       "    .dataframe thead th {\n",
       "        text-align: right;\n",
       "    }\n",
       "</style>\n",
       "<table border=\"1\" class=\"dataframe\">\n",
       "  <thead>\n",
       "    <tr style=\"text-align: right;\">\n",
       "      <th></th>\n",
       "      <th>commodity</th>\n",
       "      <th>credit</th>\n",
       "      <th>currency</th>\n",
       "      <th>energy</th>\n",
       "      <th>equity</th>\n",
       "      <th>interest</th>\n",
       "      <th>metals</th>\n",
       "      <th>real_estate</th>\n",
       "      <th>volatility</th>\n",
       "    </tr>\n",
       "    <tr>\n",
       "      <th>Date</th>\n",
       "      <th></th>\n",
       "      <th></th>\n",
       "      <th></th>\n",
       "      <th></th>\n",
       "      <th></th>\n",
       "      <th></th>\n",
       "      <th></th>\n",
       "      <th></th>\n",
       "      <th></th>\n",
       "    </tr>\n",
       "  </thead>\n",
       "  <tbody>\n",
       "    <tr>\n",
       "      <th>2005-01-04</th>\n",
       "      <td>0</td>\n",
       "      <td>1</td>\n",
       "      <td>5</td>\n",
       "      <td>3</td>\n",
       "      <td>1</td>\n",
       "      <td>3</td>\n",
       "      <td>2</td>\n",
       "      <td>2</td>\n",
       "      <td>3</td>\n",
       "    </tr>\n",
       "    <tr>\n",
       "      <th>2005-01-05</th>\n",
       "      <td>3</td>\n",
       "      <td>3</td>\n",
       "      <td>3</td>\n",
       "      <td>2</td>\n",
       "      <td>2</td>\n",
       "      <td>2</td>\n",
       "      <td>2</td>\n",
       "      <td>1</td>\n",
       "      <td>3</td>\n",
       "    </tr>\n",
       "    <tr>\n",
       "      <th>2005-01-06</th>\n",
       "      <td>2</td>\n",
       "      <td>2</td>\n",
       "      <td>4</td>\n",
       "      <td>4</td>\n",
       "      <td>3</td>\n",
       "      <td>2</td>\n",
       "      <td>2</td>\n",
       "      <td>3</td>\n",
       "      <td>2</td>\n",
       "    </tr>\n",
       "    <tr>\n",
       "      <th>2005-01-07</th>\n",
       "      <td>4</td>\n",
       "      <td>2</td>\n",
       "      <td>3</td>\n",
       "      <td>2</td>\n",
       "      <td>2</td>\n",
       "      <td>3</td>\n",
       "      <td>2</td>\n",
       "      <td>3</td>\n",
       "      <td>2</td>\n",
       "    </tr>\n",
       "    <tr>\n",
       "      <th>2005-01-10</th>\n",
       "      <td>3</td>\n",
       "      <td>3</td>\n",
       "      <td>2</td>\n",
       "      <td>3</td>\n",
       "      <td>3</td>\n",
       "      <td>3</td>\n",
       "      <td>3</td>\n",
       "      <td>2</td>\n",
       "      <td>3</td>\n",
       "    </tr>\n",
       "    <tr>\n",
       "      <th>...</th>\n",
       "      <td>...</td>\n",
       "      <td>...</td>\n",
       "      <td>...</td>\n",
       "      <td>...</td>\n",
       "      <td>...</td>\n",
       "      <td>...</td>\n",
       "      <td>...</td>\n",
       "      <td>...</td>\n",
       "      <td>...</td>\n",
       "    </tr>\n",
       "    <tr>\n",
       "      <th>2024-11-12</th>\n",
       "      <td>0</td>\n",
       "      <td>1</td>\n",
       "      <td>5</td>\n",
       "      <td>2</td>\n",
       "      <td>2</td>\n",
       "      <td>3</td>\n",
       "      <td>0</td>\n",
       "      <td>1</td>\n",
       "      <td>3</td>\n",
       "    </tr>\n",
       "    <tr>\n",
       "      <th>2024-11-13</th>\n",
       "      <td>2</td>\n",
       "      <td>2</td>\n",
       "      <td>3</td>\n",
       "      <td>3</td>\n",
       "      <td>2</td>\n",
       "      <td>2</td>\n",
       "      <td>2</td>\n",
       "      <td>2</td>\n",
       "      <td>2</td>\n",
       "    </tr>\n",
       "    <tr>\n",
       "      <th>2024-11-14</th>\n",
       "      <td>2</td>\n",
       "      <td>3</td>\n",
       "      <td>3</td>\n",
       "      <td>3</td>\n",
       "      <td>2</td>\n",
       "      <td>3</td>\n",
       "      <td>2</td>\n",
       "      <td>2</td>\n",
       "      <td>3</td>\n",
       "    </tr>\n",
       "    <tr>\n",
       "      <th>2024-11-15</th>\n",
       "      <td>3</td>\n",
       "      <td>2</td>\n",
       "      <td>2</td>\n",
       "      <td>2</td>\n",
       "      <td>1</td>\n",
       "      <td>2</td>\n",
       "      <td>2</td>\n",
       "      <td>3</td>\n",
       "      <td>4</td>\n",
       "    </tr>\n",
       "    <tr>\n",
       "      <th>2024-11-18</th>\n",
       "      <td>3</td>\n",
       "      <td>3</td>\n",
       "      <td>2</td>\n",
       "      <td>4</td>\n",
       "      <td>3</td>\n",
       "      <td>2</td>\n",
       "      <td>4</td>\n",
       "      <td>2</td>\n",
       "      <td>2</td>\n",
       "    </tr>\n",
       "  </tbody>\n",
       "</table>\n",
       "<p>4860 rows × 9 columns</p>\n",
       "</div>"
      ],
      "text/plain": [
       "            commodity  credit  currency  energy  equity  interest  metals  \\\n",
       "Date                                                                        \n",
       "2005-01-04          0       1         5       3       1         3       2   \n",
       "2005-01-05          3       3         3       2       2         2       2   \n",
       "2005-01-06          2       2         4       4       3         2       2   \n",
       "2005-01-07          4       2         3       2       2         3       2   \n",
       "2005-01-10          3       3         2       3       3         3       3   \n",
       "...               ...     ...       ...     ...     ...       ...     ...   \n",
       "2024-11-12          0       1         5       2       2         3       0   \n",
       "2024-11-13          2       2         3       3       2         2       2   \n",
       "2024-11-14          2       3         3       3       2         3       2   \n",
       "2024-11-15          3       2         2       2       1         2       2   \n",
       "2024-11-18          3       3         2       4       3         2       4   \n",
       "\n",
       "            real_estate  volatility  \n",
       "Date                                 \n",
       "2005-01-04            2           3  \n",
       "2005-01-05            1           3  \n",
       "2005-01-06            3           2  \n",
       "2005-01-07            3           2  \n",
       "2005-01-10            2           3  \n",
       "...                 ...         ...  \n",
       "2024-11-12            1           3  \n",
       "2024-11-13            2           2  \n",
       "2024-11-14            2           3  \n",
       "2024-11-15            3           4  \n",
       "2024-11-18            2           2  \n",
       "\n",
       "[4860 rows x 9 columns]"
      ]
     },
     "execution_count": 28,
     "metadata": {},
     "output_type": "execute_result"
    }
   ],
   "source": [
    "asset_classes_discrete"
   ]
  },
  {
   "cell_type": "code",
   "execution_count": 34,
   "metadata": {},
   "outputs": [],
   "source": [
    "whole_window = [(asset_classes_discrete.index.min(), asset_classes_discrete.index.max(), asset_classes_discrete)]"
   ]
  },
  {
   "cell_type": "code",
   "execution_count": 11,
   "metadata": {},
   "outputs": [],
   "source": [
    "def compute_measure_matrix(windows, measure_func, n_surrogates=0, *measure_args, **measure_kwargs):\n",
    "    \"\"\"\n",
    "    Generalized matrix computation for any pairwise measure\n",
    "    \n",
    "    Parameters:\n",
    "        windows: iterable of (start_date, end_date, window_data)\n",
    "        measure_func: function that takes two arrays and returns a scalar\n",
    "        measure_kwargs: keyword arguments for measure_func\n",
    "        \n",
    "    Returns:\n",
    "        measure_matrix: numpy array of shape (n_assets, n_assets, num_windows)\n",
    "    \"\"\"\n",
    "    assets = windows[0][2].columns\n",
    "    n = len(assets)\n",
    "    num_windows = len(windows)\n",
    "    measure_matrix = np.empty((n, n, num_windows))\n",
    "    surrogate_matrix = np.empty((n_surrogates, n, n, num_windows))\n",
    "    for t, (_, _, window_data) in enumerate(windows):\n",
    "        for i, asset1 in enumerate(assets):\n",
    "            for j, asset2 in enumerate(assets):\n",
    "                if asset1 == asset2:\n",
    "                    measure_matrix[i, j, t] = 0.0\n",
    "                else:\n",
    "                    measure_matrix[i, j, t] = measure_func(\n",
    "                        window_data[asset1].values,\n",
    "                        window_data[asset2].values,\n",
    "                        *measure_args,\n",
    "                        **measure_kwargs\n",
    "                    )\n",
    "\n",
    "                for k in range(n_surrogates):\n",
    "                    if asset1 == asset2:\n",
    "                        surrogate_matrix[k, i, j, t] = 0.0\n",
    "                    else:\n",
    "                        surrogate_matrix[k, i, j, t] = measure_func(\n",
    "                            np.random.permutation(window_data[asset1].values),\n",
    "                            window_data[asset2].values,\n",
    "                            *measure_args,\n",
    "                            **measure_kwargs\n",
    "                        )\n",
    "        #print(f\"Window {t+1}/{num_windows} computed\")\n",
    "    avg_surrogate_matrix = np.mean(surrogate_matrix, axis=0)\n",
    "        \n",
    "    return measure_matrix, avg_surrogate_matrix"
   ]
  },
  {
   "cell_type": "code",
   "execution_count": 35,
   "metadata": {},
   "outputs": [],
   "source": [
    "te_matrix, te_matrix_surrogate = compute_measure_matrix(whole_window, measure_func = info_theory.transfer_entropy_fast, n_surrogates=10, k=1, l=1)"
   ]
  },
  {
   "cell_type": "code",
   "execution_count": 36,
   "metadata": {},
   "outputs": [],
   "source": [
    "signif_te_matrix = np.squeeze(np.maximum((te_matrix - te_matrix_surrogate), 0), axis=2)"
   ]
  },
  {
   "cell_type": "code",
   "execution_count": 44,
   "metadata": {},
   "outputs": [
    {
     "data": {
      "application/vnd.plotly.v1+json": {
       "config": {
        "plotlyServerURL": "https://plot.ly"
       },
       "data": [
        {
         "colorscale": [
          [
           0,
           "#440154"
          ],
          [
           0.1111111111111111,
           "#482878"
          ],
          [
           0.2222222222222222,
           "#3e4989"
          ],
          [
           0.3333333333333333,
           "#31688e"
          ],
          [
           0.4444444444444444,
           "#26828e"
          ],
          [
           0.5555555555555556,
           "#1f9e89"
          ],
          [
           0.6666666666666666,
           "#35b779"
          ],
          [
           0.7777777777777778,
           "#6ece58"
          ],
          [
           0.8888888888888888,
           "#b5de2b"
          ],
          [
           1,
           "#fde725"
          ]
         ],
         "type": "heatmap",
         "x": [
          "commodity",
          "credit",
          "currency",
          "energy",
          "equity",
          "interest",
          "metals",
          "real_estate",
          "volatility"
         ],
         "y": [
          "commodity",
          "credit",
          "currency",
          "energy",
          "equity",
          "interest",
          "metals",
          "real_estate",
          "volatility"
         ],
         "z": {
          "bdata": "AAAAAAAAAABMsh+pVuSEP4AUEKirDoA/NICPE3iEhD+0WajwcuiMP2gfLRVPlYA/aKka6uNPez+mw67pgEuVP2ibkXb1HnE/zLMDWZulkT8AAAAAAAAAAMypFAbUmIM/prGtB0ngkz8A59woYUOKPzCR0vH42H4/TAnBeoujiz9aGShZVkuXP2gmSmVJVXQ/MCGYj4pWbT+YTifCI897PwAAAAAAAAAATGx3fAfXgD+YdDIBpnGIPwA/jGHS0oI/0MLP6l0sdz8Y3kmZOm6JP5hYiXVLCHk/6DVQlnuKiD9Mn4oHwcePPzR1kVLBEIs/AAAAAAAAAABoGmkSALmHP+hguKPa54o/zFjRd9nRhT9AcTawfQ6TPzDDiyXjTHs/GtJe2jUGmD90y1WjDIGfP0w1GrgYCpQ/APXN9ZxGkz8AAAAAAAAAAEyQgPo6/5I/NOvstJi8kz9oY+7tMLR3PwB9uuiPvjk/GMmk5QiPhj+0ydQbBseFP2hn/zzM4I0/ADpTP9rHkz9a4LczsHuSPwAAAAAAAAAA5u3hojUxkz9A7SkZ+r6YP4AC4jkMjog/ANPuZAcrkj9oiolyQB9/P7RKanpve4A/mFnBI0SBiz+0JL1zU9WPPwDXs1ygXoo/AAAAAAAAAACmTihMEY6RP6CVVj8DfWQ/9E5XOJHNnD/anFpdOBuaPyboMX28Q5s/Zstnjm8Nkz/M3LUDAYGGP+YXWuuJ3ZY/AG3rxt4VnD8AAAAAAAAAAAAAInK9cBs/TLkCj1HGgD+AbeEXcKCLP2jejU2uyn4/MLfwQPeEfT8AAAAAAAAAAABsps6kG4E/mKoIVzhZfD+YInsolXNzPwAAAAAAAAAA",
          "dtype": "f8",
          "shape": "9, 9"
         }
        }
       ],
       "frames": [
        {
         "data": [
          {
           "colorscale": [
            [
             0,
             "#440154"
            ],
            [
             0.1111111111111111,
             "#482878"
            ],
            [
             0.2222222222222222,
             "#3e4989"
            ],
            [
             0.3333333333333333,
             "#31688e"
            ],
            [
             0.4444444444444444,
             "#26828e"
            ],
            [
             0.5555555555555556,
             "#1f9e89"
            ],
            [
             0.6666666666666666,
             "#35b779"
            ],
            [
             0.7777777777777778,
             "#6ece58"
            ],
            [
             0.8888888888888888,
             "#b5de2b"
            ],
            [
             1,
             "#fde725"
            ]
           ],
           "type": "heatmap",
           "x": [
            "commodity",
            "credit",
            "currency",
            "energy",
            "equity",
            "interest",
            "metals",
            "real_estate",
            "volatility"
           ],
           "y": [
            "commodity",
            "credit",
            "currency",
            "energy",
            "equity",
            "interest",
            "metals",
            "real_estate",
            "volatility"
           ],
           "z": {
            "bdata": "AAAAAAAAAABMsh+pVuSEP4AUEKirDoA/NICPE3iEhD+0WajwcuiMP2gfLRVPlYA/aKka6uNPez+mw67pgEuVP2ibkXb1HnE/zLMDWZulkT8AAAAAAAAAAMypFAbUmIM/prGtB0ngkz8A59woYUOKPzCR0vH42H4/TAnBeoujiz9aGShZVkuXP2gmSmVJVXQ/MCGYj4pWbT+YTifCI897PwAAAAAAAAAATGx3fAfXgD+YdDIBpnGIPwA/jGHS0oI/0MLP6l0sdz8Y3kmZOm6JP5hYiXVLCHk/6DVQlnuKiD9Mn4oHwcePPzR1kVLBEIs/AAAAAAAAAABoGmkSALmHP+hguKPa54o/zFjRd9nRhT9AcTawfQ6TPzDDiyXjTHs/GtJe2jUGmD90y1WjDIGfP0w1GrgYCpQ/APXN9ZxGkz8AAAAAAAAAAEyQgPo6/5I/NOvstJi8kz9oY+7tMLR3PwB9uuiPvjk/GMmk5QiPhj+0ydQbBseFP2hn/zzM4I0/ADpTP9rHkz9a4LczsHuSPwAAAAAAAAAA5u3hojUxkz9A7SkZ+r6YP4AC4jkMjog/ANPuZAcrkj9oiolyQB9/P7RKanpve4A/mFnBI0SBiz+0JL1zU9WPPwDXs1ygXoo/AAAAAAAAAACmTihMEY6RP6CVVj8DfWQ/9E5XOJHNnD/anFpdOBuaPyboMX28Q5s/Zstnjm8Nkz/M3LUDAYGGP+YXWuuJ3ZY/AG3rxt4VnD8AAAAAAAAAAAAAInK9cBs/TLkCj1HGgD+AbeEXcKCLP2jejU2uyn4/MLfwQPeEfT8AAAAAAAAAAABsps6kG4E/mKoIVzhZfD+YInsolXNzPwAAAAAAAAAA",
            "dtype": "f8",
            "shape": "9, 9"
           }
          }
         ],
         "name": "Window 0"
        }
       ],
       "layout": {
        "sliders": [
         {
          "active": 0,
          "currentvalue": {
           "font": {
            "size": 20
           },
           "prefix": "Year up to: ",
           "xanchor": "right"
          },
          "pad": {
           "b": 10,
           "t": 50
          },
          "steps": [
           {
            "args": [
             [
              "Window 0"
             ],
             {
              "frame": {
               "duration": 0
              },
              "mode": "immediate"
             }
            ],
            "label": "2024",
            "method": "animate"
           }
          ]
         }
        ],
        "template": {
         "data": {
          "bar": [
           {
            "error_x": {
             "color": "#2a3f5f"
            },
            "error_y": {
             "color": "#2a3f5f"
            },
            "marker": {
             "line": {
              "color": "#E5ECF6",
              "width": 0.5
             },
             "pattern": {
              "fillmode": "overlay",
              "size": 10,
              "solidity": 0.2
             }
            },
            "type": "bar"
           }
          ],
          "barpolar": [
           {
            "marker": {
             "line": {
              "color": "#E5ECF6",
              "width": 0.5
             },
             "pattern": {
              "fillmode": "overlay",
              "size": 10,
              "solidity": 0.2
             }
            },
            "type": "barpolar"
           }
          ],
          "carpet": [
           {
            "aaxis": {
             "endlinecolor": "#2a3f5f",
             "gridcolor": "white",
             "linecolor": "white",
             "minorgridcolor": "white",
             "startlinecolor": "#2a3f5f"
            },
            "baxis": {
             "endlinecolor": "#2a3f5f",
             "gridcolor": "white",
             "linecolor": "white",
             "minorgridcolor": "white",
             "startlinecolor": "#2a3f5f"
            },
            "type": "carpet"
           }
          ],
          "choropleth": [
           {
            "colorbar": {
             "outlinewidth": 0,
             "ticks": ""
            },
            "type": "choropleth"
           }
          ],
          "contour": [
           {
            "colorbar": {
             "outlinewidth": 0,
             "ticks": ""
            },
            "colorscale": [
             [
              0,
              "#0d0887"
             ],
             [
              0.1111111111111111,
              "#46039f"
             ],
             [
              0.2222222222222222,
              "#7201a8"
             ],
             [
              0.3333333333333333,
              "#9c179e"
             ],
             [
              0.4444444444444444,
              "#bd3786"
             ],
             [
              0.5555555555555556,
              "#d8576b"
             ],
             [
              0.6666666666666666,
              "#ed7953"
             ],
             [
              0.7777777777777778,
              "#fb9f3a"
             ],
             [
              0.8888888888888888,
              "#fdca26"
             ],
             [
              1,
              "#f0f921"
             ]
            ],
            "type": "contour"
           }
          ],
          "contourcarpet": [
           {
            "colorbar": {
             "outlinewidth": 0,
             "ticks": ""
            },
            "type": "contourcarpet"
           }
          ],
          "heatmap": [
           {
            "colorbar": {
             "outlinewidth": 0,
             "ticks": ""
            },
            "colorscale": [
             [
              0,
              "#0d0887"
             ],
             [
              0.1111111111111111,
              "#46039f"
             ],
             [
              0.2222222222222222,
              "#7201a8"
             ],
             [
              0.3333333333333333,
              "#9c179e"
             ],
             [
              0.4444444444444444,
              "#bd3786"
             ],
             [
              0.5555555555555556,
              "#d8576b"
             ],
             [
              0.6666666666666666,
              "#ed7953"
             ],
             [
              0.7777777777777778,
              "#fb9f3a"
             ],
             [
              0.8888888888888888,
              "#fdca26"
             ],
             [
              1,
              "#f0f921"
             ]
            ],
            "type": "heatmap"
           }
          ],
          "histogram": [
           {
            "marker": {
             "pattern": {
              "fillmode": "overlay",
              "size": 10,
              "solidity": 0.2
             }
            },
            "type": "histogram"
           }
          ],
          "histogram2d": [
           {
            "colorbar": {
             "outlinewidth": 0,
             "ticks": ""
            },
            "colorscale": [
             [
              0,
              "#0d0887"
             ],
             [
              0.1111111111111111,
              "#46039f"
             ],
             [
              0.2222222222222222,
              "#7201a8"
             ],
             [
              0.3333333333333333,
              "#9c179e"
             ],
             [
              0.4444444444444444,
              "#bd3786"
             ],
             [
              0.5555555555555556,
              "#d8576b"
             ],
             [
              0.6666666666666666,
              "#ed7953"
             ],
             [
              0.7777777777777778,
              "#fb9f3a"
             ],
             [
              0.8888888888888888,
              "#fdca26"
             ],
             [
              1,
              "#f0f921"
             ]
            ],
            "type": "histogram2d"
           }
          ],
          "histogram2dcontour": [
           {
            "colorbar": {
             "outlinewidth": 0,
             "ticks": ""
            },
            "colorscale": [
             [
              0,
              "#0d0887"
             ],
             [
              0.1111111111111111,
              "#46039f"
             ],
             [
              0.2222222222222222,
              "#7201a8"
             ],
             [
              0.3333333333333333,
              "#9c179e"
             ],
             [
              0.4444444444444444,
              "#bd3786"
             ],
             [
              0.5555555555555556,
              "#d8576b"
             ],
             [
              0.6666666666666666,
              "#ed7953"
             ],
             [
              0.7777777777777778,
              "#fb9f3a"
             ],
             [
              0.8888888888888888,
              "#fdca26"
             ],
             [
              1,
              "#f0f921"
             ]
            ],
            "type": "histogram2dcontour"
           }
          ],
          "mesh3d": [
           {
            "colorbar": {
             "outlinewidth": 0,
             "ticks": ""
            },
            "type": "mesh3d"
           }
          ],
          "parcoords": [
           {
            "line": {
             "colorbar": {
              "outlinewidth": 0,
              "ticks": ""
             }
            },
            "type": "parcoords"
           }
          ],
          "pie": [
           {
            "automargin": true,
            "type": "pie"
           }
          ],
          "scatter": [
           {
            "fillpattern": {
             "fillmode": "overlay",
             "size": 10,
             "solidity": 0.2
            },
            "type": "scatter"
           }
          ],
          "scatter3d": [
           {
            "line": {
             "colorbar": {
              "outlinewidth": 0,
              "ticks": ""
             }
            },
            "marker": {
             "colorbar": {
              "outlinewidth": 0,
              "ticks": ""
             }
            },
            "type": "scatter3d"
           }
          ],
          "scattercarpet": [
           {
            "marker": {
             "colorbar": {
              "outlinewidth": 0,
              "ticks": ""
             }
            },
            "type": "scattercarpet"
           }
          ],
          "scattergeo": [
           {
            "marker": {
             "colorbar": {
              "outlinewidth": 0,
              "ticks": ""
             }
            },
            "type": "scattergeo"
           }
          ],
          "scattergl": [
           {
            "marker": {
             "colorbar": {
              "outlinewidth": 0,
              "ticks": ""
             }
            },
            "type": "scattergl"
           }
          ],
          "scattermap": [
           {
            "marker": {
             "colorbar": {
              "outlinewidth": 0,
              "ticks": ""
             }
            },
            "type": "scattermap"
           }
          ],
          "scattermapbox": [
           {
            "marker": {
             "colorbar": {
              "outlinewidth": 0,
              "ticks": ""
             }
            },
            "type": "scattermapbox"
           }
          ],
          "scatterpolar": [
           {
            "marker": {
             "colorbar": {
              "outlinewidth": 0,
              "ticks": ""
             }
            },
            "type": "scatterpolar"
           }
          ],
          "scatterpolargl": [
           {
            "marker": {
             "colorbar": {
              "outlinewidth": 0,
              "ticks": ""
             }
            },
            "type": "scatterpolargl"
           }
          ],
          "scatterternary": [
           {
            "marker": {
             "colorbar": {
              "outlinewidth": 0,
              "ticks": ""
             }
            },
            "type": "scatterternary"
           }
          ],
          "surface": [
           {
            "colorbar": {
             "outlinewidth": 0,
             "ticks": ""
            },
            "colorscale": [
             [
              0,
              "#0d0887"
             ],
             [
              0.1111111111111111,
              "#46039f"
             ],
             [
              0.2222222222222222,
              "#7201a8"
             ],
             [
              0.3333333333333333,
              "#9c179e"
             ],
             [
              0.4444444444444444,
              "#bd3786"
             ],
             [
              0.5555555555555556,
              "#d8576b"
             ],
             [
              0.6666666666666666,
              "#ed7953"
             ],
             [
              0.7777777777777778,
              "#fb9f3a"
             ],
             [
              0.8888888888888888,
              "#fdca26"
             ],
             [
              1,
              "#f0f921"
             ]
            ],
            "type": "surface"
           }
          ],
          "table": [
           {
            "cells": {
             "fill": {
              "color": "#EBF0F8"
             },
             "line": {
              "color": "white"
             }
            },
            "header": {
             "fill": {
              "color": "#C8D4E3"
             },
             "line": {
              "color": "white"
             }
            },
            "type": "table"
           }
          ]
         },
         "layout": {
          "annotationdefaults": {
           "arrowcolor": "#2a3f5f",
           "arrowhead": 0,
           "arrowwidth": 1
          },
          "autotypenumbers": "strict",
          "coloraxis": {
           "colorbar": {
            "outlinewidth": 0,
            "ticks": ""
           }
          },
          "colorscale": {
           "diverging": [
            [
             0,
             "#8e0152"
            ],
            [
             0.1,
             "#c51b7d"
            ],
            [
             0.2,
             "#de77ae"
            ],
            [
             0.3,
             "#f1b6da"
            ],
            [
             0.4,
             "#fde0ef"
            ],
            [
             0.5,
             "#f7f7f7"
            ],
            [
             0.6,
             "#e6f5d0"
            ],
            [
             0.7,
             "#b8e186"
            ],
            [
             0.8,
             "#7fbc41"
            ],
            [
             0.9,
             "#4d9221"
            ],
            [
             1,
             "#276419"
            ]
           ],
           "sequential": [
            [
             0,
             "#0d0887"
            ],
            [
             0.1111111111111111,
             "#46039f"
            ],
            [
             0.2222222222222222,
             "#7201a8"
            ],
            [
             0.3333333333333333,
             "#9c179e"
            ],
            [
             0.4444444444444444,
             "#bd3786"
            ],
            [
             0.5555555555555556,
             "#d8576b"
            ],
            [
             0.6666666666666666,
             "#ed7953"
            ],
            [
             0.7777777777777778,
             "#fb9f3a"
            ],
            [
             0.8888888888888888,
             "#fdca26"
            ],
            [
             1,
             "#f0f921"
            ]
           ],
           "sequentialminus": [
            [
             0,
             "#0d0887"
            ],
            [
             0.1111111111111111,
             "#46039f"
            ],
            [
             0.2222222222222222,
             "#7201a8"
            ],
            [
             0.3333333333333333,
             "#9c179e"
            ],
            [
             0.4444444444444444,
             "#bd3786"
            ],
            [
             0.5555555555555556,
             "#d8576b"
            ],
            [
             0.6666666666666666,
             "#ed7953"
            ],
            [
             0.7777777777777778,
             "#fb9f3a"
            ],
            [
             0.8888888888888888,
             "#fdca26"
            ],
            [
             1,
             "#f0f921"
            ]
           ]
          },
          "colorway": [
           "#636efa",
           "#EF553B",
           "#00cc96",
           "#ab63fa",
           "#FFA15A",
           "#19d3f3",
           "#FF6692",
           "#B6E880",
           "#FF97FF",
           "#FECB52"
          ],
          "font": {
           "color": "#2a3f5f"
          },
          "geo": {
           "bgcolor": "white",
           "lakecolor": "white",
           "landcolor": "#E5ECF6",
           "showlakes": true,
           "showland": true,
           "subunitcolor": "white"
          },
          "hoverlabel": {
           "align": "left"
          },
          "hovermode": "closest",
          "mapbox": {
           "style": "light"
          },
          "paper_bgcolor": "white",
          "plot_bgcolor": "#E5ECF6",
          "polar": {
           "angularaxis": {
            "gridcolor": "white",
            "linecolor": "white",
            "ticks": ""
           },
           "bgcolor": "#E5ECF6",
           "radialaxis": {
            "gridcolor": "white",
            "linecolor": "white",
            "ticks": ""
           }
          },
          "scene": {
           "xaxis": {
            "backgroundcolor": "#E5ECF6",
            "gridcolor": "white",
            "gridwidth": 2,
            "linecolor": "white",
            "showbackground": true,
            "ticks": "",
            "zerolinecolor": "white"
           },
           "yaxis": {
            "backgroundcolor": "#E5ECF6",
            "gridcolor": "white",
            "gridwidth": 2,
            "linecolor": "white",
            "showbackground": true,
            "ticks": "",
            "zerolinecolor": "white"
           },
           "zaxis": {
            "backgroundcolor": "#E5ECF6",
            "gridcolor": "white",
            "gridwidth": 2,
            "linecolor": "white",
            "showbackground": true,
            "ticks": "",
            "zerolinecolor": "white"
           }
          },
          "shapedefaults": {
           "line": {
            "color": "#2a3f5f"
           }
          },
          "ternary": {
           "aaxis": {
            "gridcolor": "white",
            "linecolor": "white",
            "ticks": ""
           },
           "baxis": {
            "gridcolor": "white",
            "linecolor": "white",
            "ticks": ""
           },
           "bgcolor": "#E5ECF6",
           "caxis": {
            "gridcolor": "white",
            "linecolor": "white",
            "ticks": ""
           }
          },
          "title": {
           "x": 0.05
          },
          "xaxis": {
           "automargin": true,
           "gridcolor": "white",
           "linecolor": "white",
           "ticks": "",
           "title": {
            "standoff": 15
           },
           "zerolinecolor": "white",
           "zerolinewidth": 2
          },
          "yaxis": {
           "automargin": true,
           "gridcolor": "white",
           "linecolor": "white",
           "ticks": "",
           "title": {
            "standoff": 15
           },
           "zerolinecolor": "white",
           "zerolinewidth": 2
          }
         }
        },
        "title": {
         "text": "Transfer Entropy Heatmap Over Time"
        }
       }
      }
     },
     "metadata": {},
     "output_type": "display_data"
    }
   ],
   "source": [
    "endpoints = [end_date for _, end_date, _ in whole_window]\n",
    "plotting.create_measure_heatmap(np.expand_dims(signif_te_matrix, axis=2), asset_classes_discrete.columns, endpoints, \"Transfer Entropy\")"
   ]
  },
  {
   "cell_type": "code",
   "execution_count": 38,
   "metadata": {},
   "outputs": [],
   "source": [
    "import network\n",
    "import networkx as nx"
   ]
  },
  {
   "cell_type": "code",
   "execution_count": 41,
   "metadata": {},
   "outputs": [],
   "source": [
    "G = nx.from_numpy_array(signif_te_matrix, create_using=nx.DiGraph)\n",
    "mapping = {i: name for i, name in enumerate(asset_classes_discrete.columns)}\n",
    "G = nx.relabel_nodes(G, mapping)\n",
    "edge_weights = nx.get_edge_attributes(G, 'weight')"
   ]
  },
  {
   "cell_type": "code",
   "execution_count": 42,
   "metadata": {},
   "outputs": [
    {
     "data": {
      "image/png": "[encoded data removed]",
      "text/plain": [
       "<Figure size 640x480 with 1 Axes>"
      ]
     },
     "metadata": {},
     "output_type": "display_data"
    }
   ],
   "source": [
    "nx.draw(G, \n",
    "        with_labels=True,\n",
    "        width = [edge_weights.get(edge, 1) * 50 for edge in G.edges])"
   ]
  },
  {
   "cell_type": "code",
   "execution_count": 45,
   "metadata": {},
   "outputs": [],
   "source": [
    "def network_properties(G):\n",
    "\n",
    "    analysis = {}\n",
    "\n",
    "    in_degrees = dict(G.in_degree(weight=\"weight\"))\n",
    "    out_degrees = dict(G.out_degree(weight=\"weight\"))\n",
    "    analysis['in_degree'] = pd.Series(in_degrees)\n",
    "    analysis['out_degree'] = pd.Series(out_degrees)\n",
    "    analysis['betweenness_centr'] = nx.betweenness_centrality(G, weight=\"weight\")\n",
    "    analysis['e_vector_centr'] = nx.eigenvector_centrality(G, weight=\"weight\")\n",
    "    analysis['clustering'] = nx.clustering(G, weight=\"weight\")\n",
    "    return pd.DataFrame(analysis)"
   ]
  },
  {
   "cell_type": "code",
   "execution_count": 46,
   "metadata": {},
   "outputs": [
    {
     "data": {
      "text/html": [
       "<div>\n",
       "<style scoped>\n",
       "    .dataframe tbody tr th:only-of-type {\n",
       "        vertical-align: middle;\n",
       "    }\n",
       "\n",
       "    .dataframe tbody tr th {\n",
       "        vertical-align: top;\n",
       "    }\n",
       "\n",
       "    .dataframe thead th {\n",
       "        text-align: right;\n",
       "    }\n",
       "</style>\n",
       "<table border=\"1\" class=\"dataframe\">\n",
       "  <thead>\n",
       "    <tr style=\"text-align: right;\">\n",
       "      <th></th>\n",
       "      <th>in_degree</th>\n",
       "      <th>out_degree</th>\n",
       "      <th>betweenness_centr</th>\n",
       "      <th>e_vector_centr</th>\n",
       "      <th>clustering</th>\n",
       "    </tr>\n",
       "  </thead>\n",
       "  <tbody>\n",
       "    <tr>\n",
       "      <th>commodity</th>\n",
       "      <td>0.121335</td>\n",
       "      <td>0.081916</td>\n",
       "      <td>0.017857</td>\n",
       "      <td>0.379142</td>\n",
       "      <td>0.375278</td>\n",
       "    </tr>\n",
       "    <tr>\n",
       "      <th>credit</th>\n",
       "      <td>0.120490</td>\n",
       "      <td>0.107775</td>\n",
       "      <td>0.000000</td>\n",
       "      <td>0.362590</td>\n",
       "      <td>0.402672</td>\n",
       "    </tr>\n",
       "    <tr>\n",
       "      <th>currency</th>\n",
       "      <td>0.106975</td>\n",
       "      <td>0.063906</td>\n",
       "      <td>0.017857</td>\n",
       "      <td>0.335800</td>\n",
       "      <td>0.340412</td>\n",
       "    </tr>\n",
       "    <tr>\n",
       "      <th>energy</th>\n",
       "      <td>0.115035</td>\n",
       "      <td>0.101366</td>\n",
       "      <td>0.000000</td>\n",
       "      <td>0.357180</td>\n",
       "      <td>0.403810</td>\n",
       "    </tr>\n",
       "    <tr>\n",
       "      <th>equity</th>\n",
       "      <td>0.095040</td>\n",
       "      <td>0.136627</td>\n",
       "      <td>0.000000</td>\n",
       "      <td>0.311813</td>\n",
       "      <td>0.427467</td>\n",
       "    </tr>\n",
       "    <tr>\n",
       "      <th>interest</th>\n",
       "      <td>0.100068</td>\n",
       "      <td>0.128503</td>\n",
       "      <td>0.000000</td>\n",
       "      <td>0.313181</td>\n",
       "      <td>0.410101</td>\n",
       "    </tr>\n",
       "    <tr>\n",
       "      <th>metals</th>\n",
       "      <td>0.108840</td>\n",
       "      <td>0.094882</td>\n",
       "      <td>0.000000</td>\n",
       "      <td>0.342030</td>\n",
       "      <td>0.380073</td>\n",
       "    </tr>\n",
       "    <tr>\n",
       "      <th>real_estate</th>\n",
       "      <td>0.126417</td>\n",
       "      <td>0.159703</td>\n",
       "      <td>0.017857</td>\n",
       "      <td>0.397981</td>\n",
       "      <td>0.442294</td>\n",
       "    </tr>\n",
       "    <tr>\n",
       "      <th>volatility</th>\n",
       "      <td>0.036909</td>\n",
       "      <td>0.056428</td>\n",
       "      <td>0.446429</td>\n",
       "      <td>0.117293</td>\n",
       "      <td>0.221717</td>\n",
       "    </tr>\n",
       "  </tbody>\n",
       "</table>\n",
       "</div>"
      ],
      "text/plain": [
       "             in_degree  out_degree  betweenness_centr  e_vector_centr  \\\n",
       "commodity     0.121335    0.081916           0.017857        0.379142   \n",
       "credit        0.120490    0.107775           0.000000        0.362590   \n",
       "currency      0.106975    0.063906           0.017857        0.335800   \n",
       "energy        0.115035    0.101366           0.000000        0.357180   \n",
       "equity        0.095040    0.136627           0.000000        0.311813   \n",
       "interest      0.100068    0.128503           0.000000        0.313181   \n",
       "metals        0.108840    0.094882           0.000000        0.342030   \n",
       "real_estate   0.126417    0.159703           0.017857        0.397981   \n",
       "volatility    0.036909    0.056428           0.446429        0.117293   \n",
       "\n",
       "             clustering  \n",
       "commodity      0.375278  \n",
       "credit         0.402672  \n",
       "currency       0.340412  \n",
       "energy         0.403810  \n",
       "equity         0.427467  \n",
       "interest       0.410101  \n",
       "metals         0.380073  \n",
       "real_estate    0.442294  \n",
       "volatility     0.221717  "
      ]
     },
     "execution_count": 46,
     "metadata": {},
     "output_type": "execute_result"
    }
   ],
   "source": [
    "network_properties(G)"
   ]
  },
  {
   "cell_type": "code",
   "execution_count": 51,
   "metadata": {},
   "outputs": [
    {
     "data": {
      "application/vnd.plotly.v1+json": {
       "config": {
        "plotlyServerURL": "https://plot.ly"
       },
       "data": [
        {
         "colorscale": [
          [
           0,
           "#440154"
          ],
          [
           0.1111111111111111,
           "#482878"
          ],
          [
           0.2222222222222222,
           "#3e4989"
          ],
          [
           0.3333333333333333,
           "#31688e"
          ],
          [
           0.4444444444444444,
           "#26828e"
          ],
          [
           0.5555555555555556,
           "#1f9e89"
          ],
          [
           0.6666666666666666,
           "#35b779"
          ],
          [
           0.7777777777777778,
           "#6ece58"
          ],
          [
           0.8888888888888888,
           "#b5de2b"
          ],
          [
           1,
           "#fde725"
          ]
         ],
         "type": "heatmap",
         "x": [
          "commodity",
          "credit",
          "currency",
          "energy",
          "equity",
          "interest",
          "metals",
          "real_estate",
          "volatility"
         ],
         "y": [
          "commodity",
          "credit",
          "currency",
          "energy",
          "equity",
          "interest",
          "metals",
          "real_estate",
          "volatility"
         ],
         "z": {
          "bdata": "AAAAAAAAAADMXOXE+r41PzQbn/r5qEU/AAAAAAAAAACayd/+KPdNP5jJjDPADT4/miGq/8ObSD9mYia3AMtSPzOfLEVDe1U/aJY+lKTzMz8AAAAAAAAAAAAAAAAAAAAAAIhQh0ohVj8AAAAAAAAAAJqdbGhtCl0/AEipIOqUTD9mhp7lpO5XP8yMurtwj08/ZrY0pDGAUT8AAAAAAAAAAAAAAAAAAAAAAOqdGLPBZT8A4POWnX82P5olPr1WO1U/zUCs4m/GUz+aIXE6QYREPwAAAAAAAAAAmgHOGK56Tz8AxlTokFJhPzPzWDvuLko/AAAAAAAAAAAASDUZZDJIP8xEVCbotkk/ZiaPSTsGQD9m1jUJncZGP5pH2RldLWM/mksQjA9BaT8zBaWnxp91P5gpzCZYqzk/zTpMQRw/Yj8AAAAAAAAAAAAAAAAAAAAAAG7sDrALZD/N5l92sOJnP81CJWIvv3U/mnGjbwe4Rj8A6BRT/MdIPwAAAAAAAAAAM2PQk3grWj8AAAAAAAAAAAAAAAAAAAAAZrZaD/gjRz9mGjoX+O9dPwCgyrk2Z1I/zR9H9+zWcT/N1NVPlhpZPwCQeoHdIlo/AAAAAAAAAACaEezrOOVCP5jZ6U2++zw/AAAAAAAAAAAAAAAAAAAAADSbmY3Wskg/mvAp/lNdcj+ag/jKOV51P2YGddfa/kM/ABDxbCE0MD80MySt8E1DP2by6WWknF4/ADibjQgGTT8AAAAAAAAAAAC4dFOLWUU/mrVa5CyEXz8AymFN435mPwAAAAAAAAAA0CyGj5CsKD8AZCtjTCZUPwAAAAAAAAAAZlJth0njWj8AcJqoTSk7PwAAAAAAAAAA",
          "dtype": "f8",
          "shape": "9, 9"
         }
        }
       ],
       "frames": [
        {
         "data": [
          {
           "colorscale": [
            [
             0,
             "#440154"
            ],
            [
             0.1111111111111111,
             "#482878"
            ],
            [
             0.2222222222222222,
             "#3e4989"
            ],
            [
             0.3333333333333333,
             "#31688e"
            ],
            [
             0.4444444444444444,
             "#26828e"
            ],
            [
             0.5555555555555556,
             "#1f9e89"
            ],
            [
             0.6666666666666666,
             "#35b779"
            ],
            [
             0.7777777777777778,
             "#6ece58"
            ],
            [
             0.8888888888888888,
             "#b5de2b"
            ],
            [
             1,
             "#fde725"
            ]
           ],
           "type": "heatmap",
           "x": [
            "commodity",
            "credit",
            "currency",
            "energy",
            "equity",
            "interest",
            "metals",
            "real_estate",
            "volatility"
           ],
           "y": [
            "commodity",
            "credit",
            "currency",
            "energy",
            "equity",
            "interest",
            "metals",
            "real_estate",
            "volatility"
           ],
           "z": {
            "bdata": "AAAAAAAAAADMXOXE+r41PzQbn/r5qEU/AAAAAAAAAACayd/+KPdNP5jJjDPADT4/miGq/8ObSD9mYia3AMtSPzOfLEVDe1U/aJY+lKTzMz8AAAAAAAAAAAAAAAAAAAAAAIhQh0ohVj8AAAAAAAAAAJqdbGhtCl0/AEipIOqUTD9mhp7lpO5XP8yMurtwj08/ZrY0pDGAUT8AAAAAAAAAAAAAAAAAAAAAAOqdGLPBZT8A4POWnX82P5olPr1WO1U/zUCs4m/GUz+aIXE6QYREPwAAAAAAAAAAmgHOGK56Tz8AxlTokFJhPzPzWDvuLko/AAAAAAAAAAAASDUZZDJIP8xEVCbotkk/ZiaPSTsGQD9m1jUJncZGP5pH2RldLWM/mksQjA9BaT8zBaWnxp91P5gpzCZYqzk/zTpMQRw/Yj8AAAAAAAAAAAAAAAAAAAAAAG7sDrALZD/N5l92sOJnP81CJWIvv3U/mnGjbwe4Rj8A6BRT/MdIPwAAAAAAAAAAM2PQk3grWj8AAAAAAAAAAAAAAAAAAAAAZrZaD/gjRz9mGjoX+O9dPwCgyrk2Z1I/zR9H9+zWcT/N1NVPlhpZPwCQeoHdIlo/AAAAAAAAAACaEezrOOVCP5jZ6U2++zw/AAAAAAAAAAAAAAAAAAAAADSbmY3Wskg/mvAp/lNdcj+ag/jKOV51P2YGddfa/kM/ABDxbCE0MD80MySt8E1DP2by6WWknF4/ADibjQgGTT8AAAAAAAAAAAC4dFOLWUU/mrVa5CyEXz8AymFN435mPwAAAAAAAAAA0CyGj5CsKD8AZCtjTCZUPwAAAAAAAAAAZlJth0njWj8AcJqoTSk7PwAAAAAAAAAA",
            "dtype": "f8",
            "shape": "9, 9"
           }
          }
         ],
         "name": "Window 0"
        }
       ],
       "layout": {
        "sliders": [
         {
          "active": 0,
          "currentvalue": {
           "font": {
            "size": 20
           },
           "prefix": "Year up to: ",
           "xanchor": "right"
          },
          "pad": {
           "b": 10,
           "t": 50
          },
          "steps": [
           {
            "args": [
             [
              "Window 0"
             ],
             {
              "frame": {
               "duration": 0
              },
              "mode": "immediate"
             }
            ],
            "label": "2024",
            "method": "animate"
           }
          ]
         }
        ],
        "template": {
         "data": {
          "bar": [
           {
            "error_x": {
             "color": "#2a3f5f"
            },
            "error_y": {
             "color": "#2a3f5f"
            },
            "marker": {
             "line": {
              "color": "#E5ECF6",
              "width": 0.5
             },
             "pattern": {
              "fillmode": "overlay",
              "size": 10,
              "solidity": 0.2
             }
            },
            "type": "bar"
           }
          ],
          "barpolar": [
           {
            "marker": {
             "line": {
              "color": "#E5ECF6",
              "width": 0.5
             },
             "pattern": {
              "fillmode": "overlay",
              "size": 10,
              "solidity": 0.2
             }
            },
            "type": "barpolar"
           }
          ],
          "carpet": [
           {
            "aaxis": {
             "endlinecolor": "#2a3f5f",
             "gridcolor": "white",
             "linecolor": "white",
             "minorgridcolor": "white",
             "startlinecolor": "#2a3f5f"
            },
            "baxis": {
             "endlinecolor": "#2a3f5f",
             "gridcolor": "white",
             "linecolor": "white",
             "minorgridcolor": "white",
             "startlinecolor": "#2a3f5f"
            },
            "type": "carpet"
           }
          ],
          "choropleth": [
           {
            "colorbar": {
             "outlinewidth": 0,
             "ticks": ""
            },
            "type": "choropleth"
           }
          ],
          "contour": [
           {
            "colorbar": {
             "outlinewidth": 0,
             "ticks": ""
            },
            "colorscale": [
             [
              0,
              "#0d0887"
             ],
             [
              0.1111111111111111,
              "#46039f"
             ],
             [
              0.2222222222222222,
              "#7201a8"
             ],
             [
              0.3333333333333333,
              "#9c179e"
             ],
             [
              0.4444444444444444,
              "#bd3786"
             ],
             [
              0.5555555555555556,
              "#d8576b"
             ],
             [
              0.6666666666666666,
              "#ed7953"
             ],
             [
              0.7777777777777778,
              "#fb9f3a"
             ],
             [
              0.8888888888888888,
              "#fdca26"
             ],
             [
              1,
              "#f0f921"
             ]
            ],
            "type": "contour"
           }
          ],
          "contourcarpet": [
           {
            "colorbar": {
             "outlinewidth": 0,
             "ticks": ""
            },
            "type": "contourcarpet"
           }
          ],
          "heatmap": [
           {
            "colorbar": {
             "outlinewidth": 0,
             "ticks": ""
            },
            "colorscale": [
             [
              0,
              "#0d0887"
             ],
             [
              0.1111111111111111,
              "#46039f"
             ],
             [
              0.2222222222222222,
              "#7201a8"
             ],
             [
              0.3333333333333333,
              "#9c179e"
             ],
             [
              0.4444444444444444,
              "#bd3786"
             ],
             [
              0.5555555555555556,
              "#d8576b"
             ],
             [
              0.6666666666666666,
              "#ed7953"
             ],
             [
              0.7777777777777778,
              "#fb9f3a"
             ],
             [
              0.8888888888888888,
              "#fdca26"
             ],
             [
              1,
              "#f0f921"
             ]
            ],
            "type": "heatmap"
           }
          ],
          "histogram": [
           {
            "marker": {
             "pattern": {
              "fillmode": "overlay",
              "size": 10,
              "solidity": 0.2
             }
            },
            "type": "histogram"
           }
          ],
          "histogram2d": [
           {
            "colorbar": {
             "outlinewidth": 0,
             "ticks": ""
            },
            "colorscale": [
             [
              0,
              "#0d0887"
             ],
             [
              0.1111111111111111,
              "#46039f"
             ],
             [
              0.2222222222222222,
              "#7201a8"
             ],
             [
              0.3333333333333333,
              "#9c179e"
             ],
             [
              0.4444444444444444,
              "#bd3786"
             ],
             [
              0.5555555555555556,
              "#d8576b"
             ],
             [
              0.6666666666666666,
              "#ed7953"
             ],
             [
              0.7777777777777778,
              "#fb9f3a"
             ],
             [
              0.8888888888888888,
              "#fdca26"
             ],
             [
              1,
              "#f0f921"
             ]
            ],
            "type": "histogram2d"
           }
          ],
          "histogram2dcontour": [
           {
            "colorbar": {
             "outlinewidth": 0,
             "ticks": ""
            },
            "colorscale": [
             [
              0,
              "#0d0887"
             ],
             [
              0.1111111111111111,
              "#46039f"
             ],
             [
              0.2222222222222222,
              "#7201a8"
             ],
             [
              0.3333333333333333,
              "#9c179e"
             ],
             [
              0.4444444444444444,
              "#bd3786"
             ],
             [
              0.5555555555555556,
              "#d8576b"
             ],
             [
              0.6666666666666666,
              "#ed7953"
             ],
             [
              0.7777777777777778,
              "#fb9f3a"
             ],
             [
              0.8888888888888888,
              "#fdca26"
             ],
             [
              1,
              "#f0f921"
             ]
            ],
            "type": "histogram2dcontour"
           }
          ],
          "mesh3d": [
           {
            "colorbar": {
             "outlinewidth": 0,
             "ticks": ""
            },
            "type": "mesh3d"
           }
          ],
          "parcoords": [
           {
            "line": {
             "colorbar": {
              "outlinewidth": 0,
              "ticks": ""
             }
            },
            "type": "parcoords"
           }
          ],
          "pie": [
           {
            "automargin": true,
            "type": "pie"
           }
          ],
          "scatter": [
           {
            "fillpattern": {
             "fillmode": "overlay",
             "size": 10,
             "solidity": 0.2
            },
            "type": "scatter"
           }
          ],
          "scatter3d": [
           {
            "line": {
             "colorbar": {
              "outlinewidth": 0,
              "ticks": ""
             }
            },
            "marker": {
             "colorbar": {
              "outlinewidth": 0,
              "ticks": ""
             }
            },
            "type": "scatter3d"
           }
          ],
          "scattercarpet": [
           {
            "marker": {
             "colorbar": {
              "outlinewidth": 0,
              "ticks": ""
             }
            },
            "type": "scattercarpet"
           }
          ],
          "scattergeo": [
           {
            "marker": {
             "colorbar": {
              "outlinewidth": 0,
              "ticks": ""
             }
            },
            "type": "scattergeo"
           }
          ],
          "scattergl": [
           {
            "marker": {
             "colorbar": {
              "outlinewidth": 0,
              "ticks": ""
             }
            },
            "type": "scattergl"
           }
          ],
          "scattermap": [
           {
            "marker": {
             "colorbar": {
              "outlinewidth": 0,
              "ticks": ""
             }
            },
            "type": "scattermap"
           }
          ],
          "scattermapbox": [
           {
            "marker": {
             "colorbar": {
              "outlinewidth": 0,
              "ticks": ""
             }
            },
            "type": "scattermapbox"
           }
          ],
          "scatterpolar": [
           {
            "marker": {
             "colorbar": {
              "outlinewidth": 0,
              "ticks": ""
             }
            },
            "type": "scatterpolar"
           }
          ],
          "scatterpolargl": [
           {
            "marker": {
             "colorbar": {
              "outlinewidth": 0,
              "ticks": ""
             }
            },
            "type": "scatterpolargl"
           }
          ],
          "scatterternary": [
           {
            "marker": {
             "colorbar": {
              "outlinewidth": 0,
              "ticks": ""
             }
            },
            "type": "scatterternary"
           }
          ],
          "surface": [
           {
            "colorbar": {
             "outlinewidth": 0,
             "ticks": ""
            },
            "colorscale": [
             [
              0,
              "#0d0887"
             ],
             [
              0.1111111111111111,
              "#46039f"
             ],
             [
              0.2222222222222222,
              "#7201a8"
             ],
             [
              0.3333333333333333,
              "#9c179e"
             ],
             [
              0.4444444444444444,
              "#bd3786"
             ],
             [
              0.5555555555555556,
              "#d8576b"
             ],
             [
              0.6666666666666666,
              "#ed7953"
             ],
             [
              0.7777777777777778,
              "#fb9f3a"
             ],
             [
              0.8888888888888888,
              "#fdca26"
             ],
             [
              1,
              "#f0f921"
             ]
            ],
            "type": "surface"
           }
          ],
          "table": [
           {
            "cells": {
             "fill": {
              "color": "#EBF0F8"
             },
             "line": {
              "color": "white"
             }
            },
            "header": {
             "fill": {
              "color": "#C8D4E3"
             },
             "line": {
              "color": "white"
             }
            },
            "type": "table"
           }
          ]
         },
         "layout": {
          "annotationdefaults": {
           "arrowcolor": "#2a3f5f",
           "arrowhead": 0,
           "arrowwidth": 1
          },
          "autotypenumbers": "strict",
          "coloraxis": {
           "colorbar": {
            "outlinewidth": 0,
            "ticks": ""
           }
          },
          "colorscale": {
           "diverging": [
            [
             0,
             "#8e0152"
            ],
            [
             0.1,
             "#c51b7d"
            ],
            [
             0.2,
             "#de77ae"
            ],
            [
             0.3,
             "#f1b6da"
            ],
            [
             0.4,
             "#fde0ef"
            ],
            [
             0.5,
             "#f7f7f7"
            ],
            [
             0.6,
             "#e6f5d0"
            ],
            [
             0.7,
             "#b8e186"
            ],
            [
             0.8,
             "#7fbc41"
            ],
            [
             0.9,
             "#4d9221"
            ],
            [
             1,
             "#276419"
            ]
           ],
           "sequential": [
            [
             0,
             "#0d0887"
            ],
            [
             0.1111111111111111,
             "#46039f"
            ],
            [
             0.2222222222222222,
             "#7201a8"
            ],
            [
             0.3333333333333333,
             "#9c179e"
            ],
            [
             0.4444444444444444,
             "#bd3786"
            ],
            [
             0.5555555555555556,
             "#d8576b"
            ],
            [
             0.6666666666666666,
             "#ed7953"
            ],
            [
             0.7777777777777778,
             "#fb9f3a"
            ],
            [
             0.8888888888888888,
             "#fdca26"
            ],
            [
             1,
             "#f0f921"
            ]
           ],
           "sequentialminus": [
            [
             0,
             "#0d0887"
            ],
            [
             0.1111111111111111,
             "#46039f"
            ],
            [
             0.2222222222222222,
             "#7201a8"
            ],
            [
             0.3333333333333333,
             "#9c179e"
            ],
            [
             0.4444444444444444,
             "#bd3786"
            ],
            [
             0.5555555555555556,
             "#d8576b"
            ],
            [
             0.6666666666666666,
             "#ed7953"
            ],
            [
             0.7777777777777778,
             "#fb9f3a"
            ],
            [
             0.8888888888888888,
             "#fdca26"
            ],
            [
             1,
             "#f0f921"
            ]
           ]
          },
          "colorway": [
           "#636efa",
           "#EF553B",
           "#00cc96",
           "#ab63fa",
           "#FFA15A",
           "#19d3f3",
           "#FF6692",
           "#B6E880",
           "#FF97FF",
           "#FECB52"
          ],
          "font": {
           "color": "#2a3f5f"
          },
          "geo": {
           "bgcolor": "white",
           "lakecolor": "white",
           "landcolor": "#E5ECF6",
           "showlakes": true,
           "showland": true,
           "subunitcolor": "white"
          },
          "hoverlabel": {
           "align": "left"
          },
          "hovermode": "closest",
          "mapbox": {
           "style": "light"
          },
          "paper_bgcolor": "white",
          "plot_bgcolor": "#E5ECF6",
          "polar": {
           "angularaxis": {
            "gridcolor": "white",
            "linecolor": "white",
            "ticks": ""
           },
           "bgcolor": "#E5ECF6",
           "radialaxis": {
            "gridcolor": "white",
            "linecolor": "white",
            "ticks": ""
           }
          },
          "scene": {
           "xaxis": {
            "backgroundcolor": "#E5ECF6",
            "gridcolor": "white",
            "gridwidth": 2,
            "linecolor": "white",
            "showbackground": true,
            "ticks": "",
            "zerolinecolor": "white"
           },
           "yaxis": {
            "backgroundcolor": "#E5ECF6",
            "gridcolor": "white",
            "gridwidth": 2,
            "linecolor": "white",
            "showbackground": true,
            "ticks": "",
            "zerolinecolor": "white"
           },
           "zaxis": {
            "backgroundcolor": "#E5ECF6",
            "gridcolor": "white",
            "gridwidth": 2,
            "linecolor": "white",
            "showbackground": true,
            "ticks": "",
            "zerolinecolor": "white"
           }
          },
          "shapedefaults": {
           "line": {
            "color": "#2a3f5f"
           }
          },
          "ternary": {
           "aaxis": {
            "gridcolor": "white",
            "linecolor": "white",
            "ticks": ""
           },
           "baxis": {
            "gridcolor": "white",
            "linecolor": "white",
            "ticks": ""
           },
           "bgcolor": "#E5ECF6",
           "caxis": {
            "gridcolor": "white",
            "linecolor": "white",
            "ticks": ""
           }
          },
          "title": {
           "x": 0.05
          },
          "xaxis": {
           "automargin": true,
           "gridcolor": "white",
           "linecolor": "white",
           "ticks": "",
           "title": {
            "standoff": 15
           },
           "zerolinecolor": "white",
           "zerolinewidth": 2
          },
          "yaxis": {
           "automargin": true,
           "gridcolor": "white",
           "linecolor": "white",
           "ticks": "",
           "title": {
            "standoff": 15
           },
           "zerolinecolor": "white",
           "zerolinewidth": 2
          }
         }
        },
        "title": {
         "text": "Transfer Entropy Heatmap Over Time"
        }
       }
      }
     },
     "metadata": {},
     "output_type": "display_data"
    }
   ],
   "source": [
    "def discretize(contin_data, num_bins=6):\n",
    "    # Create quantile-based bins so that each bin contains roughly equal number of data points.\n",
    "    quantiles = np.linspace(0, 100, num_bins + 1)\n",
    "    bins = np.percentile(contin_data, quantiles)\n",
    "    # Avoid duplicate bin edges in case of ties.\n",
    "    bins = np.unique(bins)\n",
    "    discretized = np.digitize(contin_data, bins[1:-1])\n",
    "        \n",
    "    return discretized\n",
    "\n",
    "asset_classes_discrete = pca_and_discretize(log_returns, tickers, 3, discretize)\n",
    "whole_window = [(asset_classes_discrete.index.min(), asset_classes_discrete.index.max(), asset_classes_discrete)]\n",
    "te_matrix, te_matrix_surrogate = compute_measure_matrix(whole_window, measure_func = info_theory.transfer_entropy_fast, n_surrogates=10, k=1, l=1)\n",
    "signif_te_matrix = np.squeeze(np.maximum((te_matrix - te_matrix_surrogate), 0), axis=2)\n",
    "endpoints = [end_date for _, end_date, _ in whole_window]\n",
    "plotting.create_measure_heatmap(np.expand_dims(signif_te_matrix, axis=2), asset_classes_discrete.columns, endpoints, \"Transfer Entropy\")"
   ]
  },
  {
   "cell_type": "code",
   "execution_count": null,
   "metadata": {},
   "outputs": [],
   "source": []
  }
 ],
 "metadata": {
  "kernelspec": {
   "display_name": "my_venv",
   "language": "python",
   "name": "python3"
  },
  "language_info": {
   "codemirror_mode": {
    "name": "ipython",
    "version": 3
   },
   "file_extension": ".py",
   "mimetype": "text/x-python",
   "name": "python",
   "nbconvert_exporter": "python",
   "pygments_lexer": "ipython3",
   "version": "3.11.1"
  }
 },
 "nbformat": 4,
 "nbformat_minor": 2
}
