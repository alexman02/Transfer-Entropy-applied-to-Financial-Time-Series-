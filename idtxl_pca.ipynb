{
 "cells": [
  {
   "cell_type": "code",
   "execution_count": 1,
   "id": "1aefd8a0",
   "metadata": {},
   "outputs": [
    {
     "name": "stdout",
     "output_type": "stream",
     "text": [
      "Tickers to drop/replace due to insufficient data:\n",
      "['FXJPEMCS', 'QCLN']\n"
     ]
    },
    {
     "name": "stderr",
     "output_type": "stream",
     "text": [
      "c:\\Users\\akhma\\OneDrive\\Onenote\\Python\\my_venv\\Lib\\site-packages\\pandas\\core\\internals\\blocks.py:393: RuntimeWarning:\n",
      "\n",
      "invalid value encountered in log\n",
      "\n"
     ]
    }
   ],
   "source": [
    "import pandas as pd\n",
    "import preprocess\n",
    "import network\n",
    "import networkx as nx\n",
    "import matplotlib.pyplot as plt\n",
    "import math\n",
    "import numpy as np\n",
    "np.math = math\n",
    "from idtxl.data import Data\n",
    "from idtxl.multivariate_te import MultivariateTE\n",
    "from idtxl.visualise_graph import plot_network\n",
    "import pickle\n",
    "\n",
    "# Define assets and file paths\n",
    "assets = [\"commodity\", \"credit\", \"currency\", \"energy\", \"equity\", \"interest\", \"metals\", \"real_estate\", \"volatility\"]\n",
    "file_paths = {asset: f\"../data/{asset}_data.xlsx\" for asset in assets}\n",
    "\n",
    "# Load data\n",
    "aligned_data, tickers = preprocess.load_and_align_data(file_paths)\n",
    "\n",
    "# Drop tickers with many missing points\n",
    "aligned_data, tickers = preprocess.drop_short_tickers(aligned_data, tickers, max_nan=50)\n",
    "aligned_data['GB03'] + 0.1\n",
    "\n",
    "# Compute log returns\n",
    "log_returns = preprocess.compute_log_returns(aligned_data)\n",
    "\n",
    "# Interest data has negative and zero values\n",
    "# interest_data = aligned_data[tickers['interest']]\n",
    "# log_returns[tickers[\"interest\"]] = interest_data\n",
    "\n",
    "# Drop NA\n",
    "log_returns = log_returns.dropna()\n",
    "\n",
    "abs_log_returns = np.abs(log_returns)"
   ]
  },
  {
   "cell_type": "code",
   "execution_count": 2,
   "id": "9c1f6936",
   "metadata": {},
   "outputs": [],
   "source": [
    "def idtxl_te_values(results):\n",
    "    n_nodes = len(results.targets_analysed)\n",
    "    te_matrix = np.zeros((n_nodes, n_nodes))\n",
    "\n",
    "    for target in results.targets_analysed:\n",
    "        res = results.get_single_target(target, fdr=False)\n",
    "\n",
    "        te_vals = res[\"selected_sources_te\"]\n",
    "        if te_vals is None:\n",
    "            continue\n",
    "        \n",
    "        sources = [src for src, _ in res[\"selected_vars_sources\"]]\n",
    "\n",
    "        for src, te in zip(sources, te_vals):\n",
    "            te_matrix[src, target] = te\n",
    "    \n",
    "    return te_matrix\n",
    "\n",
    "def idtxl_3d_te_matrix(windows_results):\n",
    "    n_nodes = len(windows_results[0].targets_analysed)\n",
    "    n_windows = len(windows_results)\n",
    "\n",
    "    te_matrix_3d = np.zeros((n_nodes, n_nodes, n_windows))\n",
    "\n",
    "    for t, results in enumerate(windows_results):\n",
    "        te_matrix_3d[:, :, t] = idtxl_te_values(results)\n",
    "\n",
    "    return te_matrix_3d\n",
    "\n",
    "def adj_matrix_to_graph(data, adj_matrix):\n",
    "    node_labels = data.columns\n",
    "    G = nx.from_numpy_array(adj_matrix, create_using=nx.DiGraph)\n",
    "    mapping = {i: name for i, name in enumerate(node_labels)}\n",
    "    G = nx.relabel_nodes(G, mapping)\n",
    "    return G"
   ]
  },
  {
   "cell_type": "code",
   "execution_count": 4,
   "id": "59c2d34d",
   "metadata": {},
   "outputs": [],
   "source": [
    "def pca_df(dataframe, tickers):\n",
    "    pca_asset_classes = {}\n",
    "    explained_variance_ratios = {}\n",
    "    asset_classes = tickers.keys()\n",
    "    for asset_class in asset_classes:\n",
    "        vals = dataframe[tickers[asset_class]]\n",
    "        pca, pca_components, explained_variance_ratio = preprocess.compute_pca(vals)\n",
    "        explained_variance_ratios[asset_class] = explained_variance_ratio\n",
    "        X = pca_components[:, 0]  # Take first principal component\n",
    "        pca_asset_classes[asset_class] = X\n",
    "    \n",
    "    dates = dataframe.index\n",
    "    pca_asset_classes = pd.DataFrame(pca_asset_classes)\n",
    "    pca_asset_classes.index = dates\n",
    "    pca_asset_classes.index = pd.to_datetime(pca_asset_classes.index)\n",
    "\n",
    "    return pca_asset_classes"
   ]
  },
  {
   "cell_type": "code",
   "execution_count": 5,
   "id": "e46d88cf",
   "metadata": {},
   "outputs": [],
   "source": [
    "pca_asset_classes = pca_df(log_returns, tickers)"
   ]
  },
  {
   "cell_type": "code",
   "execution_count": 6,
   "id": "289928dc",
   "metadata": {},
   "outputs": [
    {
     "data": {
      "text/html": [
       "<div>\n",
       "<style scoped>\n",
       "    .dataframe tbody tr th:only-of-type {\n",
       "        vertical-align: middle;\n",
       "    }\n",
       "\n",
       "    .dataframe tbody tr th {\n",
       "        vertical-align: top;\n",
       "    }\n",
       "\n",
       "    .dataframe thead th {\n",
       "        text-align: right;\n",
       "    }\n",
       "</style>\n",
       "<table border=\"1\" class=\"dataframe\">\n",
       "  <thead>\n",
       "    <tr style=\"text-align: right;\">\n",
       "      <th></th>\n",
       "      <th>commodity</th>\n",
       "      <th>credit</th>\n",
       "      <th>currency</th>\n",
       "      <th>energy</th>\n",
       "      <th>equity</th>\n",
       "      <th>interest</th>\n",
       "      <th>metals</th>\n",
       "      <th>real_estate</th>\n",
       "      <th>volatility</th>\n",
       "    </tr>\n",
       "    <tr>\n",
       "      <th>Date</th>\n",
       "      <th></th>\n",
       "      <th></th>\n",
       "      <th></th>\n",
       "      <th></th>\n",
       "      <th></th>\n",
       "      <th></th>\n",
       "      <th></th>\n",
       "      <th></th>\n",
       "      <th></th>\n",
       "    </tr>\n",
       "  </thead>\n",
       "  <tbody>\n",
       "    <tr>\n",
       "      <th>2005-01-04</th>\n",
       "      <td>-4.088475</td>\n",
       "      <td>-1.769011</td>\n",
       "      <td>4.452369</td>\n",
       "      <td>0.445588</td>\n",
       "      <td>-3.020046</td>\n",
       "      <td>1.029952</td>\n",
       "      <td>-0.896389</td>\n",
       "      <td>-1.265406</td>\n",
       "      <td>0.252375</td>\n",
       "    </tr>\n",
       "    <tr>\n",
       "      <th>2005-01-05</th>\n",
       "      <td>0.519150</td>\n",
       "      <td>0.086436</td>\n",
       "      <td>0.043246</td>\n",
       "      <td>-0.689898</td>\n",
       "      <td>-1.605163</td>\n",
       "      <td>-0.015289</td>\n",
       "      <td>-0.093783</td>\n",
       "      <td>-2.853041</td>\n",
       "      <td>0.140871</td>\n",
       "    </tr>\n",
       "    <tr>\n",
       "      <th>2005-01-06</th>\n",
       "      <td>-1.371624</td>\n",
       "      <td>-0.159507</td>\n",
       "      <td>2.164045</td>\n",
       "      <td>1.928206</td>\n",
       "      <td>0.209915</td>\n",
       "      <td>-0.361726</td>\n",
       "      <td>-0.908315</td>\n",
       "      <td>0.443454</td>\n",
       "      <td>-0.376768</td>\n",
       "    </tr>\n",
       "    <tr>\n",
       "      <th>2005-01-07</th>\n",
       "      <td>2.381578</td>\n",
       "      <td>-0.059961</td>\n",
       "      <td>1.132001</td>\n",
       "      <td>-0.333218</td>\n",
       "      <td>-0.529228</td>\n",
       "      <td>0.210705</td>\n",
       "      <td>-0.127772</td>\n",
       "      <td>0.485471</td>\n",
       "      <td>-0.627939</td>\n",
       "    </tr>\n",
       "    <tr>\n",
       "      <th>2005-01-10</th>\n",
       "      <td>0.890050</td>\n",
       "      <td>0.250446</td>\n",
       "      <td>-0.888319</td>\n",
       "      <td>0.398863</td>\n",
       "      <td>0.772065</td>\n",
       "      <td>0.119725</td>\n",
       "      <td>0.280258</td>\n",
       "      <td>-0.112006</td>\n",
       "      <td>0.084147</td>\n",
       "    </tr>\n",
       "    <tr>\n",
       "      <th>...</th>\n",
       "      <td>...</td>\n",
       "      <td>...</td>\n",
       "      <td>...</td>\n",
       "      <td>...</td>\n",
       "      <td>...</td>\n",
       "      <td>...</td>\n",
       "      <td>...</td>\n",
       "      <td>...</td>\n",
       "      <td>...</td>\n",
       "    </tr>\n",
       "    <tr>\n",
       "      <th>2024-11-12</th>\n",
       "      <td>-3.383761</td>\n",
       "      <td>-3.289233</td>\n",
       "      <td>3.077290</td>\n",
       "      <td>-0.918563</td>\n",
       "      <td>-0.311495</td>\n",
       "      <td>1.039234</td>\n",
       "      <td>-4.078478</td>\n",
       "      <td>-1.831145</td>\n",
       "      <td>0.003735</td>\n",
       "    </tr>\n",
       "    <tr>\n",
       "      <th>2024-11-13</th>\n",
       "      <td>-0.389117</td>\n",
       "      <td>-1.314776</td>\n",
       "      <td>1.260705</td>\n",
       "      <td>0.399097</td>\n",
       "      <td>-0.676311</td>\n",
       "      <td>-0.067541</td>\n",
       "      <td>-0.805149</td>\n",
       "      <td>-0.017131</td>\n",
       "      <td>-0.848051</td>\n",
       "    </tr>\n",
       "    <tr>\n",
       "      <th>2024-11-14</th>\n",
       "      <td>-1.169418</td>\n",
       "      <td>0.110901</td>\n",
       "      <td>0.746317</td>\n",
       "      <td>0.257160</td>\n",
       "      <td>-1.546428</td>\n",
       "      <td>0.128893</td>\n",
       "      <td>-0.103956</td>\n",
       "      <td>-0.265954</td>\n",
       "      <td>0.321262</td>\n",
       "    </tr>\n",
       "    <tr>\n",
       "      <th>2024-11-15</th>\n",
       "      <td>0.450934</td>\n",
       "      <td>-0.896000</td>\n",
       "      <td>-0.361203</td>\n",
       "      <td>-0.709733</td>\n",
       "      <td>-3.229216</td>\n",
       "      <td>-0.138284</td>\n",
       "      <td>-0.356558</td>\n",
       "      <td>0.158528</td>\n",
       "      <td>2.421065</td>\n",
       "    </tr>\n",
       "    <tr>\n",
       "      <th>2024-11-18</th>\n",
       "      <td>0.353510</td>\n",
       "      <td>0.720685</td>\n",
       "      <td>-1.317006</td>\n",
       "      <td>1.469168</td>\n",
       "      <td>0.606074</td>\n",
       "      <td>-0.229216</td>\n",
       "      <td>2.287470</td>\n",
       "      <td>-0.082834</td>\n",
       "      <td>-0.368305</td>\n",
       "    </tr>\n",
       "  </tbody>\n",
       "</table>\n",
       "<p>4860 rows × 9 columns</p>\n",
       "</div>"
      ],
      "text/plain": [
       "            commodity    credit  currency    energy    equity  interest  \\\n",
       "Date                                                                      \n",
       "2005-01-04  -4.088475 -1.769011  4.452369  0.445588 -3.020046  1.029952   \n",
       "2005-01-05   0.519150  0.086436  0.043246 -0.689898 -1.605163 -0.015289   \n",
       "2005-01-06  -1.371624 -0.159507  2.164045  1.928206  0.209915 -0.361726   \n",
       "2005-01-07   2.381578 -0.059961  1.132001 -0.333218 -0.529228  0.210705   \n",
       "2005-01-10   0.890050  0.250446 -0.888319  0.398863  0.772065  0.119725   \n",
       "...               ...       ...       ...       ...       ...       ...   \n",
       "2024-11-12  -3.383761 -3.289233  3.077290 -0.918563 -0.311495  1.039234   \n",
       "2024-11-13  -0.389117 -1.314776  1.260705  0.399097 -0.676311 -0.067541   \n",
       "2024-11-14  -1.169418  0.110901  0.746317  0.257160 -1.546428  0.128893   \n",
       "2024-11-15   0.450934 -0.896000 -0.361203 -0.709733 -3.229216 -0.138284   \n",
       "2024-11-18   0.353510  0.720685 -1.317006  1.469168  0.606074 -0.229216   \n",
       "\n",
       "              metals  real_estate  volatility  \n",
       "Date                                           \n",
       "2005-01-04 -0.896389    -1.265406    0.252375  \n",
       "2005-01-05 -0.093783    -2.853041    0.140871  \n",
       "2005-01-06 -0.908315     0.443454   -0.376768  \n",
       "2005-01-07 -0.127772     0.485471   -0.627939  \n",
       "2005-01-10  0.280258    -0.112006    0.084147  \n",
       "...              ...          ...         ...  \n",
       "2024-11-12 -4.078478    -1.831145    0.003735  \n",
       "2024-11-13 -0.805149    -0.017131   -0.848051  \n",
       "2024-11-14 -0.103956    -0.265954    0.321262  \n",
       "2024-11-15 -0.356558     0.158528    2.421065  \n",
       "2024-11-18  2.287470    -0.082834   -0.368305  \n",
       "\n",
       "[4860 rows x 9 columns]"
      ]
     },
     "execution_count": 6,
     "metadata": {},
     "output_type": "execute_result"
    }
   ],
   "source": [
    "pca_asset_classes"
   ]
  },
  {
   "cell_type": "code",
   "execution_count": 7,
   "id": "40ab03b3",
   "metadata": {},
   "outputs": [],
   "source": [
    "def idtxl_multi_te(data, settings):\n",
    "    data_array = data.to_numpy()\n",
    "    data_array = data_array - data_array.min()  # shift labels to start at 0\n",
    "    data_array = np.expand_dims(data_array, axis=2)\n",
    "\n",
    "    data = Data(normalise=False)\n",
    "    data.set_data(data_array, dim_order='spr')\n",
    "\n",
    "    network_analysis = MultivariateTE()\n",
    "\n",
    "    results = network_analysis.analyse_network(settings=settings, data=data)\n",
    "\n",
    "    results.print_edge_list(weights=\"max_te_lag\", fdr=False)\n",
    "    plot_network(results=results, weights=\"max_te_lag\", fdr=False)\n",
    "    plt.show()\n",
    "\n",
    "    return results\n",
    "def windows_multi_te(windows, settings):\n",
    "    windows_results = []\n",
    "    for (_, _, window_data) in windows:\n",
    "        results = idtxl_multi_te(data=window_data, settings=settings)\n",
    "        windows_results.append(results)\n",
    "    return windows_results"
   ]
  },
  {
   "cell_type": "code",
   "execution_count": 9,
   "id": "1dab806e",
   "metadata": {},
   "outputs": [
    {
     "name": "stdout",
     "output_type": "stream",
     "text": [
      "Adding data with properties: 9 processes, 4860 samples, 1 replications\n",
      "overwriting existing data\n",
      "\n",
      "####### analysing target with index 0 from list [0, 1, 2, 3, 4, 5, 6, 7, 8]\n",
      "\n",
      "Target: 0 - testing sources [1, 2, 3, 4, 5, 6, 7, 8]\n",
      "\n",
      "---------------------------- (1) include target candidates\n",
      "candidate set: [(0, 1), (0, 2), (0, 3), (0, 4), (0, 5)]\n",
      "testing candidate: (0, 1) \n",
      "WARNING: Number of replications is not sufficient to generate the desired number of surrogates. Permuting samples in time instead.\n",
      "maximum statistic, n_perm: 200\n",
      "testing candidate: (0, 2) maximum statistic, n_perm: 200\n"
     ]
    },
    {
     "name": "stderr",
     "output_type": "stream",
     "text": [
      "C:\\Users\\akhma\\OneDrive\\Onenote\\Python\\IDTxl\\idtxl\\data.py:274: RuntimeWarning:\n",
      "\n",
      "invalid value encountered in cast\n",
      "\n"
     ]
    },
    {
     "name": "stdout",
     "output_type": "stream",
     "text": [
      "testing candidate: (0, 3) maximum statistic, n_perm: 200\n",
      " -- not significant\n",
      "\n",
      "---------------------------- (2) include source candidates\n",
      "candidate set: [(1, np.int64(1)), (1, np.int64(2)), (1, np.int64(3)), (1, np.int64(4)), (1, np.int64(5)), (2, np.int64(1)), (2, np.int64(2)), (2, np.int64(3)), (2, np.int64(4)), (2, np.int64(5)), (3, np.int64(1)), (3, np.int64(2)), (3, np.int64(3)), (3, np.int64(4)), (3, np.int64(5)), (4, np.int64(1)), (4, np.int64(2)), (4, np.int64(3)), (4, np.int64(4)), (4, np.int64(5)), (5, np.int64(1)), (5, np.int64(2)), (5, np.int64(3)), (5, np.int64(4)), (5, np.int64(5)), (6, np.int64(1)), (6, np.int64(2)), (6, np.int64(3)), (6, np.int64(4)), (6, np.int64(5)), (7, np.int64(1)), (7, np.int64(2)), (7, np.int64(3)), (7, np.int64(4)), (7, np.int64(5)), (8, np.int64(1)), (8, np.int64(2)), (8, np.int64(3)), (8, np.int64(4)), (8, np.int64(5))]\n",
      "testing candidate: (4, np.int64(1)) maximum statistic, n_perm: 200\n",
      "testing candidate: (6, np.int64(1)) maximum statistic, n_perm: 200\n",
      "testing candidate: (5, np.int64(3)) maximum statistic, n_perm: 200\n",
      "testing candidate: (6, np.int64(3)) maximum statistic, n_perm: 200\n",
      "testing candidate: (8, np.int64(4)) maximum statistic, n_perm: 200\n",
      "testing candidate: (5, np.int64(4)) maximum statistic, n_perm: 200\n",
      "testing candidate: (7, np.int64(3)) maximum statistic, n_perm: 200\n",
      "testing candidate: (4, np.int64(5)) maximum statistic, n_perm: 200\n",
      "testing candidate: (6, np.int64(5)) maximum statistic, n_perm: 200\n",
      "testing candidate: (1, np.int64(1)) maximum statistic, n_perm: 200\n",
      " -- not significant\n",
      "\n",
      "---------------------------- (3) prune source candidate\n",
      "selected candidates: [(4, np.int64(1)), (6, np.int64(1)), (5, np.int64(3)), (6, np.int64(3)), (8, np.int64(4)), (5, np.int64(4)), (7, np.int64(3)), (4, np.int64(5)), (6, np.int64(5))]\n",
      "testing candidate: (6, np.int64(5)) minimum statistic, n_perm: 500\n",
      " -- significant\n",
      "\n",
      "---------------------------- (4) final statistics\n",
      "selected variables: [(0, 1), (0, 2), (4, np.int64(1)), (6, np.int64(1)), (5, np.int64(3)), (6, np.int64(3)), (8, np.int64(4)), (5, np.int64(4)), (7, np.int64(3)), (4, np.int64(5)), (6, np.int64(5))]\n",
      "omnibus test, n_perm: 500\n",
      " -- significant\n",
      "\n",
      "sequential maximum statistic, n_perm: 500, testing 9 selected sources\n",
      "removing 0 variables after seq. max stats\n",
      "final source samples: [(4, np.int64(1)), (6, np.int64(1)), (5, np.int64(3)), (6, np.int64(3)), (8, np.int64(4)), (5, np.int64(4)), (7, np.int64(3)), (4, np.int64(5)), (6, np.int64(5))]\n",
      "final target samples: [(0, 1), (0, 2)]\n",
      "\n",
      "\n",
      "\n",
      "####### analysing target with index 1 from list [0, 1, 2, 3, 4, 5, 6, 7, 8]\n",
      "\n",
      "Target: 1 - testing sources [0, 2, 3, 4, 5, 6, 7, 8]\n",
      "\n",
      "---------------------------- (1) include target candidates\n",
      "candidate set: [(1, 1), (1, 2), (1, 3), (1, 4), (1, 5)]\n",
      "testing candidate: (1, 5) \n",
      "WARNING: Number of replications is not sufficient to generate the desired number of surrogates. Permuting samples in time instead.\n",
      "maximum statistic, n_perm: 200\n",
      " -- not significant\n",
      "\n",
      "No informative sources in the target's past - adding target sample with lag 1.\n",
      "\n",
      "---------------------------- (2) include source candidates\n",
      "candidate set: [(0, np.int64(1)), (0, np.int64(2)), (0, np.int64(3)), (0, np.int64(4)), (0, np.int64(5)), (2, np.int64(1)), (2, np.int64(2)), (2, np.int64(3)), (2, np.int64(4)), (2, np.int64(5)), (3, np.int64(1)), (3, np.int64(2)), (3, np.int64(3)), (3, np.int64(4)), (3, np.int64(5)), (4, np.int64(1)), (4, np.int64(2)), (4, np.int64(3)), (4, np.int64(4)), (4, np.int64(5)), (5, np.int64(1)), (5, np.int64(2)), (5, np.int64(3)), (5, np.int64(4)), (5, np.int64(5)), (6, np.int64(1)), (6, np.int64(2)), (6, np.int64(3)), (6, np.int64(4)), (6, np.int64(5)), (7, np.int64(1)), (7, np.int64(2)), (7, np.int64(3)), (7, np.int64(4)), (7, np.int64(5)), (8, np.int64(1)), (8, np.int64(2)), (8, np.int64(3)), (8, np.int64(4)), (8, np.int64(5))]\n",
      "testing candidate: (4, np.int64(1)) maximum statistic, n_perm: 200\n",
      "testing candidate: (5, np.int64(2)) maximum statistic, n_perm: 200\n",
      "testing candidate: (8, np.int64(4)) maximum statistic, n_perm: 200\n",
      "testing candidate: (2, np.int64(1)) maximum statistic, n_perm: 200\n",
      "testing candidate: (8, np.int64(5)) maximum statistic, n_perm: 200\n",
      "testing candidate: (6, np.int64(2)) maximum statistic, n_perm: 200\n",
      "testing candidate: (6, np.int64(1)) maximum statistic, n_perm: 200\n",
      "testing candidate: (3, np.int64(1)) maximum statistic, n_perm: 200\n",
      "testing candidate: (3, np.int64(2)) maximum statistic, n_perm: 200\n",
      "testing candidate: (2, np.int64(2)) maximum statistic, n_perm: 200\n",
      "testing candidate: (2, np.int64(3)) maximum statistic, n_perm: 200\n",
      " -- not significant\n",
      "\n",
      "---------------------------- (3) prune source candidate\n",
      "selected candidates: [(4, np.int64(1)), (5, np.int64(2)), (8, np.int64(4)), (2, np.int64(1)), (8, np.int64(5)), (6, np.int64(2)), (6, np.int64(1)), (3, np.int64(1)), (3, np.int64(2)), (2, np.int64(2))]\n",
      "testing candidate: (6, np.int64(1)) minimum statistic, n_perm: 500\n",
      " -- significant\n",
      "\n",
      "---------------------------- (4) final statistics\n",
      "selected variables: [(1, 1), (4, np.int64(1)), (5, np.int64(2)), (8, np.int64(4)), (2, np.int64(1)), (8, np.int64(5)), (6, np.int64(2)), (6, np.int64(1)), (3, np.int64(1)), (3, np.int64(2)), (2, np.int64(2))]\n",
      "omnibus test, n_perm: 500\n",
      " -- significant\n",
      "\n",
      "sequential maximum statistic, n_perm: 500, testing 10 selected sources\n",
      "removing 0 variables after seq. max stats\n",
      "final source samples: [(4, np.int64(1)), (5, np.int64(2)), (8, np.int64(4)), (2, np.int64(1)), (8, np.int64(5)), (6, np.int64(2)), (6, np.int64(1)), (3, np.int64(1)), (3, np.int64(2)), (2, np.int64(2))]\n",
      "final target samples: [(1, 1)]\n",
      "\n",
      "\n",
      "\n",
      "####### analysing target with index 2 from list [0, 1, 2, 3, 4, 5, 6, 7, 8]\n",
      "\n",
      "Target: 2 - testing sources [0, 1, 3, 4, 5, 6, 7, 8]\n",
      "\n",
      "---------------------------- (1) include target candidates\n",
      "candidate set: [(2, 1), (2, 2), (2, 3), (2, 4), (2, 5)]\n",
      "testing candidate: (2, 2) \n",
      "WARNING: Number of replications is not sufficient to generate the desired number of surrogates. Permuting samples in time instead.\n",
      "maximum statistic, n_perm: 200\n",
      " -- not significant\n",
      "\n",
      "No informative sources in the target's past - adding target sample with lag 1.\n",
      "\n",
      "---------------------------- (2) include source candidates\n",
      "candidate set: [(0, np.int64(1)), (0, np.int64(2)), (0, np.int64(3)), (0, np.int64(4)), (0, np.int64(5)), (1, np.int64(1)), (1, np.int64(2)), (1, np.int64(3)), (1, np.int64(4)), (1, np.int64(5)), (3, np.int64(1)), (3, np.int64(2)), (3, np.int64(3)), (3, np.int64(4)), (3, np.int64(5)), (4, np.int64(1)), (4, np.int64(2)), (4, np.int64(3)), (4, np.int64(4)), (4, np.int64(5)), (5, np.int64(1)), (5, np.int64(2)), (5, np.int64(3)), (5, np.int64(4)), (5, np.int64(5)), (6, np.int64(1)), (6, np.int64(2)), (6, np.int64(3)), (6, np.int64(4)), (6, np.int64(5)), (7, np.int64(1)), (7, np.int64(2)), (7, np.int64(3)), (7, np.int64(4)), (7, np.int64(5)), (8, np.int64(1)), (8, np.int64(2)), (8, np.int64(3)), (8, np.int64(4)), (8, np.int64(5))]\n",
      "testing candidate: (7, np.int64(1)) maximum statistic, n_perm: 200\n",
      " -- not significant\n",
      "\n",
      "---------------------------- (3) prune source candidate\n",
      "no sources selected, nothing to prune ...\n",
      "\n",
      "---------------------------- (4) final statistics\n",
      "no sources selected ...\n",
      "final source samples: []\n",
      "final target samples: [(2, 1)]\n",
      "\n",
      "\n",
      "\n",
      "####### analysing target with index 3 from list [0, 1, 2, 3, 4, 5, 6, 7, 8]\n",
      "\n",
      "Target: 3 - testing sources [0, 1, 2, 4, 5, 6, 7, 8]\n",
      "\n",
      "---------------------------- (1) include target candidates\n",
      "candidate set: [(3, 1), (3, 2), (3, 3), (3, 4), (3, 5)]\n",
      "testing candidate: (3, 1) \n",
      "WARNING: Number of replications is not sufficient to generate the desired number of surrogates. Permuting samples in time instead.\n",
      "maximum statistic, n_perm: 200\n",
      " -- not significant\n",
      "\n",
      "No informative sources in the target's past - adding target sample with lag 1.\n",
      "\n",
      "---------------------------- (2) include source candidates\n",
      "candidate set: [(0, np.int64(1)), (0, np.int64(2)), (0, np.int64(3)), (0, np.int64(4)), (0, np.int64(5)), (1, np.int64(1)), (1, np.int64(2)), (1, np.int64(3)), (1, np.int64(4)), (1, np.int64(5)), (2, np.int64(1)), (2, np.int64(2)), (2, np.int64(3)), (2, np.int64(4)), (2, np.int64(5)), (4, np.int64(1)), (4, np.int64(2)), (4, np.int64(3)), (4, np.int64(4)), (4, np.int64(5)), (5, np.int64(1)), (5, np.int64(2)), (5, np.int64(3)), (5, np.int64(4)), (5, np.int64(5)), (6, np.int64(1)), (6, np.int64(2)), (6, np.int64(3)), (6, np.int64(4)), (6, np.int64(5)), (7, np.int64(1)), (7, np.int64(2)), (7, np.int64(3)), (7, np.int64(4)), (7, np.int64(5)), (8, np.int64(1)), (8, np.int64(2)), (8, np.int64(3)), (8, np.int64(4)), (8, np.int64(5))]\n",
      "testing candidate: (8, np.int64(1)) maximum statistic, n_perm: 200\n",
      "testing candidate: (0, np.int64(2)) maximum statistic, n_perm: 200\n",
      " -- not significant\n",
      "\n",
      "---------------------------- (3) prune source candidate\n",
      "selected candidates: [(8, np.int64(1))]\n",
      " -- significant\n",
      "\n",
      "---------------------------- (4) final statistics\n",
      "selected variables: [(3, 1), (8, np.int64(1))]\n",
      "omnibus test, n_perm: 500\n",
      " -- significant\n",
      "\n",
      "sequential maximum statistic, n_perm: 500, testing 1 selected sources\n",
      "removing 0 variables after seq. max stats\n",
      "final source samples: [(8, np.int64(1))]\n",
      "final target samples: [(3, 1)]\n",
      "\n",
      "\n",
      "\n",
      "####### analysing target with index 4 from list [0, 1, 2, 3, 4, 5, 6, 7, 8]\n",
      "\n",
      "Target: 4 - testing sources [0, 1, 2, 3, 5, 6, 7, 8]\n",
      "\n",
      "---------------------------- (1) include target candidates\n",
      "candidate set: [(4, 1), (4, 2), (4, 3), (4, 4), (4, 5)]\n",
      "testing candidate: (4, 1) \n",
      "WARNING: Number of replications is not sufficient to generate the desired number of surrogates. Permuting samples in time instead.\n",
      "maximum statistic, n_perm: 200\n",
      "testing candidate: (4, 4) maximum statistic, n_perm: 200\n",
      " -- not significant\n",
      "\n",
      "---------------------------- (2) include source candidates\n",
      "candidate set: [(0, np.int64(1)), (0, np.int64(2)), (0, np.int64(3)), (0, np.int64(4)), (0, np.int64(5)), (1, np.int64(1)), (1, np.int64(2)), (1, np.int64(3)), (1, np.int64(4)), (1, np.int64(5)), (2, np.int64(1)), (2, np.int64(2)), (2, np.int64(3)), (2, np.int64(4)), (2, np.int64(5)), (3, np.int64(1)), (3, np.int64(2)), (3, np.int64(3)), (3, np.int64(4)), (3, np.int64(5)), (5, np.int64(1)), (5, np.int64(2)), (5, np.int64(3)), (5, np.int64(4)), (5, np.int64(5)), (6, np.int64(1)), (6, np.int64(2)), (6, np.int64(3)), (6, np.int64(4)), (6, np.int64(5)), (7, np.int64(1)), (7, np.int64(2)), (7, np.int64(3)), (7, np.int64(4)), (7, np.int64(5)), (8, np.int64(1)), (8, np.int64(2)), (8, np.int64(3)), (8, np.int64(4)), (8, np.int64(5))]\n",
      "testing candidate: (2, np.int64(1)) maximum statistic, n_perm: 200\n",
      " -- not significant\n",
      "\n",
      "---------------------------- (3) prune source candidate\n",
      "no sources selected, nothing to prune ...\n",
      "\n",
      "---------------------------- (4) final statistics\n",
      "no sources selected ...\n",
      "final source samples: []\n",
      "final target samples: [(4, 1)]\n",
      "\n",
      "\n",
      "\n",
      "####### analysing target with index 5 from list [0, 1, 2, 3, 4, 5, 6, 7, 8]\n",
      "\n",
      "Target: 5 - testing sources [0, 1, 2, 3, 4, 6, 7, 8]\n",
      "\n",
      "---------------------------- (1) include target candidates\n",
      "candidate set: [(5, 1), (5, 2), (5, 3), (5, 4), (5, 5)]\n",
      "testing candidate: (5, 2) \n",
      "WARNING: Number of replications is not sufficient to generate the desired number of surrogates. Permuting samples in time instead.\n",
      "maximum statistic, n_perm: 200\n",
      "testing candidate: (5, 1) maximum statistic, n_perm: 200\n",
      "testing candidate: (5, 5) maximum statistic, n_perm: 200\n",
      "testing candidate: (5, 3) maximum statistic, n_perm: 200\n",
      "testing candidate: (5, 4) maximum statistic, n_perm: 200\n",
      "\n",
      "---------------------------- (2) include source candidates\n",
      "candidate set: [(0, np.int64(1)), (0, np.int64(2)), (0, np.int64(3)), (0, np.int64(4)), (0, np.int64(5)), (1, np.int64(1)), (1, np.int64(2)), (1, np.int64(3)), (1, np.int64(4)), (1, np.int64(5)), (2, np.int64(1)), (2, np.int64(2)), (2, np.int64(3)), (2, np.int64(4)), (2, np.int64(5)), (3, np.int64(1)), (3, np.int64(2)), (3, np.int64(3)), (3, np.int64(4)), (3, np.int64(5)), (4, np.int64(1)), (4, np.int64(2)), (4, np.int64(3)), (4, np.int64(4)), (4, np.int64(5)), (6, np.int64(1)), (6, np.int64(2)), (6, np.int64(3)), (6, np.int64(4)), (6, np.int64(5)), (7, np.int64(1)), (7, np.int64(2)), (7, np.int64(3)), (7, np.int64(4)), (7, np.int64(5)), (8, np.int64(1)), (8, np.int64(2)), (8, np.int64(3)), (8, np.int64(4)), (8, np.int64(5))]\n",
      "testing candidate: (3, np.int64(3)) maximum statistic, n_perm: 200\n",
      "testing candidate: (6, np.int64(3)) maximum statistic, n_perm: 200\n",
      "testing candidate: (6, np.int64(5)) maximum statistic, n_perm: 200\n",
      "testing candidate: (4, np.int64(3)) maximum statistic, n_perm: 200\n",
      "testing candidate: (4, np.int64(1)) maximum statistic, n_perm: 200\n",
      "testing candidate: (0, np.int64(4)) maximum statistic, n_perm: 200\n",
      "testing candidate: (7, np.int64(2)) maximum statistic, n_perm: 200\n",
      " -- not significant\n",
      "\n",
      "---------------------------- (3) prune source candidate\n",
      "selected candidates: [(3, np.int64(3)), (6, np.int64(3)), (6, np.int64(5)), (4, np.int64(3)), (4, np.int64(1)), (0, np.int64(4))]\n",
      "testing candidate: (0, np.int64(4)) minimum statistic, n_perm: 500\n",
      " -- significant\n",
      "\n",
      "---------------------------- (4) final statistics\n",
      "selected variables: [(5, 2), (5, 1), (5, 5), (5, 3), (5, 4), (3, np.int64(3)), (6, np.int64(3)), (6, np.int64(5)), (4, np.int64(3)), (4, np.int64(1)), (0, np.int64(4))]\n",
      "omnibus test, n_perm: 500\n",
      " -- significant\n",
      "\n",
      "sequential maximum statistic, n_perm: 500, testing 6 selected sources\n",
      "removing 0 variables after seq. max stats\n",
      "final source samples: [(3, np.int64(3)), (6, np.int64(3)), (6, np.int64(5)), (4, np.int64(3)), (4, np.int64(1)), (0, np.int64(4))]\n",
      "final target samples: [(5, 2), (5, 1), (5, 5), (5, 3), (5, 4)]\n",
      "\n",
      "\n",
      "\n",
      "####### analysing target with index 6 from list [0, 1, 2, 3, 4, 5, 6, 7, 8]\n",
      "\n",
      "Target: 6 - testing sources [0, 1, 2, 3, 4, 5, 7, 8]\n",
      "\n",
      "---------------------------- (1) include target candidates\n",
      "candidate set: [(6, 1), (6, 2), (6, 3), (6, 4), (6, 5)]\n",
      "testing candidate: (6, 1) \n",
      "WARNING: Number of replications is not sufficient to generate the desired number of surrogates. Permuting samples in time instead.\n",
      "maximum statistic, n_perm: 200\n",
      " -- not significant\n",
      "\n",
      "No informative sources in the target's past - adding target sample with lag 1.\n",
      "\n",
      "---------------------------- (2) include source candidates\n",
      "candidate set: [(0, np.int64(1)), (0, np.int64(2)), (0, np.int64(3)), (0, np.int64(4)), (0, np.int64(5)), (1, np.int64(1)), (1, np.int64(2)), (1, np.int64(3)), (1, np.int64(4)), (1, np.int64(5)), (2, np.int64(1)), (2, np.int64(2)), (2, np.int64(3)), (2, np.int64(4)), (2, np.int64(5)), (3, np.int64(1)), (3, np.int64(2)), (3, np.int64(3)), (3, np.int64(4)), (3, np.int64(5)), (4, np.int64(1)), (4, np.int64(2)), (4, np.int64(3)), (4, np.int64(4)), (4, np.int64(5)), (5, np.int64(1)), (5, np.int64(2)), (5, np.int64(3)), (5, np.int64(4)), (5, np.int64(5)), (7, np.int64(1)), (7, np.int64(2)), (7, np.int64(3)), (7, np.int64(4)), (7, np.int64(5)), (8, np.int64(1)), (8, np.int64(2)), (8, np.int64(3)), (8, np.int64(4)), (8, np.int64(5))]\n",
      "testing candidate: (5, np.int64(3)) maximum statistic, n_perm: 200\n",
      "testing candidate: (8, np.int64(5)) maximum statistic, n_perm: 200\n",
      " -- not significant\n",
      "\n",
      "---------------------------- (3) prune source candidate\n",
      "selected candidates: [(5, np.int64(3))]\n",
      " -- significant\n",
      "\n",
      "---------------------------- (4) final statistics\n",
      "selected variables: [(6, 1), (5, np.int64(3))]\n",
      "omnibus test, n_perm: 500\n",
      " -- significant\n",
      "\n",
      "sequential maximum statistic, n_perm: 500, testing 1 selected sources\n",
      "removing 0 variables after seq. max stats\n",
      "final source samples: [(5, np.int64(3))]\n",
      "final target samples: [(6, 1)]\n",
      "\n",
      "\n",
      "\n",
      "####### analysing target with index 7 from list [0, 1, 2, 3, 4, 5, 6, 7, 8]\n",
      "\n",
      "Target: 7 - testing sources [0, 1, 2, 3, 4, 5, 6, 8]\n",
      "\n",
      "---------------------------- (1) include target candidates\n",
      "candidate set: [(7, 1), (7, 2), (7, 3), (7, 4), (7, 5)]\n",
      "testing candidate: (7, 4) \n",
      "WARNING: Number of replications is not sufficient to generate the desired number of surrogates. Permuting samples in time instead.\n",
      "maximum statistic, n_perm: 200\n",
      " -- not significant\n",
      "\n",
      "No informative sources in the target's past - adding target sample with lag 1.\n",
      "\n",
      "---------------------------- (2) include source candidates\n",
      "candidate set: [(0, np.int64(1)), (0, np.int64(2)), (0, np.int64(3)), (0, np.int64(4)), (0, np.int64(5)), (1, np.int64(1)), (1, np.int64(2)), (1, np.int64(3)), (1, np.int64(4)), (1, np.int64(5)), (2, np.int64(1)), (2, np.int64(2)), (2, np.int64(3)), (2, np.int64(4)), (2, np.int64(5)), (3, np.int64(1)), (3, np.int64(2)), (3, np.int64(3)), (3, np.int64(4)), (3, np.int64(5)), (4, np.int64(1)), (4, np.int64(2)), (4, np.int64(3)), (4, np.int64(4)), (4, np.int64(5)), (5, np.int64(1)), (5, np.int64(2)), (5, np.int64(3)), (5, np.int64(4)), (5, np.int64(5)), (6, np.int64(1)), (6, np.int64(2)), (6, np.int64(3)), (6, np.int64(4)), (6, np.int64(5)), (8, np.int64(1)), (8, np.int64(2)), (8, np.int64(3)), (8, np.int64(4)), (8, np.int64(5))]\n",
      "testing candidate: (3, np.int64(2)) maximum statistic, n_perm: 200\n",
      " -- not significant\n",
      "\n",
      "---------------------------- (3) prune source candidate\n",
      "no sources selected, nothing to prune ...\n",
      "\n",
      "---------------------------- (4) final statistics\n",
      "no sources selected ...\n",
      "final source samples: []\n",
      "final target samples: [(7, 1)]\n",
      "\n",
      "\n",
      "\n",
      "####### analysing target with index 8 from list [0, 1, 2, 3, 4, 5, 6, 7, 8]\n",
      "\n",
      "Target: 8 - testing sources [0, 1, 2, 3, 4, 5, 6, 7]\n",
      "\n",
      "---------------------------- (1) include target candidates\n",
      "candidate set: [(8, 1), (8, 2), (8, 3), (8, 4), (8, 5)]\n",
      "testing candidate: (8, 4) \n",
      "WARNING: Number of replications is not sufficient to generate the desired number of surrogates. Permuting samples in time instead.\n",
      "maximum statistic, n_perm: 200\n",
      "testing candidate: (8, 2) maximum statistic, n_perm: 200\n",
      "testing candidate: (8, 3) maximum statistic, n_perm: 200\n",
      "testing candidate: (8, 1) maximum statistic, n_perm: 200\n",
      "testing candidate: (8, 5) maximum statistic, n_perm: 200\n",
      " -- not significant\n",
      "\n",
      "---------------------------- (2) include source candidates\n",
      "candidate set: [(0, np.int64(1)), (0, np.int64(2)), (0, np.int64(3)), (0, np.int64(4)), (0, np.int64(5)), (1, np.int64(1)), (1, np.int64(2)), (1, np.int64(3)), (1, np.int64(4)), (1, np.int64(5)), (2, np.int64(1)), (2, np.int64(2)), (2, np.int64(3)), (2, np.int64(4)), (2, np.int64(5)), (3, np.int64(1)), (3, np.int64(2)), (3, np.int64(3)), (3, np.int64(4)), (3, np.int64(5)), (4, np.int64(1)), (4, np.int64(2)), (4, np.int64(3)), (4, np.int64(4)), (4, np.int64(5)), (5, np.int64(1)), (5, np.int64(2)), (5, np.int64(3)), (5, np.int64(4)), (5, np.int64(5)), (6, np.int64(1)), (6, np.int64(2)), (6, np.int64(3)), (6, np.int64(4)), (6, np.int64(5)), (7, np.int64(1)), (7, np.int64(2)), (7, np.int64(3)), (7, np.int64(4)), (7, np.int64(5))]\n",
      "testing candidate: (4, np.int64(1)) maximum statistic, n_perm: 200\n",
      "testing candidate: (4, np.int64(2)) maximum statistic, n_perm: 200\n",
      "testing candidate: (0, np.int64(1)) maximum statistic, n_perm: 200\n",
      "testing candidate: (5, np.int64(5)) maximum statistic, n_perm: 200\n",
      "testing candidate: (6, np.int64(3)) maximum statistic, n_perm: 200\n",
      "testing candidate: (4, np.int64(5)) maximum statistic, n_perm: 200\n",
      "testing candidate: (6, np.int64(4)) maximum statistic, n_perm: 200\n",
      "testing candidate: (6, np.int64(1)) maximum statistic, n_perm: 200\n",
      " -- not significant\n",
      "\n",
      "---------------------------- (3) prune source candidate\n",
      "selected candidates: [(4, np.int64(1)), (4, np.int64(2)), (0, np.int64(1)), (5, np.int64(5)), (6, np.int64(3)), (4, np.int64(5)), (6, np.int64(4))]\n",
      "testing candidate: (4, np.int64(1)) minimum statistic, n_perm: 500\n",
      " -- significant\n",
      "\n",
      "---------------------------- (4) final statistics\n",
      "selected variables: [(8, 4), (8, 2), (8, 3), (8, 1), (4, np.int64(1)), (4, np.int64(2)), (0, np.int64(1)), (5, np.int64(5)), (6, np.int64(3)), (4, np.int64(5)), (6, np.int64(4))]\n",
      "omnibus test, n_perm: 500\n",
      " -- significant\n",
      "\n",
      "sequential maximum statistic, n_perm: 500, testing 7 selected sources\n",
      "removing 0 variables after seq. max stats\n",
      "final source samples: [(4, np.int64(1)), (4, np.int64(2)), (0, np.int64(1)), (5, np.int64(5)), (6, np.int64(3)), (4, np.int64(5)), (6, np.int64(4))]\n",
      "final target samples: [(8, 4), (8, 2), (8, 3), (8, 1)]\n",
      "\n",
      "\n",
      "WARNING: Number of permutations ('n_perm_max_seq') for at least one target is too low to allow for FDR correction (FDR-threshold: 0.0020, min. theoretically possible p-value: 0.002).\n",
      "\t0 -> 5, max_te_lag: 4\n",
      "\t0 -> 8, max_te_lag: 1\n",
      "\t2 -> 1, max_te_lag: 1\n",
      "\t3 -> 1, max_te_lag: 1\n",
      "\t3 -> 5, max_te_lag: 3\n",
      "\t4 -> 0, max_te_lag: 1\n",
      "\t4 -> 1, max_te_lag: 1\n",
      "\t4 -> 5, max_te_lag: 1\n",
      "\t4 -> 8, max_te_lag: 5\n",
      "\t5 -> 0, max_te_lag: 4\n",
      "\t5 -> 1, max_te_lag: 2\n",
      "\t5 -> 6, max_te_lag: 3\n",
      "\t5 -> 8, max_te_lag: 5\n",
      "\t6 -> 0, max_te_lag: 3\n",
      "\t6 -> 1, max_te_lag: 2\n",
      "\t6 -> 5, max_te_lag: 5\n",
      "\t6 -> 8, max_te_lag: 3\n",
      "\t7 -> 0, max_te_lag: 3\n",
      "\t8 -> 0, max_te_lag: 4\n",
      "\t8 -> 1, max_te_lag: 4\n",
      "\t8 -> 3, max_te_lag: 1\n"
     ]
    },
    {
     "data": {
      "image/png": "[encoded data removed]",
      "text/plain": [
       "<Figure size 1000x500 with 3 Axes>"
      ]
     },
     "metadata": {},
     "output_type": "display_data"
    }
   ],
   "source": [
    "discrete_log_returns = preprocess.discretize_df(pca_asset_classes, num_bins=2)\n",
    "settings = {\n",
    "    \"cmi_estimator\": \"JidtDiscreteCMI\",\n",
    "    \"max_lag_sources\": 5,\n",
    "    \"min_lag_sources\": 1,\n",
    "    \"n_discrete_bins\": np.max(discrete_log_returns) + 1 \n",
    "}\n",
    "results = idtxl_multi_te(discrete_log_returns, settings=settings)"
   ]
  },
  {
   "cell_type": "code",
   "execution_count": 10,
   "id": "f758ab63",
   "metadata": {},
   "outputs": [
    {
     "data": {
      "image/png": "[encoded data removed]",
      "text/plain": [
       "<Figure size 1200x800 with 1 Axes>"
      ]
     },
     "metadata": {},
     "output_type": "display_data"
    }
   ],
   "source": [
    "te_matrix = idtxl_te_values(results)\n",
    "G = adj_matrix_to_graph(pca_asset_classes, te_matrix)\n",
    "largest_cc = max(nx.connected_components(G.to_undirected()), key=len)\n",
    "G_largest_cc = G.subgraph(largest_cc).copy()\n",
    "fixed_pos = nx.spring_layout(G_largest_cc, seed=21)\n",
    "network.plot_graph(G_largest_cc, fixed_pos, \"asset_classes_te_network\")"
   ]
  },
  {
   "cell_type": "code",
   "execution_count": 19,
   "id": "607bc808",
   "metadata": {},
   "outputs": [],
   "source": [
    "def network_properties(G):\n",
    "\n",
    "    analysis = {}\n",
    "\n",
    "    in_degrees = dict(G.in_degree(weight=\"weight\"))\n",
    "    out_degrees = dict(G.out_degree(weight=\"weight\"))\n",
    "    analysis['in_degree'] = pd.Series(in_degrees)\n",
    "    analysis['out_degree'] = pd.Series(out_degrees)\n",
    "    analysis['betweenness_centr'] = nx.betweenness_centrality(G, weight=\"weight\")\n",
    "    analysis['e_vector_centr'] = nx.eigenvector_centrality(G, weight=\"weight\")\n",
    "    analysis['clustering'] = nx.clustering(G, weight=\"weight\")\n",
    "    return pd.DataFrame(analysis)"
   ]
  },
  {
   "cell_type": "code",
   "execution_count": null,
   "id": "d6ccd163",
   "metadata": {},
   "outputs": [],
   "source": []
  },
  {
   "cell_type": "code",
   "execution_count": 11,
   "id": "b77adfcd",
   "metadata": {},
   "outputs": [
    {
     "name": "stdout",
     "output_type": "stream",
     "text": [
      "Adding data with properties: 9 processes, 4860 samples, 1 replications\n",
      "overwriting existing data\n",
      "\n",
      "####### analysing target with index 0 from list [0, 1, 2, 3, 4, 5, 6, 7, 8]\n",
      "\n",
      "Target: 0 - testing sources [1, 2, 3, 4, 5, 6, 7, 8]\n",
      "\n",
      "---------------------------- (1) include target candidates\n",
      "candidate set: [(0, 1), (0, 2), (0, 3), (0, 4), (0, 5)]\n",
      "testing candidate: (0, 1) \n",
      "WARNING: Number of replications is not sufficient to generate the desired number of surrogates. Permuting samples in time instead.\n",
      "maximum statistic, n_perm: 200\n"
     ]
    },
    {
     "name": "stderr",
     "output_type": "stream",
     "text": [
      "C:\\Users\\akhma\\OneDrive\\Onenote\\Python\\IDTxl\\idtxl\\data.py:274: RuntimeWarning:\n",
      "\n",
      "invalid value encountered in cast\n",
      "\n"
     ]
    },
    {
     "name": "stdout",
     "output_type": "stream",
     "text": [
      "testing candidate: (0, 2) maximum statistic, n_perm: 200\n",
      "testing candidate: (0, 4) maximum statistic, n_perm: 200\n",
      "testing candidate: (0, 3) maximum statistic, n_perm: 200\n",
      "testing candidate: (0, 5) maximum statistic, n_perm: 200\n",
      "\n",
      "---------------------------- (2) include source candidates\n",
      "candidate set: [(1, np.int64(1)), (1, np.int64(2)), (1, np.int64(3)), (1, np.int64(4)), (1, np.int64(5)), (2, np.int64(1)), (2, np.int64(2)), (2, np.int64(3)), (2, np.int64(4)), (2, np.int64(5)), (3, np.int64(1)), (3, np.int64(2)), (3, np.int64(3)), (3, np.int64(4)), (3, np.int64(5)), (4, np.int64(1)), (4, np.int64(2)), (4, np.int64(3)), (4, np.int64(4)), (4, np.int64(5)), (5, np.int64(1)), (5, np.int64(2)), (5, np.int64(3)), (5, np.int64(4)), (5, np.int64(5)), (6, np.int64(1)), (6, np.int64(2)), (6, np.int64(3)), (6, np.int64(4)), (6, np.int64(5)), (7, np.int64(1)), (7, np.int64(2)), (7, np.int64(3)), (7, np.int64(4)), (7, np.int64(5)), (8, np.int64(1)), (8, np.int64(2)), (8, np.int64(3)), (8, np.int64(4)), (8, np.int64(5))]\n",
      "testing candidate: (3, np.int64(5)) maximum statistic, n_perm: 200\n",
      "testing candidate: (5, np.int64(3)) maximum statistic, n_perm: 200\n",
      "testing candidate: (1, np.int64(1)) maximum statistic, n_perm: 200\n",
      " -- not significant\n",
      "\n",
      "---------------------------- (3) prune source candidate\n",
      "selected candidates: [(3, np.int64(5)), (5, np.int64(3))]\n",
      "testing candidate: (5, np.int64(3)) minimum statistic, n_perm: 500\n",
      " -- significant\n",
      "\n",
      "---------------------------- (4) final statistics\n",
      "selected variables: [(0, 1), (0, 2), (0, 4), (0, 3), (0, 5), (3, np.int64(5)), (5, np.int64(3))]\n",
      "omnibus test, n_perm: 500\n",
      " -- significant\n",
      "\n",
      "sequential maximum statistic, n_perm: 500, testing 2 selected sources\n",
      "removing 0 variables after seq. max stats\n",
      "final source samples: [(3, np.int64(5)), (5, np.int64(3))]\n",
      "final target samples: [(0, 1), (0, 2), (0, 4), (0, 3), (0, 5)]\n",
      "\n",
      "\n",
      "\n",
      "####### analysing target with index 1 from list [0, 1, 2, 3, 4, 5, 6, 7, 8]\n",
      "\n",
      "Target: 1 - testing sources [0, 2, 3, 4, 5, 6, 7, 8]\n",
      "\n",
      "---------------------------- (1) include target candidates\n",
      "candidate set: [(1, 1), (1, 2), (1, 3), (1, 4), (1, 5)]\n",
      "testing candidate: (1, 1) \n",
      "WARNING: Number of replications is not sufficient to generate the desired number of surrogates. Permuting samples in time instead.\n",
      "maximum statistic, n_perm: 200\n",
      "testing candidate: (1, 2) maximum statistic, n_perm: 200\n",
      "testing candidate: (1, 5) maximum statistic, n_perm: 200\n",
      "testing candidate: (1, 3) maximum statistic, n_perm: 200\n",
      "testing candidate: (1, 4) maximum statistic, n_perm: 200\n",
      "\n",
      "---------------------------- (2) include source candidates\n",
      "candidate set: [(0, np.int64(1)), (0, np.int64(2)), (0, np.int64(3)), (0, np.int64(4)), (0, np.int64(5)), (2, np.int64(1)), (2, np.int64(2)), (2, np.int64(3)), (2, np.int64(4)), (2, np.int64(5)), (3, np.int64(1)), (3, np.int64(2)), (3, np.int64(3)), (3, np.int64(4)), (3, np.int64(5)), (4, np.int64(1)), (4, np.int64(2)), (4, np.int64(3)), (4, np.int64(4)), (4, np.int64(5)), (5, np.int64(1)), (5, np.int64(2)), (5, np.int64(3)), (5, np.int64(4)), (5, np.int64(5)), (6, np.int64(1)), (6, np.int64(2)), (6, np.int64(3)), (6, np.int64(4)), (6, np.int64(5)), (7, np.int64(1)), (7, np.int64(2)), (7, np.int64(3)), (7, np.int64(4)), (7, np.int64(5)), (8, np.int64(1)), (8, np.int64(2)), (8, np.int64(3)), (8, np.int64(4)), (8, np.int64(5))]\n",
      "testing candidate: (8, np.int64(5)) maximum statistic, n_perm: 200\n",
      "testing candidate: (6, np.int64(4)) maximum statistic, n_perm: 200\n",
      "testing candidate: (0, np.int64(3)) maximum statistic, n_perm: 200\n",
      " -- not significant\n",
      "\n",
      "---------------------------- (3) prune source candidate\n",
      "selected candidates: [(8, np.int64(5)), (6, np.int64(4))]\n",
      "testing candidate: (6, np.int64(4)) minimum statistic, n_perm: 500\n",
      " -- significant\n",
      "\n",
      "---------------------------- (4) final statistics\n",
      "selected variables: [(1, 1), (1, 2), (1, 5), (1, 3), (1, 4), (8, np.int64(5)), (6, np.int64(4))]\n",
      "omnibus test, n_perm: 500\n",
      " -- significant\n",
      "\n",
      "sequential maximum statistic, n_perm: 500, testing 2 selected sources\n",
      "removing 0 variables after seq. max stats\n",
      "final source samples: [(8, np.int64(5)), (6, np.int64(4))]\n",
      "final target samples: [(1, 1), (1, 2), (1, 5), (1, 3), (1, 4)]\n",
      "\n",
      "\n",
      "\n",
      "####### analysing target with index 2 from list [0, 1, 2, 3, 4, 5, 6, 7, 8]\n",
      "\n",
      "Target: 2 - testing sources [0, 1, 3, 4, 5, 6, 7, 8]\n",
      "\n",
      "---------------------------- (1) include target candidates\n",
      "candidate set: [(2, 1), (2, 2), (2, 3), (2, 4), (2, 5)]\n",
      "testing candidate: (2, 5) \n",
      "WARNING: Number of replications is not sufficient to generate the desired number of surrogates. Permuting samples in time instead.\n",
      "maximum statistic, n_perm: 200\n",
      "testing candidate: (2, 3) maximum statistic, n_perm: 200\n",
      "testing candidate: (2, 2) maximum statistic, n_perm: 200\n",
      "testing candidate: (2, 4) maximum statistic, n_perm: 200\n",
      "testing candidate: (2, 1) maximum statistic, n_perm: 200\n",
      "\n",
      "---------------------------- (2) include source candidates\n",
      "candidate set: [(0, np.int64(1)), (0, np.int64(2)), (0, np.int64(3)), (0, np.int64(4)), (0, np.int64(5)), (1, np.int64(1)), (1, np.int64(2)), (1, np.int64(3)), (1, np.int64(4)), (1, np.int64(5)), (3, np.int64(1)), (3, np.int64(2)), (3, np.int64(3)), (3, np.int64(4)), (3, np.int64(5)), (4, np.int64(1)), (4, np.int64(2)), (4, np.int64(3)), (4, np.int64(4)), (4, np.int64(5)), (5, np.int64(1)), (5, np.int64(2)), (5, np.int64(3)), (5, np.int64(4)), (5, np.int64(5)), (6, np.int64(1)), (6, np.int64(2)), (6, np.int64(3)), (6, np.int64(4)), (6, np.int64(5)), (7, np.int64(1)), (7, np.int64(2)), (7, np.int64(3)), (7, np.int64(4)), (7, np.int64(5)), (8, np.int64(1)), (8, np.int64(2)), (8, np.int64(3)), (8, np.int64(4)), (8, np.int64(5))]\n",
      "testing candidate: (5, np.int64(3)) maximum statistic, n_perm: 200\n",
      "testing candidate: (5, np.int64(5)) maximum statistic, n_perm: 200\n",
      "testing candidate: (7, np.int64(2)) maximum statistic, n_perm: 200\n",
      " -- not significant\n",
      "\n",
      "---------------------------- (3) prune source candidate\n",
      "selected candidates: [(5, np.int64(3)), (5, np.int64(5))]\n",
      "testing candidate: (5, np.int64(5)) minimum statistic, n_perm: 500\n",
      " -- significant\n",
      "\n",
      "---------------------------- (4) final statistics\n",
      "selected variables: [(2, 5), (2, 3), (2, 2), (2, 4), (2, 1), (5, np.int64(3)), (5, np.int64(5))]\n",
      "omnibus test, n_perm: 500\n",
      " -- significant\n",
      "\n",
      "sequential maximum statistic, n_perm: 500, testing 2 selected sources\n",
      "removing 0 variables after seq. max stats\n"
     ]
    },
    {
     "name": "stderr",
     "output_type": "stream",
     "text": [
      "C:\\Users\\akhma\\OneDrive\\Onenote\\Python\\IDTxl\\idtxl\\network_inference.py:1015: RuntimeWarning:\n",
      "\n",
      "invalid value encountered in cast\n",
      "\n"
     ]
    },
    {
     "name": "stdout",
     "output_type": "stream",
     "text": [
      "final source samples: [(5, np.int64(3)), (5, np.int64(5))]\n",
      "final target samples: [(2, 5), (2, 3), (2, 2), (2, 4), (2, 1)]\n",
      "\n",
      "\n",
      "\n",
      "####### analysing target with index 3 from list [0, 1, 2, 3, 4, 5, 6, 7, 8]\n",
      "\n",
      "Target: 3 - testing sources [0, 1, 2, 4, 5, 6, 7, 8]\n",
      "\n",
      "---------------------------- (1) include target candidates\n",
      "candidate set: [(3, 1), (3, 2), (3, 3), (3, 4), (3, 5)]\n",
      "testing candidate: (3, 1) \n",
      "WARNING: Number of replications is not sufficient to generate the desired number of surrogates. Permuting samples in time instead.\n",
      "maximum statistic, n_perm: 200\n",
      "testing candidate: (3, 5) maximum statistic, n_perm: 200\n",
      "testing candidate: (3, 3) maximum statistic, n_perm: 200\n",
      "testing candidate: (3, 4) maximum statistic, n_perm: 200\n",
      "testing candidate: (3, 2) maximum statistic, n_perm: 200\n",
      "\n",
      "---------------------------- (2) include source candidates\n",
      "candidate set: [(0, np.int64(1)), (0, np.int64(2)), (0, np.int64(3)), (0, np.int64(4)), (0, np.int64(5)), (1, np.int64(1)), (1, np.int64(2)), (1, np.int64(3)), (1, np.int64(4)), (1, np.int64(5)), (2, np.int64(1)), (2, np.int64(2)), (2, np.int64(3)), (2, np.int64(4)), (2, np.int64(5)), (4, np.int64(1)), (4, np.int64(2)), (4, np.int64(3)), (4, np.int64(4)), (4, np.int64(5)), (5, np.int64(1)), (5, np.int64(2)), (5, np.int64(3)), (5, np.int64(4)), (5, np.int64(5)), (6, np.int64(1)), (6, np.int64(2)), (6, np.int64(3)), (6, np.int64(4)), (6, np.int64(5)), (7, np.int64(1)), (7, np.int64(2)), (7, np.int64(3)), (7, np.int64(4)), (7, np.int64(5)), (8, np.int64(1)), (8, np.int64(2)), (8, np.int64(3)), (8, np.int64(4)), (8, np.int64(5))]\n",
      "testing candidate: (1, np.int64(4)) maximum statistic, n_perm: 200\n",
      "testing candidate: (7, np.int64(5)) maximum statistic, n_perm: 200\n",
      "testing candidate: (1, np.int64(1)) maximum statistic, n_perm: 200\n",
      " -- not significant\n",
      "\n",
      "---------------------------- (3) prune source candidate\n",
      "selected candidates: [(1, np.int64(4)), (7, np.int64(5))]\n",
      "testing candidate: (7, np.int64(5)) minimum statistic, n_perm: 500\n",
      " -- significant\n",
      "\n",
      "---------------------------- (4) final statistics\n",
      "selected variables: [(3, 1), (3, 5), (3, 3), (3, 4), (3, 2), (1, np.int64(4)), (7, np.int64(5))]\n",
      "omnibus test, n_perm: 500\n",
      " -- significant\n",
      "\n",
      "sequential maximum statistic, n_perm: 500, testing 2 selected sources\n",
      "removing 0 variables after seq. max stats\n",
      "final source samples: [(1, np.int64(4)), (7, np.int64(5))]\n",
      "final target samples: [(3, 1), (3, 5), (3, 3), (3, 4), (3, 2)]\n",
      "\n",
      "\n",
      "\n",
      "####### analysing target with index 4 from list [0, 1, 2, 3, 4, 5, 6, 7, 8]\n",
      "\n",
      "Target: 4 - testing sources [0, 1, 2, 3, 5, 6, 7, 8]\n",
      "\n",
      "---------------------------- (1) include target candidates\n",
      "candidate set: [(4, 1), (4, 2), (4, 3), (4, 4), (4, 5)]\n",
      "testing candidate: (4, 1) \n",
      "WARNING: Number of replications is not sufficient to generate the desired number of surrogates. Permuting samples in time instead.\n",
      "maximum statistic, n_perm: 200\n",
      "testing candidate: (4, 4) maximum statistic, n_perm: 200\n",
      "testing candidate: (4, 3) maximum statistic, n_perm: 200\n",
      "testing candidate: (4, 2) maximum statistic, n_perm: 200\n",
      "testing candidate: (4, 5) maximum statistic, n_perm: 200\n",
      "\n",
      "---------------------------- (2) include source candidates\n",
      "candidate set: [(0, np.int64(1)), (0, np.int64(2)), (0, np.int64(3)), (0, np.int64(4)), (0, np.int64(5)), (1, np.int64(1)), (1, np.int64(2)), (1, np.int64(3)), (1, np.int64(4)), (1, np.int64(5)), (2, np.int64(1)), (2, np.int64(2)), (2, np.int64(3)), (2, np.int64(4)), (2, np.int64(5)), (3, np.int64(1)), (3, np.int64(2)), (3, np.int64(3)), (3, np.int64(4)), (3, np.int64(5)), (5, np.int64(1)), (5, np.int64(2)), (5, np.int64(3)), (5, np.int64(4)), (5, np.int64(5)), (6, np.int64(1)), (6, np.int64(2)), (6, np.int64(3)), (6, np.int64(4)), (6, np.int64(5)), (7, np.int64(1)), (7, np.int64(2)), (7, np.int64(3)), (7, np.int64(4)), (7, np.int64(5)), (8, np.int64(1)), (8, np.int64(2)), (8, np.int64(3)), (8, np.int64(4)), (8, np.int64(5))]\n",
      "testing candidate: (1, np.int64(2)) maximum statistic, n_perm: 200\n",
      "testing candidate: (1, np.int64(1)) maximum statistic, n_perm: 200\n",
      "testing candidate: (0, np.int64(2)) maximum statistic, n_perm: 200\n",
      " -- not significant\n",
      "\n",
      "---------------------------- (3) prune source candidate\n",
      "selected candidates: [(1, np.int64(2)), (1, np.int64(1))]\n",
      "testing candidate: (1, np.int64(1)) minimum statistic, n_perm: 500\n",
      " -- significant\n",
      "\n",
      "---------------------------- (4) final statistics\n",
      "selected variables: [(4, 1), (4, 4), (4, 3), (4, 2), (4, 5), (1, np.int64(2)), (1, np.int64(1))]\n",
      "omnibus test, n_perm: 500\n",
      " -- significant\n",
      "\n",
      "sequential maximum statistic, n_perm: 500, testing 2 selected sources\n",
      "removing 0 variables after seq. max stats\n",
      "final source samples: [(1, np.int64(2)), (1, np.int64(1))]\n",
      "final target samples: [(4, 1), (4, 4), (4, 3), (4, 2), (4, 5)]\n",
      "\n",
      "\n",
      "\n",
      "####### analysing target with index 5 from list [0, 1, 2, 3, 4, 5, 6, 7, 8]\n",
      "\n",
      "Target: 5 - testing sources [0, 1, 2, 3, 4, 6, 7, 8]\n",
      "\n",
      "---------------------------- (1) include target candidates\n",
      "candidate set: [(5, 1), (5, 2), (5, 3), (5, 4), (5, 5)]\n",
      "testing candidate: (5, 2) \n",
      "WARNING: Number of replications is not sufficient to generate the desired number of surrogates. Permuting samples in time instead.\n",
      "maximum statistic, n_perm: 200\n",
      "testing candidate: (5, 1) maximum statistic, n_perm: 200\n",
      "testing candidate: (5, 4) maximum statistic, n_perm: 200\n",
      "testing candidate: (5, 5) maximum statistic, n_perm: 200\n",
      "testing candidate: (5, 3) maximum statistic, n_perm: 200\n",
      "\n",
      "---------------------------- (2) include source candidates\n",
      "candidate set: [(0, np.int64(1)), (0, np.int64(2)), (0, np.int64(3)), (0, np.int64(4)), (0, np.int64(5)), (1, np.int64(1)), (1, np.int64(2)), (1, np.int64(3)), (1, np.int64(4)), (1, np.int64(5)), (2, np.int64(1)), (2, np.int64(2)), (2, np.int64(3)), (2, np.int64(4)), (2, np.int64(5)), (3, np.int64(1)), (3, np.int64(2)), (3, np.int64(3)), (3, np.int64(4)), (3, np.int64(5)), (4, np.int64(1)), (4, np.int64(2)), (4, np.int64(3)), (4, np.int64(4)), (4, np.int64(5)), (6, np.int64(1)), (6, np.int64(2)), (6, np.int64(3)), (6, np.int64(4)), (6, np.int64(5)), (7, np.int64(1)), (7, np.int64(2)), (7, np.int64(3)), (7, np.int64(4)), (7, np.int64(5)), (8, np.int64(1)), (8, np.int64(2)), (8, np.int64(3)), (8, np.int64(4)), (8, np.int64(5))]\n",
      "testing candidate: (7, np.int64(2)) maximum statistic, n_perm: 200\n",
      "testing candidate: (6, np.int64(3)) maximum statistic, n_perm: 200\n",
      "testing candidate: (7, np.int64(4)) maximum statistic, n_perm: 200\n",
      " -- not significant\n",
      "\n",
      "---------------------------- (3) prune source candidate\n",
      "selected candidates: [(7, np.int64(2)), (6, np.int64(3))]\n",
      "testing candidate: (6, np.int64(3)) minimum statistic, n_perm: 500\n",
      " -- significant\n",
      "\n",
      "---------------------------- (4) final statistics\n",
      "selected variables: [(5, 2), (5, 1), (5, 4), (5, 5), (5, 3), (7, np.int64(2)), (6, np.int64(3))]\n",
      "omnibus test, n_perm: 500\n",
      " -- significant\n",
      "\n",
      "sequential maximum statistic, n_perm: 500, testing 2 selected sources\n",
      "removing 0 variables after seq. max stats\n",
      "final source samples: [(7, np.int64(2)), (6, np.int64(3))]\n",
      "final target samples: [(5, 2), (5, 1), (5, 4), (5, 5), (5, 3)]\n",
      "\n",
      "\n",
      "\n",
      "####### analysing target with index 6 from list [0, 1, 2, 3, 4, 5, 6, 7, 8]\n",
      "\n",
      "Target: 6 - testing sources [0, 1, 2, 3, 4, 5, 7, 8]\n",
      "\n",
      "---------------------------- (1) include target candidates\n",
      "candidate set: [(6, 1), (6, 2), (6, 3), (6, 4), (6, 5)]\n",
      "testing candidate: (6, 3) \n",
      "WARNING: Number of replications is not sufficient to generate the desired number of surrogates. Permuting samples in time instead.\n",
      "maximum statistic, n_perm: 200\n",
      " -- not significant\n",
      "\n",
      "No informative sources in the target's past - adding target sample with lag 1.\n",
      "\n",
      "---------------------------- (2) include source candidates\n",
      "candidate set: [(0, np.int64(1)), (0, np.int64(2)), (0, np.int64(3)), (0, np.int64(4)), (0, np.int64(5)), (1, np.int64(1)), (1, np.int64(2)), (1, np.int64(3)), (1, np.int64(4)), (1, np.int64(5)), (2, np.int64(1)), (2, np.int64(2)), (2, np.int64(3)), (2, np.int64(4)), (2, np.int64(5)), (3, np.int64(1)), (3, np.int64(2)), (3, np.int64(3)), (3, np.int64(4)), (3, np.int64(5)), (4, np.int64(1)), (4, np.int64(2)), (4, np.int64(3)), (4, np.int64(4)), (4, np.int64(5)), (5, np.int64(1)), (5, np.int64(2)), (5, np.int64(3)), (5, np.int64(4)), (5, np.int64(5)), (7, np.int64(1)), (7, np.int64(2)), (7, np.int64(3)), (7, np.int64(4)), (7, np.int64(5)), (8, np.int64(1)), (8, np.int64(2)), (8, np.int64(3)), (8, np.int64(4)), (8, np.int64(5))]\n",
      "testing candidate: (4, np.int64(1)) maximum statistic, n_perm: 200\n",
      "testing candidate: (4, np.int64(5)) maximum statistic, n_perm: 200\n",
      "testing candidate: (4, np.int64(2)) maximum statistic, n_perm: 200\n",
      "testing candidate: (8, np.int64(4)) maximum statistic, n_perm: 200\n",
      "testing candidate: (5, np.int64(4)) maximum statistic, n_perm: 200\n",
      "testing candidate: (2, np.int64(2)) maximum statistic, n_perm: 200\n",
      "testing candidate: (3, np.int64(3)) maximum statistic, n_perm: 200\n",
      " -- not significant\n",
      "\n",
      "---------------------------- (3) prune source candidate\n",
      "selected candidates: [(4, np.int64(1)), (4, np.int64(5)), (4, np.int64(2)), (8, np.int64(4)), (5, np.int64(4)), (2, np.int64(2))]\n",
      "testing candidate: (2, np.int64(2)) minimum statistic, n_perm: 500\n",
      " -- significant\n",
      "\n",
      "---------------------------- (4) final statistics\n",
      "selected variables: [(6, 1), (4, np.int64(1)), (4, np.int64(5)), (4, np.int64(2)), (8, np.int64(4)), (5, np.int64(4)), (2, np.int64(2))]\n",
      "omnibus test, n_perm: 500\n",
      " -- significant\n",
      "\n",
      "sequential maximum statistic, n_perm: 500, testing 6 selected sources\n",
      "removing 0 variables after seq. max stats\n",
      "final source samples: [(4, np.int64(1)), (4, np.int64(5)), (4, np.int64(2)), (8, np.int64(4)), (5, np.int64(4)), (2, np.int64(2))]\n",
      "final target samples: [(6, 1)]\n",
      "\n",
      "\n",
      "\n",
      "####### analysing target with index 7 from list [0, 1, 2, 3, 4, 5, 6, 7, 8]\n",
      "\n",
      "Target: 7 - testing sources [0, 1, 2, 3, 4, 5, 6, 8]\n",
      "\n",
      "---------------------------- (1) include target candidates\n",
      "candidate set: [(7, 1), (7, 2), (7, 3), (7, 4), (7, 5)]\n",
      "testing candidate: (7, 3) \n",
      "WARNING: Number of replications is not sufficient to generate the desired number of surrogates. Permuting samples in time instead.\n",
      "maximum statistic, n_perm: 200\n",
      "testing candidate: (7, 1) maximum statistic, n_perm: 200\n",
      "testing candidate: (7, 2) maximum statistic, n_perm: 200\n",
      "testing candidate: (7, 4) maximum statistic, n_perm: 200\n",
      "testing candidate: (7, 5) maximum statistic, n_perm: 200\n",
      "\n",
      "---------------------------- (2) include source candidates\n",
      "candidate set: [(0, np.int64(1)), (0, np.int64(2)), (0, np.int64(3)), (0, np.int64(4)), (0, np.int64(5)), (1, np.int64(1)), (1, np.int64(2)), (1, np.int64(3)), (1, np.int64(4)), (1, np.int64(5)), (2, np.int64(1)), (2, np.int64(2)), (2, np.int64(3)), (2, np.int64(4)), (2, np.int64(5)), (3, np.int64(1)), (3, np.int64(2)), (3, np.int64(3)), (3, np.int64(4)), (3, np.int64(5)), (4, np.int64(1)), (4, np.int64(2)), (4, np.int64(3)), (4, np.int64(4)), (4, np.int64(5)), (5, np.int64(1)), (5, np.int64(2)), (5, np.int64(3)), (5, np.int64(4)), (5, np.int64(5)), (6, np.int64(1)), (6, np.int64(2)), (6, np.int64(3)), (6, np.int64(4)), (6, np.int64(5)), (8, np.int64(1)), (8, np.int64(2)), (8, np.int64(3)), (8, np.int64(4)), (8, np.int64(5))]\n",
      "testing candidate: (6, np.int64(4)) maximum statistic, n_perm: 200\n",
      "testing candidate: (2, np.int64(1)) maximum statistic, n_perm: 200\n",
      "testing candidate: (5, np.int64(2)) maximum statistic, n_perm: 200\n",
      " -- not significant\n",
      "\n",
      "---------------------------- (3) prune source candidate\n",
      "selected candidates: [(6, np.int64(4)), (2, np.int64(1))]\n",
      "testing candidate: (2, np.int64(1)) minimum statistic, n_perm: 500\n",
      " -- significant\n",
      "\n",
      "---------------------------- (4) final statistics\n",
      "selected variables: [(7, 3), (7, 1), (7, 2), (7, 4), (7, 5), (6, np.int64(4)), (2, np.int64(1))]\n",
      "omnibus test, n_perm: 500\n",
      " -- significant\n",
      "\n",
      "sequential maximum statistic, n_perm: 500, testing 2 selected sources\n",
      "removing 0 variables after seq. max stats\n",
      "final source samples: [(6, np.int64(4)), (2, np.int64(1))]\n",
      "final target samples: [(7, 3), (7, 1), (7, 2), (7, 4), (7, 5)]\n",
      "\n",
      "\n",
      "\n",
      "####### analysing target with index 8 from list [0, 1, 2, 3, 4, 5, 6, 7, 8]\n",
      "\n",
      "Target: 8 - testing sources [0, 1, 2, 3, 4, 5, 6, 7]\n",
      "\n",
      "---------------------------- (1) include target candidates\n",
      "candidate set: [(8, 1), (8, 2), (8, 3), (8, 4), (8, 5)]\n",
      "testing candidate: (8, 2) \n",
      "WARNING: Number of replications is not sufficient to generate the desired number of surrogates. Permuting samples in time instead.\n",
      "maximum statistic, n_perm: 200\n",
      "testing candidate: (8, 3) maximum statistic, n_perm: 200\n",
      "testing candidate: (8, 1) maximum statistic, n_perm: 200\n",
      "testing candidate: (8, 5) maximum statistic, n_perm: 200\n",
      "testing candidate: (8, 4) maximum statistic, n_perm: 200\n",
      "\n",
      "---------------------------- (2) include source candidates\n",
      "candidate set: [(0, np.int64(1)), (0, np.int64(2)), (0, np.int64(3)), (0, np.int64(4)), (0, np.int64(5)), (1, np.int64(1)), (1, np.int64(2)), (1, np.int64(3)), (1, np.int64(4)), (1, np.int64(5)), (2, np.int64(1)), (2, np.int64(2)), (2, np.int64(3)), (2, np.int64(4)), (2, np.int64(5)), (3, np.int64(1)), (3, np.int64(2)), (3, np.int64(3)), (3, np.int64(4)), (3, np.int64(5)), (4, np.int64(1)), (4, np.int64(2)), (4, np.int64(3)), (4, np.int64(4)), (4, np.int64(5)), (5, np.int64(1)), (5, np.int64(2)), (5, np.int64(3)), (5, np.int64(4)), (5, np.int64(5)), (6, np.int64(1)), (6, np.int64(2)), (6, np.int64(3)), (6, np.int64(4)), (6, np.int64(5)), (7, np.int64(1)), (7, np.int64(2)), (7, np.int64(3)), (7, np.int64(4)), (7, np.int64(5))]\n",
      "testing candidate: (3, np.int64(2)) maximum statistic, n_perm: 200\n",
      "testing candidate: (1, np.int64(5)) maximum statistic, n_perm: 200\n",
      "testing candidate: (6, np.int64(4)) maximum statistic, n_perm: 200\n",
      " -- not significant\n",
      "\n",
      "---------------------------- (3) prune source candidate\n",
      "selected candidates: [(3, np.int64(2)), (1, np.int64(5))]\n",
      "testing candidate: (1, np.int64(5)) minimum statistic, n_perm: 500\n",
      " -- significant\n",
      "\n",
      "---------------------------- (4) final statistics\n",
      "selected variables: [(8, 2), (8, 3), (8, 1), (8, 5), (8, 4), (3, np.int64(2)), (1, np.int64(5))]\n",
      "omnibus test, n_perm: 500\n",
      " -- significant\n",
      "\n",
      "sequential maximum statistic, n_perm: 500, testing 2 selected sources\n",
      "removing 0 variables after seq. max stats\n",
      "final source samples: [(3, np.int64(2)), (1, np.int64(5))]\n",
      "final target samples: [(8, 2), (8, 3), (8, 1), (8, 5), (8, 4)]\n",
      "\n",
      "\n",
      "WARNING: Number of permutations ('n_perm_max_seq') for at least one target is too low to allow for FDR correction (FDR-threshold: 0.0020, min. theoretically possible p-value: 0.002).\n",
      "\t1 -> 3, max_te_lag: 4\n",
      "\t1 -> 4, max_te_lag: 2\n",
      "\t1 -> 8, max_te_lag: 5\n",
      "\t2 -> 6, max_te_lag: 2\n",
      "\t2 -> 7, max_te_lag: 1\n",
      "\t3 -> 0, max_te_lag: 5\n",
      "\t3 -> 8, max_te_lag: 2\n",
      "\t4 -> 6, max_te_lag: 1\n",
      "\t5 -> 0, max_te_lag: 3\n",
      "\t5 -> 2, max_te_lag: 3\n",
      "\t5 -> 6, max_te_lag: 4\n",
      "\t6 -> 1, max_te_lag: 4\n",
      "\t6 -> 5, max_te_lag: 3\n",
      "\t6 -> 7, max_te_lag: 4\n",
      "\t7 -> 3, max_te_lag: 5\n",
      "\t7 -> 5, max_te_lag: 2\n",
      "\t8 -> 1, max_te_lag: 5\n",
      "\t8 -> 6, max_te_lag: 4\n"
     ]
    },
    {
     "data": {
      "image/png": "[encoded data removed]",
      "text/plain": [
       "<Figure size 1000x500 with 3 Axes>"
      ]
     },
     "metadata": {},
     "output_type": "display_data"
    }
   ],
   "source": [
    "discrete_log_returns = preprocess.discretize_df(pca_asset_classes, num_bins=3)\n",
    "settings = {\n",
    "    \"cmi_estimator\": \"JidtDiscreteCMI\",\n",
    "    \"max_lag_sources\": 5,\n",
    "    \"min_lag_sources\": 1,\n",
    "    \"n_discrete_bins\": np.max(discrete_log_returns) + 1 \n",
    "}\n",
    "results = idtxl_multi_te(discrete_log_returns, settings=settings)"
   ]
  },
  {
   "cell_type": "code",
   "execution_count": 12,
   "id": "0dafc07b",
   "metadata": {},
   "outputs": [
    {
     "data": {
      "image/png": "[encoded data removed]",
      "text/plain": [
       "<Figure size 1200x800 with 1 Axes>"
      ]
     },
     "metadata": {},
     "output_type": "display_data"
    }
   ],
   "source": [
    "te_matrix = idtxl_te_values(results)\n",
    "G = adj_matrix_to_graph(pca_asset_classes, te_matrix)\n",
    "largest_cc = max(nx.connected_components(G.to_undirected()), key=len)\n",
    "G_largest_cc = G.subgraph(largest_cc).copy()\n",
    "network.plot_graph(G_largest_cc, fixed_pos, \"asset_classes_te_network\")"
   ]
  },
  {
   "cell_type": "code",
   "execution_count": 13,
   "id": "c3ab4a88",
   "metadata": {},
   "outputs": [
    {
     "name": "stdout",
     "output_type": "stream",
     "text": [
      "Adding data with properties: 9 processes, 1477 samples, 1 replications\n",
      "overwriting existing data\n",
      "\n",
      "####### analysing target with index 0 from list [0, 1, 2, 3, 4, 5, 6, 7, 8]\n",
      "\n",
      "Target: 0 - testing sources [1, 2, 3, 4, 5, 6, 7, 8]\n",
      "\n",
      "---------------------------- (1) include target candidates\n",
      "candidate set: [(0, 1), (0, 2), (0, 3), (0, 4), (0, 5)]\n",
      "testing candidate: (0, 1) \n",
      "WARNING: Number of replications is not sufficient to generate the desired number of surrogates. Permuting samples in time instead.\n",
      "maximum statistic, n_perm: 200\n",
      "testing candidate: (0, 4) maximum statistic, n_perm: 200\n",
      " -- not significant\n",
      "\n",
      "---------------------------- (2) include source candidates\n",
      "candidate set: [(1, np.int64(1)), (1, np.int64(2)), (1, np.int64(3)), (1, np.int64(4)), (1, np.int64(5)), (2, np.int64(1)), (2, np.int64(2)), (2, np.int64(3)), (2, np.int64(4)), (2, np.int64(5)), (3, np.int64(1)), (3, np.int64(2)), (3, np.int64(3)), (3, np.int64(4)), (3, np.int64(5)), (4, np.int64(1)), (4, np.int64(2)), (4, np.int64(3)), (4, np.int64(4)), (4, np.int64(5)), (5, np.int64(1)), (5, np.int64(2)), (5, np.int64(3)), (5, np.int64(4)), (5, np.int64(5)), (6, np.int64(1)), (6, np.int64(2)), (6, np.int64(3)), (6, np.int64(4)), (6, np.int64(5)), (7, np.int64(1)), (7, np.int64(2)), (7, np.int64(3)), (7, np.int64(4)), (7, np.int64(5)), (8, np.int64(1)), (8, np.int64(2)), (8, np.int64(3)), (8, np.int64(4)), (8, np.int64(5))]\n",
      "testing candidate: (4, np.int64(1)) maximum statistic, n_perm: 200\n"
     ]
    },
    {
     "name": "stderr",
     "output_type": "stream",
     "text": [
      "C:\\Users\\akhma\\OneDrive\\Onenote\\Python\\IDTxl\\idtxl\\data.py:274: RuntimeWarning:\n",
      "\n",
      "invalid value encountered in cast\n",
      "\n"
     ]
    },
    {
     "name": "stdout",
     "output_type": "stream",
     "text": [
      "testing candidate: (2, np.int64(2)) maximum statistic, n_perm: 200\n",
      " -- not significant\n",
      "\n",
      "---------------------------- (3) prune source candidate\n",
      "selected candidates: [(4, np.int64(1))]\n",
      " -- significant\n",
      "\n",
      "---------------------------- (4) final statistics\n",
      "selected variables: [(0, 1), (4, np.int64(1))]\n",
      "omnibus test, n_perm: 500\n",
      " -- significant\n",
      "\n",
      "sequential maximum statistic, n_perm: 500, testing 1 selected sources\n",
      "removing 0 variables after seq. max stats\n",
      "final source samples: [(4, np.int64(1))]\n",
      "final target samples: [(0, 1)]\n",
      "\n",
      "\n",
      "\n",
      "####### analysing target with index 1 from list [0, 1, 2, 3, 4, 5, 6, 7, 8]\n",
      "\n",
      "Target: 1 - testing sources [0, 2, 3, 4, 5, 6, 7, 8]\n",
      "\n",
      "---------------------------- (1) include target candidates\n",
      "candidate set: [(1, 1), (1, 2), (1, 3), (1, 4), (1, 5)]\n",
      "testing candidate: (1, 2) \n",
      "WARNING: Number of replications is not sufficient to generate the desired number of surrogates. Permuting samples in time instead.\n",
      "maximum statistic, n_perm: 200\n",
      " -- not significant\n",
      "\n",
      "No informative sources in the target's past - adding target sample with lag 1.\n",
      "\n",
      "---------------------------- (2) include source candidates\n",
      "candidate set: [(0, np.int64(1)), (0, np.int64(2)), (0, np.int64(3)), (0, np.int64(4)), (0, np.int64(5)), (2, np.int64(1)), (2, np.int64(2)), (2, np.int64(3)), (2, np.int64(4)), (2, np.int64(5)), (3, np.int64(1)), (3, np.int64(2)), (3, np.int64(3)), (3, np.int64(4)), (3, np.int64(5)), (4, np.int64(1)), (4, np.int64(2)), (4, np.int64(3)), (4, np.int64(4)), (4, np.int64(5)), (5, np.int64(1)), (5, np.int64(2)), (5, np.int64(3)), (5, np.int64(4)), (5, np.int64(5)), (6, np.int64(1)), (6, np.int64(2)), (6, np.int64(3)), (6, np.int64(4)), (6, np.int64(5)), (7, np.int64(1)), (7, np.int64(2)), (7, np.int64(3)), (7, np.int64(4)), (7, np.int64(5)), (8, np.int64(1)), (8, np.int64(2)), (8, np.int64(3)), (8, np.int64(4)), (8, np.int64(5))]\n",
      "testing candidate: (5, np.int64(2)) maximum statistic, n_perm: 200\n",
      "testing candidate: (2, np.int64(2)) maximum statistic, n_perm: 200\n",
      " -- not significant\n",
      "\n",
      "---------------------------- (3) prune source candidate\n",
      "selected candidates: [(5, np.int64(2))]\n",
      " -- significant\n",
      "\n",
      "---------------------------- (4) final statistics\n",
      "selected variables: [(1, 1), (5, np.int64(2))]\n",
      "omnibus test, n_perm: 500\n",
      " -- significant\n",
      "\n",
      "sequential maximum statistic, n_perm: 500, testing 1 selected sources\n",
      "removing 0 variables after seq. max stats\n",
      "final source samples: [(5, np.int64(2))]\n",
      "final target samples: [(1, 1)]\n",
      "\n",
      "\n",
      "\n",
      "####### analysing target with index 2 from list [0, 1, 2, 3, 4, 5, 6, 7, 8]\n",
      "\n",
      "Target: 2 - testing sources [0, 1, 3, 4, 5, 6, 7, 8]\n",
      "\n",
      "---------------------------- (1) include target candidates\n",
      "candidate set: [(2, 1), (2, 2), (2, 3), (2, 4), (2, 5)]\n",
      "testing candidate: (2, 3) \n",
      "WARNING: Number of replications is not sufficient to generate the desired number of surrogates. Permuting samples in time instead.\n",
      "maximum statistic, n_perm: 200\n",
      " -- not significant\n",
      "\n",
      "No informative sources in the target's past - adding target sample with lag 1.\n",
      "\n",
      "---------------------------- (2) include source candidates\n",
      "candidate set: [(0, np.int64(1)), (0, np.int64(2)), (0, np.int64(3)), (0, np.int64(4)), (0, np.int64(5)), (1, np.int64(1)), (1, np.int64(2)), (1, np.int64(3)), (1, np.int64(4)), (1, np.int64(5)), (3, np.int64(1)), (3, np.int64(2)), (3, np.int64(3)), (3, np.int64(4)), (3, np.int64(5)), (4, np.int64(1)), (4, np.int64(2)), (4, np.int64(3)), (4, np.int64(4)), (4, np.int64(5)), (5, np.int64(1)), (5, np.int64(2)), (5, np.int64(3)), (5, np.int64(4)), (5, np.int64(5)), (6, np.int64(1)), (6, np.int64(2)), (6, np.int64(3)), (6, np.int64(4)), (6, np.int64(5)), (7, np.int64(1)), (7, np.int64(2)), (7, np.int64(3)), (7, np.int64(4)), (7, np.int64(5)), (8, np.int64(1)), (8, np.int64(2)), (8, np.int64(3)), (8, np.int64(4)), (8, np.int64(5))]\n",
      "testing candidate: (7, np.int64(1)) maximum statistic, n_perm: 200\n",
      " -- not significant\n",
      "\n",
      "---------------------------- (3) prune source candidate\n",
      "no sources selected, nothing to prune ...\n",
      "\n",
      "---------------------------- (4) final statistics\n",
      "no sources selected ...\n",
      "final source samples: []\n",
      "final target samples: [(2, 1)]\n",
      "\n",
      "\n",
      "\n",
      "####### analysing target with index 3 from list [0, 1, 2, 3, 4, 5, 6, 7, 8]\n",
      "\n",
      "Target: 3 - testing sources [0, 1, 2, 4, 5, 6, 7, 8]\n",
      "\n",
      "---------------------------- (1) include target candidates\n",
      "candidate set: [(3, 1), (3, 2), (3, 3), (3, 4), (3, 5)]\n",
      "testing candidate: (3, 1) \n",
      "WARNING: Number of replications is not sufficient to generate the desired number of surrogates. Permuting samples in time instead.\n",
      "maximum statistic, n_perm: 200\n",
      " -- not significant\n",
      "\n",
      "No informative sources in the target's past - adding target sample with lag 1.\n",
      "\n",
      "---------------------------- (2) include source candidates\n",
      "candidate set: [(0, np.int64(1)), (0, np.int64(2)), (0, np.int64(3)), (0, np.int64(4)), (0, np.int64(5)), (1, np.int64(1)), (1, np.int64(2)), (1, np.int64(3)), (1, np.int64(4)), (1, np.int64(5)), (2, np.int64(1)), (2, np.int64(2)), (2, np.int64(3)), (2, np.int64(4)), (2, np.int64(5)), (4, np.int64(1)), (4, np.int64(2)), (4, np.int64(3)), (4, np.int64(4)), (4, np.int64(5)), (5, np.int64(1)), (5, np.int64(2)), (5, np.int64(3)), (5, np.int64(4)), (5, np.int64(5)), (6, np.int64(1)), (6, np.int64(2)), (6, np.int64(3)), (6, np.int64(4)), (6, np.int64(5)), (7, np.int64(1)), (7, np.int64(2)), (7, np.int64(3)), (7, np.int64(4)), (7, np.int64(5)), (8, np.int64(1)), (8, np.int64(2)), (8, np.int64(3)), (8, np.int64(4)), (8, np.int64(5))]\n",
      "testing candidate: (2, np.int64(3)) maximum statistic, n_perm: 200\n",
      " -- not significant\n",
      "\n",
      "---------------------------- (3) prune source candidate\n",
      "no sources selected, nothing to prune ...\n",
      "\n",
      "---------------------------- (4) final statistics\n",
      "no sources selected ...\n",
      "final source samples: []\n",
      "final target samples: [(3, 1)]\n",
      "\n",
      "\n",
      "\n",
      "####### analysing target with index 4 from list [0, 1, 2, 3, 4, 5, 6, 7, 8]\n",
      "\n",
      "Target: 4 - testing sources [0, 1, 2, 3, 5, 6, 7, 8]\n",
      "\n",
      "---------------------------- (1) include target candidates\n",
      "candidate set: [(4, 1), (4, 2), (4, 3), (4, 4), (4, 5)]\n",
      "testing candidate: (4, 1) \n",
      "WARNING: Number of replications is not sufficient to generate the desired number of surrogates. Permuting samples in time instead.\n",
      "maximum statistic, n_perm: 200\n",
      " -- not significant\n",
      "\n",
      "No informative sources in the target's past - adding target sample with lag 1.\n",
      "\n",
      "---------------------------- (2) include source candidates\n",
      "candidate set: [(0, np.int64(1)), (0, np.int64(2)), (0, np.int64(3)), (0, np.int64(4)), (0, np.int64(5)), (1, np.int64(1)), (1, np.int64(2)), (1, np.int64(3)), (1, np.int64(4)), (1, np.int64(5)), (2, np.int64(1)), (2, np.int64(2)), (2, np.int64(3)), (2, np.int64(4)), (2, np.int64(5)), (3, np.int64(1)), (3, np.int64(2)), (3, np.int64(3)), (3, np.int64(4)), (3, np.int64(5)), (5, np.int64(1)), (5, np.int64(2)), (5, np.int64(3)), (5, np.int64(4)), (5, np.int64(5)), (6, np.int64(1)), (6, np.int64(2)), (6, np.int64(3)), (6, np.int64(4)), (6, np.int64(5)), (7, np.int64(1)), (7, np.int64(2)), (7, np.int64(3)), (7, np.int64(4)), (7, np.int64(5)), (8, np.int64(1)), (8, np.int64(2)), (8, np.int64(3)), (8, np.int64(4)), (8, np.int64(5))]\n",
      "testing candidate: (0, np.int64(4)) maximum statistic, n_perm: 200\n",
      "testing candidate: (8, np.int64(3)) maximum statistic, n_perm: 200\n",
      " -- not significant\n",
      "\n",
      "---------------------------- (3) prune source candidate\n",
      "selected candidates: [(0, np.int64(4))]\n",
      " -- significant\n",
      "\n",
      "---------------------------- (4) final statistics\n",
      "selected variables: [(4, 1), (0, np.int64(4))]\n",
      "omnibus test, n_perm: 500\n",
      " -- significant\n",
      "\n",
      "sequential maximum statistic, n_perm: 500, testing 1 selected sources\n",
      "removing 0 variables after seq. max stats\n",
      "final source samples: [(0, np.int64(4))]\n",
      "final target samples: [(4, 1)]\n",
      "\n",
      "\n",
      "\n",
      "####### analysing target with index 5 from list [0, 1, 2, 3, 4, 5, 6, 7, 8]\n",
      "\n",
      "Target: 5 - testing sources [0, 1, 2, 3, 4, 6, 7, 8]\n",
      "\n",
      "---------------------------- (1) include target candidates\n",
      "candidate set: [(5, 1), (5, 2), (5, 3), (5, 4), (5, 5)]\n",
      "testing candidate: (5, 2) \n",
      "WARNING: Number of replications is not sufficient to generate the desired number of surrogates. Permuting samples in time instead.\n",
      "maximum statistic, n_perm: 200\n",
      "testing candidate: (5, 1) maximum statistic, n_perm: 200\n",
      " -- not significant\n",
      "\n",
      "---------------------------- (2) include source candidates\n",
      "candidate set: [(0, np.int64(1)), (0, np.int64(2)), (0, np.int64(3)), (0, np.int64(4)), (0, np.int64(5)), (1, np.int64(1)), (1, np.int64(2)), (1, np.int64(3)), (1, np.int64(4)), (1, np.int64(5)), (2, np.int64(1)), (2, np.int64(2)), (2, np.int64(3)), (2, np.int64(4)), (2, np.int64(5)), (3, np.int64(1)), (3, np.int64(2)), (3, np.int64(3)), (3, np.int64(4)), (3, np.int64(5)), (4, np.int64(1)), (4, np.int64(2)), (4, np.int64(3)), (4, np.int64(4)), (4, np.int64(5)), (6, np.int64(1)), (6, np.int64(2)), (6, np.int64(3)), (6, np.int64(4)), (6, np.int64(5)), (7, np.int64(1)), (7, np.int64(2)), (7, np.int64(3)), (7, np.int64(4)), (7, np.int64(5)), (8, np.int64(1)), (8, np.int64(2)), (8, np.int64(3)), (8, np.int64(4)), (8, np.int64(5))]\n",
      "testing candidate: (2, np.int64(2)) maximum statistic, n_perm: 200\n",
      "testing candidate: (2, np.int64(1)) maximum statistic, n_perm: 200\n",
      " -- not significant\n",
      "\n",
      "---------------------------- (3) prune source candidate\n",
      "selected candidates: [(2, np.int64(2))]\n",
      " -- significant\n",
      "\n",
      "---------------------------- (4) final statistics\n",
      "selected variables: [(5, 2), (2, np.int64(2))]\n",
      "omnibus test, n_perm: 500\n",
      " -- significant\n",
      "\n",
      "sequential maximum statistic, n_perm: 500, testing 1 selected sources\n",
      "removing 0 variables after seq. max stats\n",
      "final source samples: [(2, np.int64(2))]\n",
      "final target samples: [(5, 2)]\n",
      "\n",
      "\n",
      "\n",
      "####### analysing target with index 6 from list [0, 1, 2, 3, 4, 5, 6, 7, 8]\n",
      "\n",
      "Target: 6 - testing sources [0, 1, 2, 3, 4, 5, 7, 8]\n",
      "\n",
      "---------------------------- (1) include target candidates\n",
      "candidate set: [(6, 1), (6, 2), (6, 3), (6, 4), (6, 5)]\n",
      "testing candidate: (6, 3) \n",
      "WARNING: Number of replications is not sufficient to generate the desired number of surrogates. Permuting samples in time instead.\n",
      "maximum statistic, n_perm: 200\n",
      "testing candidate: (6, 4) maximum statistic, n_perm: 200\n",
      " -- not significant\n",
      "\n",
      "---------------------------- (2) include source candidates\n",
      "candidate set: [(0, np.int64(1)), (0, np.int64(2)), (0, np.int64(3)), (0, np.int64(4)), (0, np.int64(5)), (1, np.int64(1)), (1, np.int64(2)), (1, np.int64(3)), (1, np.int64(4)), (1, np.int64(5)), (2, np.int64(1)), (2, np.int64(2)), (2, np.int64(3)), (2, np.int64(4)), (2, np.int64(5)), (3, np.int64(1)), (3, np.int64(2)), (3, np.int64(3)), (3, np.int64(4)), (3, np.int64(5)), (4, np.int64(1)), (4, np.int64(2)), (4, np.int64(3)), (4, np.int64(4)), (4, np.int64(5)), (5, np.int64(1)), (5, np.int64(2)), (5, np.int64(3)), (5, np.int64(4)), (5, np.int64(5)), (7, np.int64(1)), (7, np.int64(2)), (7, np.int64(3)), (7, np.int64(4)), (7, np.int64(5)), (8, np.int64(1)), (8, np.int64(2)), (8, np.int64(3)), (8, np.int64(4)), (8, np.int64(5))]\n",
      "testing candidate: (2, np.int64(1)) maximum statistic, n_perm: 200\n",
      "testing candidate: (3, np.int64(3)) maximum statistic, n_perm: 200\n",
      " -- not significant\n",
      "\n",
      "---------------------------- (3) prune source candidate\n",
      "selected candidates: [(2, np.int64(1))]\n",
      " -- significant\n",
      "\n",
      "---------------------------- (4) final statistics\n",
      "selected variables: [(6, 3), (2, np.int64(1))]\n",
      "omnibus test, n_perm: 500\n",
      " -- significant\n",
      "\n",
      "sequential maximum statistic, n_perm: 500, testing 1 selected sources\n",
      "removing 0 variables after seq. max stats\n",
      "final source samples: [(2, np.int64(1))]\n",
      "final target samples: [(6, 3)]\n",
      "\n",
      "\n",
      "\n",
      "####### analysing target with index 7 from list [0, 1, 2, 3, 4, 5, 6, 7, 8]\n",
      "\n",
      "Target: 7 - testing sources [0, 1, 2, 3, 4, 5, 6, 8]\n",
      "\n",
      "---------------------------- (1) include target candidates\n",
      "candidate set: [(7, 1), (7, 2), (7, 3), (7, 4), (7, 5)]\n",
      "testing candidate: (7, 5) \n",
      "WARNING: Number of replications is not sufficient to generate the desired number of surrogates. Permuting samples in time instead.\n",
      "maximum statistic, n_perm: 200\n",
      " -- not significant\n",
      "\n",
      "No informative sources in the target's past - adding target sample with lag 1.\n",
      "\n",
      "---------------------------- (2) include source candidates\n",
      "candidate set: [(0, np.int64(1)), (0, np.int64(2)), (0, np.int64(3)), (0, np.int64(4)), (0, np.int64(5)), (1, np.int64(1)), (1, np.int64(2)), (1, np.int64(3)), (1, np.int64(4)), (1, np.int64(5)), (2, np.int64(1)), (2, np.int64(2)), (2, np.int64(3)), (2, np.int64(4)), (2, np.int64(5)), (3, np.int64(1)), (3, np.int64(2)), (3, np.int64(3)), (3, np.int64(4)), (3, np.int64(5)), (4, np.int64(1)), (4, np.int64(2)), (4, np.int64(3)), (4, np.int64(4)), (4, np.int64(5)), (5, np.int64(1)), (5, np.int64(2)), (5, np.int64(3)), (5, np.int64(4)), (5, np.int64(5)), (6, np.int64(1)), (6, np.int64(2)), (6, np.int64(3)), (6, np.int64(4)), (6, np.int64(5)), (8, np.int64(1)), (8, np.int64(2)), (8, np.int64(3)), (8, np.int64(4)), (8, np.int64(5))]\n",
      "testing candidate: (0, np.int64(3)) maximum statistic, n_perm: 200\n",
      "testing candidate: (5, np.int64(4)) maximum statistic, n_perm: 200\n",
      " -- not significant\n",
      "\n",
      "---------------------------- (3) prune source candidate\n",
      "selected candidates: [(0, np.int64(3))]\n",
      " -- significant\n",
      "\n",
      "---------------------------- (4) final statistics\n",
      "selected variables: [(7, 1), (0, np.int64(3))]\n",
      "omnibus test, n_perm: 500\n",
      " -- significant\n",
      "\n",
      "sequential maximum statistic, n_perm: 500, testing 1 selected sources\n",
      "removing 0 variables after seq. max stats\n",
      "final source samples: [(0, np.int64(3))]\n",
      "final target samples: [(7, 1)]\n",
      "\n",
      "\n",
      "\n",
      "####### analysing target with index 8 from list [0, 1, 2, 3, 4, 5, 6, 7, 8]\n",
      "\n",
      "Target: 8 - testing sources [0, 1, 2, 3, 4, 5, 6, 7]\n",
      "\n",
      "---------------------------- (1) include target candidates\n",
      "candidate set: [(8, 1), (8, 2), (8, 3), (8, 4), (8, 5)]\n",
      "testing candidate: (8, 2) \n",
      "WARNING: Number of replications is not sufficient to generate the desired number of surrogates. Permuting samples in time instead.\n",
      "maximum statistic, n_perm: 200\n",
      " -- not significant\n",
      "\n",
      "No informative sources in the target's past - adding target sample with lag 1.\n",
      "\n",
      "---------------------------- (2) include source candidates\n",
      "candidate set: [(0, np.int64(1)), (0, np.int64(2)), (0, np.int64(3)), (0, np.int64(4)), (0, np.int64(5)), (1, np.int64(1)), (1, np.int64(2)), (1, np.int64(3)), (1, np.int64(4)), (1, np.int64(5)), (2, np.int64(1)), (2, np.int64(2)), (2, np.int64(3)), (2, np.int64(4)), (2, np.int64(5)), (3, np.int64(1)), (3, np.int64(2)), (3, np.int64(3)), (3, np.int64(4)), (3, np.int64(5)), (4, np.int64(1)), (4, np.int64(2)), (4, np.int64(3)), (4, np.int64(4)), (4, np.int64(5)), (5, np.int64(1)), (5, np.int64(2)), (5, np.int64(3)), (5, np.int64(4)), (5, np.int64(5)), (6, np.int64(1)), (6, np.int64(2)), (6, np.int64(3)), (6, np.int64(4)), (6, np.int64(5)), (7, np.int64(1)), (7, np.int64(2)), (7, np.int64(3)), (7, np.int64(4)), (7, np.int64(5))]\n",
      "testing candidate: (2, np.int64(4)) maximum statistic, n_perm: 200\n",
      " -- not significant\n",
      "\n",
      "---------------------------- (3) prune source candidate\n",
      "no sources selected, nothing to prune ...\n",
      "\n",
      "---------------------------- (4) final statistics\n",
      "no sources selected ...\n",
      "final source samples: []\n",
      "final target samples: [(8, 1)]\n",
      "\n",
      "\n",
      "WARNING: Number of permutations ('n_perm_max_seq') for at least one target is too low to allow for FDR correction (FDR-threshold: 0.0020, min. theoretically possible p-value: 0.002).\n",
      "\t0 -> 4, max_te_lag: 4\n",
      "\t0 -> 7, max_te_lag: 3\n",
      "\t2 -> 5, max_te_lag: 2\n",
      "\t2 -> 6, max_te_lag: 1\n",
      "\t4 -> 0, max_te_lag: 1\n",
      "\t5 -> 1, max_te_lag: 2\n"
     ]
    },
    {
     "data": {
      "image/png": "[encoded data removed]",
      "text/plain": [
       "<Figure size 1000x500 with 3 Axes>"
      ]
     },
     "metadata": {},
     "output_type": "display_data"
    },
    {
     "name": "stdout",
     "output_type": "stream",
     "text": [
      "Adding data with properties: 9 processes, 1443 samples, 1 replications\n",
      "overwriting existing data\n",
      "\n",
      "####### analysing target with index 0 from list [0, 1, 2, 3, 4, 5, 6, 7, 8]\n",
      "\n",
      "Target: 0 - testing sources [1, 2, 3, 4, 5, 6, 7, 8]\n",
      "\n",
      "---------------------------- (1) include target candidates\n",
      "candidate set: [(0, 1), (0, 2), (0, 3), (0, 4), (0, 5)]\n",
      "testing candidate: (0, 1) \n",
      "WARNING: Number of replications is not sufficient to generate the desired number of surrogates. Permuting samples in time instead.\n",
      "maximum statistic, n_perm: 200\n",
      "testing candidate: (0, 4) maximum statistic, n_perm: 200\n",
      "testing candidate: (0, 3) maximum statistic, n_perm: 200\n",
      "testing candidate: (0, 2) maximum statistic, n_perm: 200\n",
      " -- not significant\n",
      "\n",
      "---------------------------- (2) include source candidates\n",
      "candidate set: [(1, np.int64(1)), (1, np.int64(2)), (1, np.int64(3)), (1, np.int64(4)), (1, np.int64(5)), (2, np.int64(1)), (2, np.int64(2)), (2, np.int64(3)), (2, np.int64(4)), (2, np.int64(5)), (3, np.int64(1)), (3, np.int64(2)), (3, np.int64(3)), (3, np.int64(4)), (3, np.int64(5)), (4, np.int64(1)), (4, np.int64(2)), (4, np.int64(3)), (4, np.int64(4)), (4, np.int64(5)), (5, np.int64(1)), (5, np.int64(2)), (5, np.int64(3)), (5, np.int64(4)), (5, np.int64(5)), (6, np.int64(1)), (6, np.int64(2)), (6, np.int64(3)), (6, np.int64(4)), (6, np.int64(5)), (7, np.int64(1)), (7, np.int64(2)), (7, np.int64(3)), (7, np.int64(4)), (7, np.int64(5)), (8, np.int64(1)), (8, np.int64(2)), (8, np.int64(3)), (8, np.int64(4)), (8, np.int64(5))]\n",
      "testing candidate: (7, np.int64(1)) maximum statistic, n_perm: 200\n",
      "testing candidate: (3, np.int64(1)) maximum statistic, n_perm: 200\n",
      "testing candidate: (5, np.int64(5)) maximum statistic, n_perm: 200\n",
      "testing candidate: (2, np.int64(5)) maximum statistic, n_perm: 200\n",
      "testing candidate: (8, np.int64(2)) maximum statistic, n_perm: 200\n",
      "testing candidate: (5, np.int64(4)) maximum statistic, n_perm: 200\n",
      "testing candidate: (8, np.int64(3)) maximum statistic, n_perm: 200\n",
      " -- not significant\n",
      "\n",
      "---------------------------- (3) prune source candidate\n",
      "selected candidates: [(7, np.int64(1)), (3, np.int64(1)), (5, np.int64(5)), (2, np.int64(5)), (8, np.int64(2)), (5, np.int64(4))]\n",
      "testing candidate: (7, np.int64(1)) minimum statistic, n_perm: 500\n",
      " -- significant\n",
      "\n",
      "---------------------------- (4) final statistics\n",
      "selected variables: [(0, 1), (0, 4), (0, 3), (7, np.int64(1)), (3, np.int64(1)), (5, np.int64(5)), (2, np.int64(5)), (8, np.int64(2)), (5, np.int64(4))]\n",
      "omnibus test, n_perm: 500\n",
      " -- significant\n",
      "\n",
      "sequential maximum statistic, n_perm: 500, testing 6 selected sources\n",
      "removing 0 variables after seq. max stats\n"
     ]
    },
    {
     "name": "stderr",
     "output_type": "stream",
     "text": [
      "C:\\Users\\akhma\\OneDrive\\Onenote\\Python\\IDTxl\\idtxl\\network_inference.py:1022: RuntimeWarning:\n",
      "\n",
      "invalid value encountered in cast\n",
      "\n",
      "C:\\Users\\akhma\\OneDrive\\Onenote\\Python\\IDTxl\\idtxl\\stats.py:553: RuntimeWarning:\n",
      "\n",
      "invalid value encountered in cast\n",
      "\n"
     ]
    },
    {
     "name": "stdout",
     "output_type": "stream",
     "text": [
      "final source samples: [(7, np.int64(1)), (3, np.int64(1)), (5, np.int64(5)), (2, np.int64(5)), (8, np.int64(2)), (5, np.int64(4))]\n",
      "final target samples: [(0, 1), (0, 4), (0, 3)]\n",
      "\n",
      "\n",
      "\n",
      "####### analysing target with index 1 from list [0, 1, 2, 3, 4, 5, 6, 7, 8]\n",
      "\n",
      "Target: 1 - testing sources [0, 2, 3, 4, 5, 6, 7, 8]\n",
      "\n",
      "---------------------------- (1) include target candidates\n",
      "candidate set: [(1, 1), (1, 2), (1, 3), (1, 4), (1, 5)]\n",
      "testing candidate: (1, 2) \n",
      "WARNING: Number of replications is not sufficient to generate the desired number of surrogates. Permuting samples in time instead.\n",
      "maximum statistic, n_perm: 200\n",
      " -- not significant\n",
      "\n",
      "No informative sources in the target's past - adding target sample with lag 1.\n",
      "\n",
      "---------------------------- (2) include source candidates\n",
      "candidate set: [(0, np.int64(1)), (0, np.int64(2)), (0, np.int64(3)), (0, np.int64(4)), (0, np.int64(5)), (2, np.int64(1)), (2, np.int64(2)), (2, np.int64(3)), (2, np.int64(4)), (2, np.int64(5)), (3, np.int64(1)), (3, np.int64(2)), (3, np.int64(3)), (3, np.int64(4)), (3, np.int64(5)), (4, np.int64(1)), (4, np.int64(2)), (4, np.int64(3)), (4, np.int64(4)), (4, np.int64(5)), (5, np.int64(1)), (5, np.int64(2)), (5, np.int64(3)), (5, np.int64(4)), (5, np.int64(5)), (6, np.int64(1)), (6, np.int64(2)), (6, np.int64(3)), (6, np.int64(4)), (6, np.int64(5)), (7, np.int64(1)), (7, np.int64(2)), (7, np.int64(3)), (7, np.int64(4)), (7, np.int64(5)), (8, np.int64(1)), (8, np.int64(2)), (8, np.int64(3)), (8, np.int64(4)), (8, np.int64(5))]\n",
      "testing candidate: (8, np.int64(1)) maximum statistic, n_perm: 200\n",
      "testing candidate: (5, np.int64(2)) maximum statistic, n_perm: 200\n",
      "testing candidate: (8, np.int64(5)) maximum statistic, n_perm: 200\n",
      "testing candidate: (6, np.int64(4)) maximum statistic, n_perm: 200\n",
      " -- not significant\n",
      "\n",
      "---------------------------- (3) prune source candidate\n",
      "selected candidates: [(8, np.int64(1)), (5, np.int64(2)), (8, np.int64(5))]\n",
      "testing candidate: (8, np.int64(5)) minimum statistic, n_perm: 500\n",
      " -- significant\n",
      "\n",
      "---------------------------- (4) final statistics\n",
      "selected variables: [(1, 1), (8, np.int64(1)), (5, np.int64(2)), (8, np.int64(5))]\n",
      "omnibus test, n_perm: 500\n",
      " -- significant\n",
      "\n",
      "sequential maximum statistic, n_perm: 500, testing 3 selected sources\n",
      "removing 0 variables after seq. max stats\n",
      "final source samples: [(8, np.int64(1)), (5, np.int64(2)), (8, np.int64(5))]\n",
      "final target samples: [(1, 1)]\n",
      "\n",
      "\n",
      "\n",
      "####### analysing target with index 2 from list [0, 1, 2, 3, 4, 5, 6, 7, 8]\n",
      "\n",
      "Target: 2 - testing sources [0, 1, 3, 4, 5, 6, 7, 8]\n",
      "\n",
      "---------------------------- (1) include target candidates\n",
      "candidate set: [(2, 1), (2, 2), (2, 3), (2, 4), (2, 5)]\n",
      "testing candidate: (2, 1) \n",
      "WARNING: Number of replications is not sufficient to generate the desired number of surrogates. Permuting samples in time instead.\n",
      "maximum statistic, n_perm: 200\n",
      "testing candidate: (2, 5) maximum statistic, n_perm: 200\n",
      " -- not significant\n",
      "\n",
      "---------------------------- (2) include source candidates\n",
      "candidate set: [(0, np.int64(1)), (0, np.int64(2)), (0, np.int64(3)), (0, np.int64(4)), (0, np.int64(5)), (1, np.int64(1)), (1, np.int64(2)), (1, np.int64(3)), (1, np.int64(4)), (1, np.int64(5)), (3, np.int64(1)), (3, np.int64(2)), (3, np.int64(3)), (3, np.int64(4)), (3, np.int64(5)), (4, np.int64(1)), (4, np.int64(2)), (4, np.int64(3)), (4, np.int64(4)), (4, np.int64(5)), (5, np.int64(1)), (5, np.int64(2)), (5, np.int64(3)), (5, np.int64(4)), (5, np.int64(5)), (6, np.int64(1)), (6, np.int64(2)), (6, np.int64(3)), (6, np.int64(4)), (6, np.int64(5)), (7, np.int64(1)), (7, np.int64(2)), (7, np.int64(3)), (7, np.int64(4)), (7, np.int64(5)), (8, np.int64(1)), (8, np.int64(2)), (8, np.int64(3)), (8, np.int64(4)), (8, np.int64(5))]\n",
      "testing candidate: (3, np.int64(2)) maximum statistic, n_perm: 200\n",
      " -- not significant\n",
      "\n",
      "---------------------------- (3) prune source candidate\n",
      "no sources selected, nothing to prune ...\n",
      "\n",
      "---------------------------- (4) final statistics\n",
      "no sources selected ...\n",
      "final source samples: []\n",
      "final target samples: [(2, 1)]\n",
      "\n",
      "\n",
      "\n",
      "####### analysing target with index 3 from list [0, 1, 2, 3, 4, 5, 6, 7, 8]\n",
      "\n",
      "Target: 3 - testing sources [0, 1, 2, 4, 5, 6, 7, 8]\n",
      "\n",
      "---------------------------- (1) include target candidates\n",
      "candidate set: [(3, 1), (3, 2), (3, 3), (3, 4), (3, 5)]\n",
      "testing candidate: (3, 5) \n",
      "WARNING: Number of replications is not sufficient to generate the desired number of surrogates. Permuting samples in time instead.\n",
      "maximum statistic, n_perm: 200\n",
      " -- not significant\n",
      "\n",
      "No informative sources in the target's past - adding target sample with lag 1.\n",
      "\n",
      "---------------------------- (2) include source candidates\n",
      "candidate set: [(0, np.int64(1)), (0, np.int64(2)), (0, np.int64(3)), (0, np.int64(4)), (0, np.int64(5)), (1, np.int64(1)), (1, np.int64(2)), (1, np.int64(3)), (1, np.int64(4)), (1, np.int64(5)), (2, np.int64(1)), (2, np.int64(2)), (2, np.int64(3)), (2, np.int64(4)), (2, np.int64(5)), (4, np.int64(1)), (4, np.int64(2)), (4, np.int64(3)), (4, np.int64(4)), (4, np.int64(5)), (5, np.int64(1)), (5, np.int64(2)), (5, np.int64(3)), (5, np.int64(4)), (5, np.int64(5)), (6, np.int64(1)), (6, np.int64(2)), (6, np.int64(3)), (6, np.int64(4)), (6, np.int64(5)), (7, np.int64(1)), (7, np.int64(2)), (7, np.int64(3)), (7, np.int64(4)), (7, np.int64(5)), (8, np.int64(1)), (8, np.int64(2)), (8, np.int64(3)), (8, np.int64(4)), (8, np.int64(5))]\n",
      "testing candidate: (6, np.int64(2)) maximum statistic, n_perm: 200\n",
      " -- not significant\n",
      "\n",
      "---------------------------- (3) prune source candidate\n",
      "no sources selected, nothing to prune ...\n",
      "\n",
      "---------------------------- (4) final statistics\n",
      "no sources selected ...\n",
      "final source samples: []\n",
      "final target samples: [(3, 1)]\n",
      "\n",
      "\n",
      "\n",
      "####### analysing target with index 4 from list [0, 1, 2, 3, 4, 5, 6, 7, 8]\n",
      "\n",
      "Target: 4 - testing sources [0, 1, 2, 3, 5, 6, 7, 8]\n",
      "\n",
      "---------------------------- (1) include target candidates\n",
      "candidate set: [(4, 1), (4, 2), (4, 3), (4, 4), (4, 5)]\n",
      "testing candidate: (4, 1) \n",
      "WARNING: Number of replications is not sufficient to generate the desired number of surrogates. Permuting samples in time instead.\n",
      "maximum statistic, n_perm: 200\n",
      " -- not significant\n",
      "\n",
      "No informative sources in the target's past - adding target sample with lag 1.\n",
      "\n",
      "---------------------------- (2) include source candidates\n",
      "candidate set: [(0, np.int64(1)), (0, np.int64(2)), (0, np.int64(3)), (0, np.int64(4)), (0, np.int64(5)), (1, np.int64(1)), (1, np.int64(2)), (1, np.int64(3)), (1, np.int64(4)), (1, np.int64(5)), (2, np.int64(1)), (2, np.int64(2)), (2, np.int64(3)), (2, np.int64(4)), (2, np.int64(5)), (3, np.int64(1)), (3, np.int64(2)), (3, np.int64(3)), (3, np.int64(4)), (3, np.int64(5)), (5, np.int64(1)), (5, np.int64(2)), (5, np.int64(3)), (5, np.int64(4)), (5, np.int64(5)), (6, np.int64(1)), (6, np.int64(2)), (6, np.int64(3)), (6, np.int64(4)), (6, np.int64(5)), (7, np.int64(1)), (7, np.int64(2)), (7, np.int64(3)), (7, np.int64(4)), (7, np.int64(5)), (8, np.int64(1)), (8, np.int64(2)), (8, np.int64(3)), (8, np.int64(4)), (8, np.int64(5))]\n",
      "testing candidate: (3, np.int64(2)) maximum statistic, n_perm: 200\n",
      " -- not significant\n",
      "\n",
      "---------------------------- (3) prune source candidate\n",
      "no sources selected, nothing to prune ...\n",
      "\n",
      "---------------------------- (4) final statistics\n",
      "no sources selected ...\n",
      "final source samples: []\n",
      "final target samples: [(4, 1)]\n",
      "\n",
      "\n",
      "\n",
      "####### analysing target with index 5 from list [0, 1, 2, 3, 4, 5, 6, 7, 8]\n",
      "\n",
      "Target: 5 - testing sources [0, 1, 2, 3, 4, 6, 7, 8]\n",
      "\n",
      "---------------------------- (1) include target candidates\n",
      "candidate set: [(5, 1), (5, 2), (5, 3), (5, 4), (5, 5)]\n",
      "testing candidate: (5, 4) \n",
      "WARNING: Number of replications is not sufficient to generate the desired number of surrogates. Permuting samples in time instead.\n",
      "maximum statistic, n_perm: 200\n",
      "testing candidate: (5, 2) maximum statistic, n_perm: 200\n",
      " -- not significant\n",
      "\n",
      "---------------------------- (2) include source candidates\n",
      "candidate set: [(0, np.int64(1)), (0, np.int64(2)), (0, np.int64(3)), (0, np.int64(4)), (0, np.int64(5)), (1, np.int64(1)), (1, np.int64(2)), (1, np.int64(3)), (1, np.int64(4)), (1, np.int64(5)), (2, np.int64(1)), (2, np.int64(2)), (2, np.int64(3)), (2, np.int64(4)), (2, np.int64(5)), (3, np.int64(1)), (3, np.int64(2)), (3, np.int64(3)), (3, np.int64(4)), (3, np.int64(5)), (4, np.int64(1)), (4, np.int64(2)), (4, np.int64(3)), (4, np.int64(4)), (4, np.int64(5)), (6, np.int64(1)), (6, np.int64(2)), (6, np.int64(3)), (6, np.int64(4)), (6, np.int64(5)), (7, np.int64(1)), (7, np.int64(2)), (7, np.int64(3)), (7, np.int64(4)), (7, np.int64(5)), (8, np.int64(1)), (8, np.int64(2)), (8, np.int64(3)), (8, np.int64(4)), (8, np.int64(5))]\n",
      "testing candidate: (8, np.int64(1)) maximum statistic, n_perm: 200\n",
      " -- not significant\n",
      "\n",
      "---------------------------- (3) prune source candidate\n",
      "no sources selected, nothing to prune ...\n",
      "\n",
      "---------------------------- (4) final statistics\n",
      "no sources selected ...\n",
      "final source samples: []\n",
      "final target samples: [(5, 4)]\n",
      "\n",
      "\n",
      "\n",
      "####### analysing target with index 6 from list [0, 1, 2, 3, 4, 5, 6, 7, 8]\n",
      "\n",
      "Target: 6 - testing sources [0, 1, 2, 3, 4, 5, 7, 8]\n",
      "\n",
      "---------------------------- (1) include target candidates\n",
      "candidate set: [(6, 1), (6, 2), (6, 3), (6, 4), (6, 5)]\n",
      "testing candidate: (6, 3) \n",
      "WARNING: Number of replications is not sufficient to generate the desired number of surrogates. Permuting samples in time instead.\n",
      "maximum statistic, n_perm: 200\n",
      " -- not significant\n",
      "\n",
      "No informative sources in the target's past - adding target sample with lag 1.\n",
      "\n",
      "---------------------------- (2) include source candidates\n",
      "candidate set: [(0, np.int64(1)), (0, np.int64(2)), (0, np.int64(3)), (0, np.int64(4)), (0, np.int64(5)), (1, np.int64(1)), (1, np.int64(2)), (1, np.int64(3)), (1, np.int64(4)), (1, np.int64(5)), (2, np.int64(1)), (2, np.int64(2)), (2, np.int64(3)), (2, np.int64(4)), (2, np.int64(5)), (3, np.int64(1)), (3, np.int64(2)), (3, np.int64(3)), (3, np.int64(4)), (3, np.int64(5)), (4, np.int64(1)), (4, np.int64(2)), (4, np.int64(3)), (4, np.int64(4)), (4, np.int64(5)), (5, np.int64(1)), (5, np.int64(2)), (5, np.int64(3)), (5, np.int64(4)), (5, np.int64(5)), (7, np.int64(1)), (7, np.int64(2)), (7, np.int64(3)), (7, np.int64(4)), (7, np.int64(5)), (8, np.int64(1)), (8, np.int64(2)), (8, np.int64(3)), (8, np.int64(4)), (8, np.int64(5))]\n",
      "testing candidate: (4, np.int64(5)) maximum statistic, n_perm: 200\n",
      " -- not significant\n",
      "\n",
      "---------------------------- (3) prune source candidate\n",
      "no sources selected, nothing to prune ...\n",
      "\n",
      "---------------------------- (4) final statistics\n",
      "no sources selected ...\n",
      "final source samples: []\n",
      "final target samples: [(6, 1)]\n",
      "\n",
      "\n",
      "\n",
      "####### analysing target with index 7 from list [0, 1, 2, 3, 4, 5, 6, 7, 8]\n",
      "\n",
      "Target: 7 - testing sources [0, 1, 2, 3, 4, 5, 6, 8]\n",
      "\n",
      "---------------------------- (1) include target candidates\n",
      "candidate set: [(7, 1), (7, 2), (7, 3), (7, 4), (7, 5)]\n",
      "testing candidate: (7, 5) \n",
      "WARNING: Number of replications is not sufficient to generate the desired number of surrogates. Permuting samples in time instead.\n",
      "maximum statistic, n_perm: 200\n",
      " -- not significant\n",
      "\n",
      "No informative sources in the target's past - adding target sample with lag 1.\n",
      "\n",
      "---------------------------- (2) include source candidates\n",
      "candidate set: [(0, np.int64(1)), (0, np.int64(2)), (0, np.int64(3)), (0, np.int64(4)), (0, np.int64(5)), (1, np.int64(1)), (1, np.int64(2)), (1, np.int64(3)), (1, np.int64(4)), (1, np.int64(5)), (2, np.int64(1)), (2, np.int64(2)), (2, np.int64(3)), (2, np.int64(4)), (2, np.int64(5)), (3, np.int64(1)), (3, np.int64(2)), (3, np.int64(3)), (3, np.int64(4)), (3, np.int64(5)), (4, np.int64(1)), (4, np.int64(2)), (4, np.int64(3)), (4, np.int64(4)), (4, np.int64(5)), (5, np.int64(1)), (5, np.int64(2)), (5, np.int64(3)), (5, np.int64(4)), (5, np.int64(5)), (6, np.int64(1)), (6, np.int64(2)), (6, np.int64(3)), (6, np.int64(4)), (6, np.int64(5)), (8, np.int64(1)), (8, np.int64(2)), (8, np.int64(3)), (8, np.int64(4)), (8, np.int64(5))]\n",
      "testing candidate: (5, np.int64(1)) maximum statistic, n_perm: 200\n",
      "testing candidate: (5, np.int64(5)) maximum statistic, n_perm: 200\n",
      " -- not significant\n",
      "\n",
      "---------------------------- (3) prune source candidate\n",
      "selected candidates: [(5, np.int64(1))]\n",
      " -- significant\n",
      "\n",
      "---------------------------- (4) final statistics\n",
      "selected variables: [(7, 1), (5, np.int64(1))]\n",
      "omnibus test, n_perm: 500\n",
      " -- significant\n",
      "\n",
      "sequential maximum statistic, n_perm: 500, testing 1 selected sources\n",
      "removing 0 variables after seq. max stats\n",
      "final source samples: [(5, np.int64(1))]\n",
      "final target samples: [(7, 1)]\n",
      "\n",
      "\n",
      "\n",
      "####### analysing target with index 8 from list [0, 1, 2, 3, 4, 5, 6, 7, 8]\n",
      "\n",
      "Target: 8 - testing sources [0, 1, 2, 3, 4, 5, 6, 7]\n",
      "\n",
      "---------------------------- (1) include target candidates\n",
      "candidate set: [(8, 1), (8, 2), (8, 3), (8, 4), (8, 5)]\n",
      "testing candidate: (8, 3) \n",
      "WARNING: Number of replications is not sufficient to generate the desired number of surrogates. Permuting samples in time instead.\n",
      "maximum statistic, n_perm: 200\n",
      " -- not significant\n",
      "\n",
      "No informative sources in the target's past - adding target sample with lag 1.\n",
      "\n",
      "---------------------------- (2) include source candidates\n",
      "candidate set: [(0, np.int64(1)), (0, np.int64(2)), (0, np.int64(3)), (0, np.int64(4)), (0, np.int64(5)), (1, np.int64(1)), (1, np.int64(2)), (1, np.int64(3)), (1, np.int64(4)), (1, np.int64(5)), (2, np.int64(1)), (2, np.int64(2)), (2, np.int64(3)), (2, np.int64(4)), (2, np.int64(5)), (3, np.int64(1)), (3, np.int64(2)), (3, np.int64(3)), (3, np.int64(4)), (3, np.int64(5)), (4, np.int64(1)), (4, np.int64(2)), (4, np.int64(3)), (4, np.int64(4)), (4, np.int64(5)), (5, np.int64(1)), (5, np.int64(2)), (5, np.int64(3)), (5, np.int64(4)), (5, np.int64(5)), (6, np.int64(1)), (6, np.int64(2)), (6, np.int64(3)), (6, np.int64(4)), (6, np.int64(5)), (7, np.int64(1)), (7, np.int64(2)), (7, np.int64(3)), (7, np.int64(4)), (7, np.int64(5))]\n",
      "testing candidate: (3, np.int64(2)) maximum statistic, n_perm: 200\n",
      "testing candidate: (3, np.int64(5)) maximum statistic, n_perm: 200\n",
      " -- not significant\n",
      "\n",
      "---------------------------- (3) prune source candidate\n",
      "selected candidates: [(3, np.int64(2))]\n",
      " -- significant\n",
      "\n",
      "---------------------------- (4) final statistics\n",
      "selected variables: [(8, 1), (3, np.int64(2))]\n",
      "omnibus test, n_perm: 500\n",
      " -- significant\n",
      "\n",
      "sequential maximum statistic, n_perm: 500, testing 1 selected sources\n",
      "removing 0 variables after seq. max stats\n",
      "final source samples: [(3, np.int64(2))]\n",
      "final target samples: [(8, 1)]\n",
      "\n",
      "\n",
      "WARNING: Number of permutations ('n_perm_max_seq') for at least one target is too low to allow for FDR correction (FDR-threshold: 0.0020, min. theoretically possible p-value: 0.002).\n",
      "\t2 -> 0, max_te_lag: 5\n",
      "\t3 -> 0, max_te_lag: 1\n",
      "\t3 -> 8, max_te_lag: 2\n",
      "\t5 -> 0, max_te_lag: 5\n",
      "\t5 -> 1, max_te_lag: 2\n",
      "\t5 -> 7, max_te_lag: 1\n",
      "\t7 -> 0, max_te_lag: 1\n",
      "\t8 -> 0, max_te_lag: 2\n",
      "\t8 -> 1, max_te_lag: 1\n"
     ]
    },
    {
     "data": {
      "image/png": "[encoded data removed]",
      "text/plain": [
       "<Figure size 1000x500 with 3 Axes>"
      ]
     },
     "metadata": {},
     "output_type": "display_data"
    },
    {
     "name": "stdout",
     "output_type": "stream",
     "text": [
      "Adding data with properties: 9 processes, 1435 samples, 1 replications\n",
      "overwriting existing data\n",
      "\n",
      "####### analysing target with index 0 from list [0, 1, 2, 3, 4, 5, 6, 7, 8]\n",
      "\n",
      "Target: 0 - testing sources [1, 2, 3, 4, 5, 6, 7, 8]\n",
      "\n",
      "---------------------------- (1) include target candidates\n",
      "candidate set: [(0, 1), (0, 2), (0, 3), (0, 4), (0, 5)]\n",
      "testing candidate: (0, 1) \n",
      "WARNING: Number of replications is not sufficient to generate the desired number of surrogates. Permuting samples in time instead.\n",
      "maximum statistic, n_perm: 200\n",
      "testing candidate: (0, 2) maximum statistic, n_perm: 200\n",
      " -- not significant\n",
      "\n",
      "---------------------------- (2) include source candidates\n",
      "candidate set: [(1, np.int64(1)), (1, np.int64(2)), (1, np.int64(3)), (1, np.int64(4)), (1, np.int64(5)), (2, np.int64(1)), (2, np.int64(2)), (2, np.int64(3)), (2, np.int64(4)), (2, np.int64(5)), (3, np.int64(1)), (3, np.int64(2)), (3, np.int64(3)), (3, np.int64(4)), (3, np.int64(5)), (4, np.int64(1)), (4, np.int64(2)), (4, np.int64(3)), (4, np.int64(4)), (4, np.int64(5)), (5, np.int64(1)), (5, np.int64(2)), (5, np.int64(3)), (5, np.int64(4)), (5, np.int64(5)), (6, np.int64(1)), (6, np.int64(2)), (6, np.int64(3)), (6, np.int64(4)), (6, np.int64(5)), (7, np.int64(1)), (7, np.int64(2)), (7, np.int64(3)), (7, np.int64(4)), (7, np.int64(5)), (8, np.int64(1)), (8, np.int64(2)), (8, np.int64(3)), (8, np.int64(4)), (8, np.int64(5))]\n",
      "testing candidate: (2, np.int64(1)) maximum statistic, n_perm: 200\n",
      "testing candidate: (4, np.int64(1)) maximum statistic, n_perm: 200\n",
      " -- not significant\n",
      "\n",
      "---------------------------- (3) prune source candidate\n",
      "selected candidates: [(2, np.int64(1))]\n",
      " -- significant\n",
      "\n",
      "---------------------------- (4) final statistics\n",
      "selected variables: [(0, 1), (2, np.int64(1))]\n",
      "omnibus test, n_perm: 500\n",
      " -- significant\n",
      "\n",
      "sequential maximum statistic, n_perm: 500, testing 1 selected sources\n",
      "removing 0 variables after seq. max stats\n",
      "final source samples: [(2, np.int64(1))]\n",
      "final target samples: [(0, 1)]\n",
      "\n",
      "\n",
      "\n",
      "####### analysing target with index 1 from list [0, 1, 2, 3, 4, 5, 6, 7, 8]\n",
      "\n",
      "Target: 1 - testing sources [0, 2, 3, 4, 5, 6, 7, 8]\n",
      "\n",
      "---------------------------- (1) include target candidates\n",
      "candidate set: [(1, 1), (1, 2), (1, 3), (1, 4), (1, 5)]\n",
      "testing candidate: (1, 4) \n",
      "WARNING: Number of replications is not sufficient to generate the desired number of surrogates. Permuting samples in time instead.\n",
      "maximum statistic, n_perm: 200\n",
      " -- not significant\n",
      "\n",
      "No informative sources in the target's past - adding target sample with lag 1.\n",
      "\n",
      "---------------------------- (2) include source candidates\n",
      "candidate set: [(0, np.int64(1)), (0, np.int64(2)), (0, np.int64(3)), (0, np.int64(4)), (0, np.int64(5)), (2, np.int64(1)), (2, np.int64(2)), (2, np.int64(3)), (2, np.int64(4)), (2, np.int64(5)), (3, np.int64(1)), (3, np.int64(2)), (3, np.int64(3)), (3, np.int64(4)), (3, np.int64(5)), (4, np.int64(1)), (4, np.int64(2)), (4, np.int64(3)), (4, np.int64(4)), (4, np.int64(5)), (5, np.int64(1)), (5, np.int64(2)), (5, np.int64(3)), (5, np.int64(4)), (5, np.int64(5)), (6, np.int64(1)), (6, np.int64(2)), (6, np.int64(3)), (6, np.int64(4)), (6, np.int64(5)), (7, np.int64(1)), (7, np.int64(2)), (7, np.int64(3)), (7, np.int64(4)), (7, np.int64(5)), (8, np.int64(1)), (8, np.int64(2)), (8, np.int64(3)), (8, np.int64(4)), (8, np.int64(5))]\n",
      "testing candidate: (8, np.int64(1)) maximum statistic, n_perm: 200\n",
      "testing candidate: (8, np.int64(5)) maximum statistic, n_perm: 200\n",
      "testing candidate: (6, np.int64(4)) maximum statistic, n_perm: 200\n",
      "testing candidate: (8, np.int64(3)) maximum statistic, n_perm: 200\n",
      "testing candidate: (4, np.int64(2)) maximum statistic, n_perm: 200\n",
      "testing candidate: (5, np.int64(3)) maximum statistic, n_perm: 200\n",
      "testing candidate: (8, np.int64(4)) maximum statistic, n_perm: 200\n",
      "testing candidate: (6, np.int64(1)) maximum statistic, n_perm: 200\n",
      "testing candidate: (5, np.int64(5)) maximum statistic, n_perm: 200\n",
      " -- not significant\n",
      "\n",
      "---------------------------- (3) prune source candidate\n",
      "selected candidates: [(8, np.int64(1)), (8, np.int64(5)), (6, np.int64(4)), (8, np.int64(3)), (4, np.int64(2)), (5, np.int64(3)), (8, np.int64(4)), (6, np.int64(1))]\n",
      "testing candidate: (6, np.int64(1)) minimum statistic, n_perm: 500\n",
      " -- significant\n",
      "\n",
      "---------------------------- (4) final statistics\n",
      "selected variables: [(1, 1), (8, np.int64(1)), (8, np.int64(5)), (6, np.int64(4)), (8, np.int64(3)), (4, np.int64(2)), (5, np.int64(3)), (8, np.int64(4)), (6, np.int64(1))]\n",
      "omnibus test, n_perm: 500\n",
      " -- significant\n",
      "\n",
      "sequential maximum statistic, n_perm: 500, testing 8 selected sources\n",
      "removing 0 variables after seq. max stats\n",
      "final source samples: [(8, np.int64(1)), (8, np.int64(5)), (6, np.int64(4)), (8, np.int64(3)), (4, np.int64(2)), (5, np.int64(3)), (8, np.int64(4)), (6, np.int64(1))]\n",
      "final target samples: [(1, 1)]\n",
      "\n",
      "\n",
      "\n",
      "####### analysing target with index 2 from list [0, 1, 2, 3, 4, 5, 6, 7, 8]\n",
      "\n",
      "Target: 2 - testing sources [0, 1, 3, 4, 5, 6, 7, 8]\n",
      "\n",
      "---------------------------- (1) include target candidates\n",
      "candidate set: [(2, 1), (2, 2), (2, 3), (2, 4), (2, 5)]\n",
      "testing candidate: (2, 1) \n",
      "WARNING: Number of replications is not sufficient to generate the desired number of surrogates. Permuting samples in time instead.\n",
      "maximum statistic, n_perm: 200\n",
      " -- not significant\n",
      "\n",
      "No informative sources in the target's past - adding target sample with lag 1.\n",
      "\n",
      "---------------------------- (2) include source candidates\n",
      "candidate set: [(0, np.int64(1)), (0, np.int64(2)), (0, np.int64(3)), (0, np.int64(4)), (0, np.int64(5)), (1, np.int64(1)), (1, np.int64(2)), (1, np.int64(3)), (1, np.int64(4)), (1, np.int64(5)), (3, np.int64(1)), (3, np.int64(2)), (3, np.int64(3)), (3, np.int64(4)), (3, np.int64(5)), (4, np.int64(1)), (4, np.int64(2)), (4, np.int64(3)), (4, np.int64(4)), (4, np.int64(5)), (5, np.int64(1)), (5, np.int64(2)), (5, np.int64(3)), (5, np.int64(4)), (5, np.int64(5)), (6, np.int64(1)), (6, np.int64(2)), (6, np.int64(3)), (6, np.int64(4)), (6, np.int64(5)), (7, np.int64(1)), (7, np.int64(2)), (7, np.int64(3)), (7, np.int64(4)), (7, np.int64(5)), (8, np.int64(1)), (8, np.int64(2)), (8, np.int64(3)), (8, np.int64(4)), (8, np.int64(5))]\n",
      "testing candidate: (1, np.int64(5)) maximum statistic, n_perm: 200\n",
      "testing candidate: (1, np.int64(2)) maximum statistic, n_perm: 200\n",
      " -- not significant\n",
      "\n",
      "---------------------------- (3) prune source candidate\n",
      "selected candidates: [(1, np.int64(5))]\n",
      " -- significant\n",
      "\n",
      "---------------------------- (4) final statistics\n",
      "selected variables: [(2, 1), (1, np.int64(5))]\n",
      "omnibus test, n_perm: 500\n",
      " -- significant\n",
      "\n",
      "sequential maximum statistic, n_perm: 500, testing 1 selected sources\n",
      "removing 0 variables after seq. max stats\n",
      "final source samples: [(1, np.int64(5))]\n",
      "final target samples: [(2, 1)]\n",
      "\n",
      "\n",
      "\n",
      "####### analysing target with index 3 from list [0, 1, 2, 3, 4, 5, 6, 7, 8]\n",
      "\n",
      "Target: 3 - testing sources [0, 1, 2, 4, 5, 6, 7, 8]\n",
      "\n",
      "---------------------------- (1) include target candidates\n",
      "candidate set: [(3, 1), (3, 2), (3, 3), (3, 4), (3, 5)]\n",
      "testing candidate: (3, 2) \n",
      "WARNING: Number of replications is not sufficient to generate the desired number of surrogates. Permuting samples in time instead.\n",
      "maximum statistic, n_perm: 200\n",
      " -- not significant\n",
      "\n",
      "No informative sources in the target's past - adding target sample with lag 1.\n",
      "\n",
      "---------------------------- (2) include source candidates\n",
      "candidate set: [(0, np.int64(1)), (0, np.int64(2)), (0, np.int64(3)), (0, np.int64(4)), (0, np.int64(5)), (1, np.int64(1)), (1, np.int64(2)), (1, np.int64(3)), (1, np.int64(4)), (1, np.int64(5)), (2, np.int64(1)), (2, np.int64(2)), (2, np.int64(3)), (2, np.int64(4)), (2, np.int64(5)), (4, np.int64(1)), (4, np.int64(2)), (4, np.int64(3)), (4, np.int64(4)), (4, np.int64(5)), (5, np.int64(1)), (5, np.int64(2)), (5, np.int64(3)), (5, np.int64(4)), (5, np.int64(5)), (6, np.int64(1)), (6, np.int64(2)), (6, np.int64(3)), (6, np.int64(4)), (6, np.int64(5)), (7, np.int64(1)), (7, np.int64(2)), (7, np.int64(3)), (7, np.int64(4)), (7, np.int64(5)), (8, np.int64(1)), (8, np.int64(2)), (8, np.int64(3)), (8, np.int64(4)), (8, np.int64(5))]\n",
      "testing candidate: (7, np.int64(1)) maximum statistic, n_perm: 200\n",
      "testing candidate: (0, np.int64(2)) maximum statistic, n_perm: 200\n",
      " -- not significant\n",
      "\n",
      "---------------------------- (3) prune source candidate\n",
      "selected candidates: [(7, np.int64(1))]\n",
      " -- significant\n",
      "\n",
      "---------------------------- (4) final statistics\n",
      "selected variables: [(3, 1), (7, np.int64(1))]\n",
      "omnibus test, n_perm: 500\n",
      " -- significant\n",
      "\n",
      "sequential maximum statistic, n_perm: 500, testing 1 selected sources\n",
      "removing 0 variables after seq. max stats\n",
      "final source samples: [(7, np.int64(1))]\n",
      "final target samples: [(3, 1)]\n",
      "\n",
      "\n",
      "\n",
      "####### analysing target with index 4 from list [0, 1, 2, 3, 4, 5, 6, 7, 8]\n",
      "\n",
      "Target: 4 - testing sources [0, 1, 2, 3, 5, 6, 7, 8]\n",
      "\n",
      "---------------------------- (1) include target candidates\n",
      "candidate set: [(4, 1), (4, 2), (4, 3), (4, 4), (4, 5)]\n",
      "testing candidate: (4, 1) \n",
      "WARNING: Number of replications is not sufficient to generate the desired number of surrogates. Permuting samples in time instead.\n",
      "maximum statistic, n_perm: 200\n",
      "testing candidate: (4, 5) maximum statistic, n_perm: 200\n",
      " -- not significant\n",
      "\n",
      "---------------------------- (2) include source candidates\n",
      "candidate set: [(0, np.int64(1)), (0, np.int64(2)), (0, np.int64(3)), (0, np.int64(4)), (0, np.int64(5)), (1, np.int64(1)), (1, np.int64(2)), (1, np.int64(3)), (1, np.int64(4)), (1, np.int64(5)), (2, np.int64(1)), (2, np.int64(2)), (2, np.int64(3)), (2, np.int64(4)), (2, np.int64(5)), (3, np.int64(1)), (3, np.int64(2)), (3, np.int64(3)), (3, np.int64(4)), (3, np.int64(5)), (5, np.int64(1)), (5, np.int64(2)), (5, np.int64(3)), (5, np.int64(4)), (5, np.int64(5)), (6, np.int64(1)), (6, np.int64(2)), (6, np.int64(3)), (6, np.int64(4)), (6, np.int64(5)), (7, np.int64(1)), (7, np.int64(2)), (7, np.int64(3)), (7, np.int64(4)), (7, np.int64(5)), (8, np.int64(1)), (8, np.int64(2)), (8, np.int64(3)), (8, np.int64(4)), (8, np.int64(5))]\n",
      "testing candidate: (3, np.int64(5)) maximum statistic, n_perm: 200\n",
      " -- not significant\n",
      "\n",
      "---------------------------- (3) prune source candidate\n",
      "no sources selected, nothing to prune ...\n",
      "\n",
      "---------------------------- (4) final statistics\n",
      "no sources selected ...\n",
      "final source samples: []\n",
      "final target samples: [(4, 1)]\n",
      "\n",
      "\n",
      "\n",
      "####### analysing target with index 5 from list [0, 1, 2, 3, 4, 5, 6, 7, 8]\n",
      "\n",
      "Target: 5 - testing sources [0, 1, 2, 3, 4, 6, 7, 8]\n",
      "\n",
      "---------------------------- (1) include target candidates\n",
      "candidate set: [(5, 1), (5, 2), (5, 3), (5, 4), (5, 5)]\n",
      "testing candidate: (5, 4) \n",
      "WARNING: Number of replications is not sufficient to generate the desired number of surrogates. Permuting samples in time instead.\n",
      "maximum statistic, n_perm: 200\n",
      "testing candidate: (5, 5) maximum statistic, n_perm: 200\n",
      "testing candidate: (5, 1) maximum statistic, n_perm: 200\n",
      " -- not significant\n",
      "\n",
      "---------------------------- (2) include source candidates\n",
      "candidate set: [(0, np.int64(1)), (0, np.int64(2)), (0, np.int64(3)), (0, np.int64(4)), (0, np.int64(5)), (1, np.int64(1)), (1, np.int64(2)), (1, np.int64(3)), (1, np.int64(4)), (1, np.int64(5)), (2, np.int64(1)), (2, np.int64(2)), (2, np.int64(3)), (2, np.int64(4)), (2, np.int64(5)), (3, np.int64(1)), (3, np.int64(2)), (3, np.int64(3)), (3, np.int64(4)), (3, np.int64(5)), (4, np.int64(1)), (4, np.int64(2)), (4, np.int64(3)), (4, np.int64(4)), (4, np.int64(5)), (6, np.int64(1)), (6, np.int64(2)), (6, np.int64(3)), (6, np.int64(4)), (6, np.int64(5)), (7, np.int64(1)), (7, np.int64(2)), (7, np.int64(3)), (7, np.int64(4)), (7, np.int64(5)), (8, np.int64(1)), (8, np.int64(2)), (8, np.int64(3)), (8, np.int64(4)), (8, np.int64(5))]\n",
      "testing candidate: (6, np.int64(2)) maximum statistic, n_perm: 200\n",
      " -- not significant\n",
      "\n",
      "---------------------------- (3) prune source candidate\n",
      "no sources selected, nothing to prune ...\n",
      "\n",
      "---------------------------- (4) final statistics\n",
      "no sources selected ...\n",
      "final source samples: []\n",
      "final target samples: [(5, 4), (5, 5)]\n",
      "\n",
      "\n",
      "\n",
      "####### analysing target with index 6 from list [0, 1, 2, 3, 4, 5, 6, 7, 8]\n",
      "\n",
      "Target: 6 - testing sources [0, 1, 2, 3, 4, 5, 7, 8]\n",
      "\n",
      "---------------------------- (1) include target candidates\n",
      "candidate set: [(6, 1), (6, 2), (6, 3), (6, 4), (6, 5)]\n",
      "testing candidate: (6, 1) \n",
      "WARNING: Number of replications is not sufficient to generate the desired number of surrogates. Permuting samples in time instead.\n",
      "maximum statistic, n_perm: 200\n",
      "testing candidate: (6, 2) maximum statistic, n_perm: 200\n",
      " -- not significant\n",
      "\n",
      "---------------------------- (2) include source candidates\n",
      "candidate set: [(0, np.int64(1)), (0, np.int64(2)), (0, np.int64(3)), (0, np.int64(4)), (0, np.int64(5)), (1, np.int64(1)), (1, np.int64(2)), (1, np.int64(3)), (1, np.int64(4)), (1, np.int64(5)), (2, np.int64(1)), (2, np.int64(2)), (2, np.int64(3)), (2, np.int64(4)), (2, np.int64(5)), (3, np.int64(1)), (3, np.int64(2)), (3, np.int64(3)), (3, np.int64(4)), (3, np.int64(5)), (4, np.int64(1)), (4, np.int64(2)), (4, np.int64(3)), (4, np.int64(4)), (4, np.int64(5)), (5, np.int64(1)), (5, np.int64(2)), (5, np.int64(3)), (5, np.int64(4)), (5, np.int64(5)), (7, np.int64(1)), (7, np.int64(2)), (7, np.int64(3)), (7, np.int64(4)), (7, np.int64(5)), (8, np.int64(1)), (8, np.int64(2)), (8, np.int64(3)), (8, np.int64(4)), (8, np.int64(5))]\n",
      "testing candidate: (7, np.int64(5)) maximum statistic, n_perm: 200\n",
      "testing candidate: (4, np.int64(4)) maximum statistic, n_perm: 200\n",
      " -- not significant\n",
      "\n",
      "---------------------------- (3) prune source candidate\n",
      "selected candidates: [(7, np.int64(5))]\n",
      " -- significant\n",
      "\n",
      "---------------------------- (4) final statistics\n",
      "selected variables: [(6, 1), (7, np.int64(5))]\n",
      "omnibus test, n_perm: 500\n",
      " -- significant\n",
      "\n",
      "sequential maximum statistic, n_perm: 500, testing 1 selected sources\n",
      "removing 0 variables after seq. max stats\n",
      "final source samples: [(7, np.int64(5))]\n",
      "final target samples: [(6, 1)]\n",
      "\n",
      "\n",
      "\n",
      "####### analysing target with index 7 from list [0, 1, 2, 3, 4, 5, 6, 7, 8]\n",
      "\n",
      "Target: 7 - testing sources [0, 1, 2, 3, 4, 5, 6, 8]\n",
      "\n",
      "---------------------------- (1) include target candidates\n",
      "candidate set: [(7, 1), (7, 2), (7, 3), (7, 4), (7, 5)]\n",
      "testing candidate: (7, 4) \n",
      "WARNING: Number of replications is not sufficient to generate the desired number of surrogates. Permuting samples in time instead.\n",
      "maximum statistic, n_perm: 200\n",
      " -- not significant\n",
      "\n",
      "No informative sources in the target's past - adding target sample with lag 1.\n",
      "\n",
      "---------------------------- (2) include source candidates\n",
      "candidate set: [(0, np.int64(1)), (0, np.int64(2)), (0, np.int64(3)), (0, np.int64(4)), (0, np.int64(5)), (1, np.int64(1)), (1, np.int64(2)), (1, np.int64(3)), (1, np.int64(4)), (1, np.int64(5)), (2, np.int64(1)), (2, np.int64(2)), (2, np.int64(3)), (2, np.int64(4)), (2, np.int64(5)), (3, np.int64(1)), (3, np.int64(2)), (3, np.int64(3)), (3, np.int64(4)), (3, np.int64(5)), (4, np.int64(1)), (4, np.int64(2)), (4, np.int64(3)), (4, np.int64(4)), (4, np.int64(5)), (5, np.int64(1)), (5, np.int64(2)), (5, np.int64(3)), (5, np.int64(4)), (5, np.int64(5)), (6, np.int64(1)), (6, np.int64(2)), (6, np.int64(3)), (6, np.int64(4)), (6, np.int64(5)), (8, np.int64(1)), (8, np.int64(2)), (8, np.int64(3)), (8, np.int64(4)), (8, np.int64(5))]\n",
      "testing candidate: (5, np.int64(5)) maximum statistic, n_perm: 200\n",
      "testing candidate: (5, np.int64(4)) maximum statistic, n_perm: 200\n",
      " -- not significant\n",
      "\n",
      "---------------------------- (3) prune source candidate\n",
      "selected candidates: [(5, np.int64(5))]\n",
      " -- significant\n",
      "\n",
      "---------------------------- (4) final statistics\n",
      "selected variables: [(7, 1), (5, np.int64(5))]\n",
      "omnibus test, n_perm: 500\n",
      " -- significant\n",
      "\n",
      "sequential maximum statistic, n_perm: 500, testing 1 selected sources\n",
      "removing 0 variables after seq. max stats\n",
      "final source samples: [(5, np.int64(5))]\n",
      "final target samples: [(7, 1)]\n",
      "\n",
      "\n",
      "\n",
      "####### analysing target with index 8 from list [0, 1, 2, 3, 4, 5, 6, 7, 8]\n",
      "\n",
      "Target: 8 - testing sources [0, 1, 2, 3, 4, 5, 6, 7]\n",
      "\n",
      "---------------------------- (1) include target candidates\n",
      "candidate set: [(8, 1), (8, 2), (8, 3), (8, 4), (8, 5)]\n",
      "testing candidate: (8, 4) \n",
      "WARNING: Number of replications is not sufficient to generate the desired number of surrogates. Permuting samples in time instead.\n",
      "maximum statistic, n_perm: 200\n",
      " -- not significant\n",
      "\n",
      "No informative sources in the target's past - adding target sample with lag 1.\n",
      "\n",
      "---------------------------- (2) include source candidates\n",
      "candidate set: [(0, np.int64(1)), (0, np.int64(2)), (0, np.int64(3)), (0, np.int64(4)), (0, np.int64(5)), (1, np.int64(1)), (1, np.int64(2)), (1, np.int64(3)), (1, np.int64(4)), (1, np.int64(5)), (2, np.int64(1)), (2, np.int64(2)), (2, np.int64(3)), (2, np.int64(4)), (2, np.int64(5)), (3, np.int64(1)), (3, np.int64(2)), (3, np.int64(3)), (3, np.int64(4)), (3, np.int64(5)), (4, np.int64(1)), (4, np.int64(2)), (4, np.int64(3)), (4, np.int64(4)), (4, np.int64(5)), (5, np.int64(1)), (5, np.int64(2)), (5, np.int64(3)), (5, np.int64(4)), (5, np.int64(5)), (6, np.int64(1)), (6, np.int64(2)), (6, np.int64(3)), (6, np.int64(4)), (6, np.int64(5)), (7, np.int64(1)), (7, np.int64(2)), (7, np.int64(3)), (7, np.int64(4)), (7, np.int64(5))]\n",
      "testing candidate: (4, np.int64(2)) maximum statistic, n_perm: 200\n",
      "testing candidate: (0, np.int64(3)) maximum statistic, n_perm: 200\n",
      "testing candidate: (0, np.int64(4)) maximum statistic, n_perm: 200\n",
      "testing candidate: (0, np.int64(5)) maximum statistic, n_perm: 200\n",
      "testing candidate: (5, np.int64(1)) maximum statistic, n_perm: 200\n",
      "testing candidate: (6, np.int64(1)) maximum statistic, n_perm: 200\n",
      "testing candidate: (3, np.int64(3)) maximum statistic, n_perm: 200\n",
      "testing candidate: (6, np.int64(2)) maximum statistic, n_perm: 200\n",
      "testing candidate: (1, np.int64(4)) maximum statistic, n_perm: 200\n",
      " -- not significant\n",
      "\n",
      "---------------------------- (3) prune source candidate\n",
      "selected candidates: [(4, np.int64(2)), (0, np.int64(3)), (0, np.int64(4)), (0, np.int64(5)), (5, np.int64(1)), (6, np.int64(1)), (3, np.int64(3)), (6, np.int64(2))]\n"
     ]
    },
    {
     "name": "stderr",
     "output_type": "stream",
     "text": [
      "C:\\Users\\akhma\\OneDrive\\Onenote\\Python\\IDTxl\\idtxl\\network_inference.py:1015: RuntimeWarning:\n",
      "\n",
      "invalid value encountered in cast\n",
      "\n"
     ]
    },
    {
     "name": "stdout",
     "output_type": "stream",
     "text": [
      "testing candidate: (6, np.int64(2)) minimum statistic, n_perm: 500\n",
      " -- significant\n",
      "\n",
      "---------------------------- (4) final statistics\n",
      "selected variables: [(8, 1), (4, np.int64(2)), (0, np.int64(3)), (0, np.int64(4)), (0, np.int64(5)), (5, np.int64(1)), (6, np.int64(1)), (3, np.int64(3)), (6, np.int64(2))]\n",
      "omnibus test, n_perm: 500\n",
      " -- significant\n",
      "\n",
      "sequential maximum statistic, n_perm: 500, testing 8 selected sources\n",
      "removing 0 variables after seq. max stats\n",
      "final source samples: [(4, np.int64(2)), (0, np.int64(3)), (0, np.int64(4)), (0, np.int64(5)), (5, np.int64(1)), (6, np.int64(1)), (3, np.int64(3)), (6, np.int64(2))]\n",
      "final target samples: [(8, 1)]\n",
      "\n",
      "\n",
      "WARNING: Number of permutations ('n_perm_max_seq') for at least one target is too low to allow for FDR correction (FDR-threshold: 0.0020, min. theoretically possible p-value: 0.002).\n",
      "\t0 -> 8, max_te_lag: 5\n",
      "\t1 -> 2, max_te_lag: 5\n",
      "\t2 -> 0, max_te_lag: 1\n",
      "\t3 -> 8, max_te_lag: 3\n",
      "\t4 -> 1, max_te_lag: 2\n",
      "\t4 -> 8, max_te_lag: 2\n",
      "\t5 -> 1, max_te_lag: 3\n",
      "\t5 -> 7, max_te_lag: 5\n",
      "\t5 -> 8, max_te_lag: 1\n",
      "\t6 -> 1, max_te_lag: 4\n",
      "\t6 -> 8, max_te_lag: 1\n",
      "\t7 -> 3, max_te_lag: 1\n",
      "\t7 -> 6, max_te_lag: 5\n",
      "\t8 -> 1, max_te_lag: 1\n"
     ]
    },
    {
     "data": {
      "image/png": "[encoded data removed]",
      "text/plain": [
       "<Figure size 1000x500 with 3 Axes>"
      ]
     },
     "metadata": {},
     "output_type": "display_data"
    },
    {
     "name": "stdout",
     "output_type": "stream",
     "text": [
      "Adding data with properties: 9 processes, 1471 samples, 1 replications\n",
      "overwriting existing data\n",
      "\n",
      "####### analysing target with index 0 from list [0, 1, 2, 3, 4, 5, 6, 7, 8]\n",
      "\n",
      "Target: 0 - testing sources [1, 2, 3, 4, 5, 6, 7, 8]\n",
      "\n",
      "---------------------------- (1) include target candidates\n",
      "candidate set: [(0, 1), (0, 2), (0, 3), (0, 4), (0, 5)]\n",
      "testing candidate: (0, 1) \n",
      "WARNING: Number of replications is not sufficient to generate the desired number of surrogates. Permuting samples in time instead.\n",
      "maximum statistic, n_perm: 200\n",
      "testing candidate: (0, 2) maximum statistic, n_perm: 200\n",
      "testing candidate: (0, 5) maximum statistic, n_perm: 200\n",
      " -- not significant\n",
      "\n",
      "---------------------------- (2) include source candidates\n",
      "candidate set: [(1, np.int64(1)), (1, np.int64(2)), (1, np.int64(3)), (1, np.int64(4)), (1, np.int64(5)), (2, np.int64(1)), (2, np.int64(2)), (2, np.int64(3)), (2, np.int64(4)), (2, np.int64(5)), (3, np.int64(1)), (3, np.int64(2)), (3, np.int64(3)), (3, np.int64(4)), (3, np.int64(5)), (4, np.int64(1)), (4, np.int64(2)), (4, np.int64(3)), (4, np.int64(4)), (4, np.int64(5)), (5, np.int64(1)), (5, np.int64(2)), (5, np.int64(3)), (5, np.int64(4)), (5, np.int64(5)), (6, np.int64(1)), (6, np.int64(2)), (6, np.int64(3)), (6, np.int64(4)), (6, np.int64(5)), (7, np.int64(1)), (7, np.int64(2)), (7, np.int64(3)), (7, np.int64(4)), (7, np.int64(5)), (8, np.int64(1)), (8, np.int64(2)), (8, np.int64(3)), (8, np.int64(4)), (8, np.int64(5))]\n",
      "testing candidate: (4, np.int64(3)) maximum statistic, n_perm: 200\n",
      "testing candidate: (5, np.int64(5)) maximum statistic, n_perm: 200\n",
      "testing candidate: (6, np.int64(2)) maximum statistic, n_perm: 200\n",
      "testing candidate: (6, np.int64(3)) maximum statistic, n_perm: 200\n",
      "testing candidate: (5, np.int64(2)) maximum statistic, n_perm: 200\n",
      "testing candidate: (7, np.int64(5)) maximum statistic, n_perm: 200\n",
      "testing candidate: (5, np.int64(4)) maximum statistic, n_perm: 200\n",
      "testing candidate: (7, np.int64(4)) maximum statistic, n_perm: 200\n",
      " -- not significant\n",
      "\n",
      "---------------------------- (3) prune source candidate\n",
      "selected candidates: [(4, np.int64(3)), (5, np.int64(5)), (6, np.int64(2)), (6, np.int64(3)), (5, np.int64(2)), (7, np.int64(5)), (5, np.int64(4))]\n",
      "testing candidate: (5, np.int64(4)) minimum statistic, n_perm: 500\n",
      " -- significant\n",
      "\n",
      "---------------------------- (4) final statistics\n",
      "selected variables: [(0, 1), (0, 2), (4, np.int64(3)), (5, np.int64(5)), (6, np.int64(2)), (6, np.int64(3)), (5, np.int64(2)), (7, np.int64(5)), (5, np.int64(4))]\n",
      "omnibus test, n_perm: 500\n",
      " -- significant\n",
      "\n",
      "sequential maximum statistic, n_perm: 500, testing 7 selected sources\n",
      "removing 0 variables after seq. max stats\n",
      "final source samples: [(4, np.int64(3)), (5, np.int64(5)), (6, np.int64(2)), (6, np.int64(3)), (5, np.int64(2)), (7, np.int64(5)), (5, np.int64(4))]\n",
      "final target samples: [(0, 1), (0, 2)]\n",
      "\n",
      "\n",
      "\n",
      "####### analysing target with index 1 from list [0, 1, 2, 3, 4, 5, 6, 7, 8]\n",
      "\n",
      "Target: 1 - testing sources [0, 2, 3, 4, 5, 6, 7, 8]\n",
      "\n",
      "---------------------------- (1) include target candidates\n",
      "candidate set: [(1, 1), (1, 2), (1, 3), (1, 4), (1, 5)]\n",
      "testing candidate: (1, 1) \n",
      "WARNING: Number of replications is not sufficient to generate the desired number of surrogates. Permuting samples in time instead.\n",
      "maximum statistic, n_perm: 200\n",
      " -- not significant\n",
      "\n",
      "No informative sources in the target's past - adding target sample with lag 1.\n",
      "\n",
      "---------------------------- (2) include source candidates\n",
      "candidate set: [(0, np.int64(1)), (0, np.int64(2)), (0, np.int64(3)), (0, np.int64(4)), (0, np.int64(5)), (2, np.int64(1)), (2, np.int64(2)), (2, np.int64(3)), (2, np.int64(4)), (2, np.int64(5)), (3, np.int64(1)), (3, np.int64(2)), (3, np.int64(3)), (3, np.int64(4)), (3, np.int64(5)), (4, np.int64(1)), (4, np.int64(2)), (4, np.int64(3)), (4, np.int64(4)), (4, np.int64(5)), (5, np.int64(1)), (5, np.int64(2)), (5, np.int64(3)), (5, np.int64(4)), (5, np.int64(5)), (6, np.int64(1)), (6, np.int64(2)), (6, np.int64(3)), (6, np.int64(4)), (6, np.int64(5)), (7, np.int64(1)), (7, np.int64(2)), (7, np.int64(3)), (7, np.int64(4)), (7, np.int64(5)), (8, np.int64(1)), (8, np.int64(2)), (8, np.int64(3)), (8, np.int64(4)), (8, np.int64(5))]\n",
      "testing candidate: (4, np.int64(1)) maximum statistic, n_perm: 200\n",
      "testing candidate: (0, np.int64(4)) maximum statistic, n_perm: 200\n",
      " -- not significant\n",
      "\n",
      "---------------------------- (3) prune source candidate\n",
      "selected candidates: [(4, np.int64(1))]\n",
      " -- significant\n",
      "\n",
      "---------------------------- (4) final statistics\n",
      "selected variables: [(1, 1), (4, np.int64(1))]\n",
      "omnibus test, n_perm: 500\n",
      " -- significant\n",
      "\n",
      "sequential maximum statistic, n_perm: 500, testing 1 selected sources\n",
      "removing 0 variables after seq. max stats\n",
      "final source samples: [(4, np.int64(1))]\n",
      "final target samples: [(1, 1)]\n",
      "\n",
      "\n",
      "\n",
      "####### analysing target with index 2 from list [0, 1, 2, 3, 4, 5, 6, 7, 8]\n",
      "\n",
      "Target: 2 - testing sources [0, 1, 3, 4, 5, 6, 7, 8]\n",
      "\n",
      "---------------------------- (1) include target candidates\n",
      "candidate set: [(2, 1), (2, 2), (2, 3), (2, 4), (2, 5)]\n",
      "testing candidate: (2, 4) \n",
      "WARNING: Number of replications is not sufficient to generate the desired number of surrogates. Permuting samples in time instead.\n",
      "maximum statistic, n_perm: 200\n",
      " -- not significant\n",
      "\n",
      "No informative sources in the target's past - adding target sample with lag 1.\n",
      "\n",
      "---------------------------- (2) include source candidates\n",
      "candidate set: [(0, np.int64(1)), (0, np.int64(2)), (0, np.int64(3)), (0, np.int64(4)), (0, np.int64(5)), (1, np.int64(1)), (1, np.int64(2)), (1, np.int64(3)), (1, np.int64(4)), (1, np.int64(5)), (3, np.int64(1)), (3, np.int64(2)), (3, np.int64(3)), (3, np.int64(4)), (3, np.int64(5)), (4, np.int64(1)), (4, np.int64(2)), (4, np.int64(3)), (4, np.int64(4)), (4, np.int64(5)), (5, np.int64(1)), (5, np.int64(2)), (5, np.int64(3)), (5, np.int64(4)), (5, np.int64(5)), (6, np.int64(1)), (6, np.int64(2)), (6, np.int64(3)), (6, np.int64(4)), (6, np.int64(5)), (7, np.int64(1)), (7, np.int64(2)), (7, np.int64(3)), (7, np.int64(4)), (7, np.int64(5)), (8, np.int64(1)), (8, np.int64(2)), (8, np.int64(3)), (8, np.int64(4)), (8, np.int64(5))]\n",
      "testing candidate: (4, np.int64(5)) maximum statistic, n_perm: 200\n",
      " -- not significant\n",
      "\n",
      "---------------------------- (3) prune source candidate\n",
      "no sources selected, nothing to prune ...\n",
      "\n",
      "---------------------------- (4) final statistics\n",
      "no sources selected ...\n",
      "final source samples: []\n",
      "final target samples: [(2, 1)]\n",
      "\n",
      "\n",
      "\n",
      "####### analysing target with index 3 from list [0, 1, 2, 3, 4, 5, 6, 7, 8]\n",
      "\n",
      "Target: 3 - testing sources [0, 1, 2, 4, 5, 6, 7, 8]\n",
      "\n",
      "---------------------------- (1) include target candidates\n",
      "candidate set: [(3, 1), (3, 2), (3, 3), (3, 4), (3, 5)]\n",
      "testing candidate: (3, 2) \n",
      "WARNING: Number of replications is not sufficient to generate the desired number of surrogates. Permuting samples in time instead.\n",
      "maximum statistic, n_perm: 200\n",
      " -- not significant\n",
      "\n",
      "No informative sources in the target's past - adding target sample with lag 1.\n",
      "\n",
      "---------------------------- (2) include source candidates\n",
      "candidate set: [(0, np.int64(1)), (0, np.int64(2)), (0, np.int64(3)), (0, np.int64(4)), (0, np.int64(5)), (1, np.int64(1)), (1, np.int64(2)), (1, np.int64(3)), (1, np.int64(4)), (1, np.int64(5)), (2, np.int64(1)), (2, np.int64(2)), (2, np.int64(3)), (2, np.int64(4)), (2, np.int64(5)), (4, np.int64(1)), (4, np.int64(2)), (4, np.int64(3)), (4, np.int64(4)), (4, np.int64(5)), (5, np.int64(1)), (5, np.int64(2)), (5, np.int64(3)), (5, np.int64(4)), (5, np.int64(5)), (6, np.int64(1)), (6, np.int64(2)), (6, np.int64(3)), (6, np.int64(4)), (6, np.int64(5)), (7, np.int64(1)), (7, np.int64(2)), (7, np.int64(3)), (7, np.int64(4)), (7, np.int64(5)), (8, np.int64(1)), (8, np.int64(2)), (8, np.int64(3)), (8, np.int64(4)), (8, np.int64(5))]\n",
      "testing candidate: (8, np.int64(3)) maximum statistic, n_perm: 200\n",
      "testing candidate: (2, np.int64(4)) maximum statistic, n_perm: 200\n",
      " -- not significant\n",
      "\n",
      "---------------------------- (3) prune source candidate\n",
      "selected candidates: [(8, np.int64(3))]\n",
      " -- significant\n",
      "\n",
      "---------------------------- (4) final statistics\n",
      "selected variables: [(3, 1), (8, np.int64(3))]\n",
      "omnibus test, n_perm: 500\n",
      " -- significant\n",
      "\n",
      "sequential maximum statistic, n_perm: 500, testing 1 selected sources\n",
      "removing 0 variables after seq. max stats\n",
      "final source samples: [(8, np.int64(3))]\n",
      "final target samples: [(3, 1)]\n",
      "\n",
      "\n",
      "\n",
      "####### analysing target with index 4 from list [0, 1, 2, 3, 4, 5, 6, 7, 8]\n",
      "\n",
      "Target: 4 - testing sources [0, 1, 2, 3, 5, 6, 7, 8]\n",
      "\n",
      "---------------------------- (1) include target candidates\n",
      "candidate set: [(4, 1), (4, 2), (4, 3), (4, 4), (4, 5)]\n",
      "testing candidate: (4, 1) \n",
      "WARNING: Number of replications is not sufficient to generate the desired number of surrogates. Permuting samples in time instead.\n",
      "maximum statistic, n_perm: 200\n",
      "testing candidate: (4, 5) maximum statistic, n_perm: 200\n",
      " -- not significant\n",
      "\n",
      "---------------------------- (2) include source candidates\n",
      "candidate set: [(0, np.int64(1)), (0, np.int64(2)), (0, np.int64(3)), (0, np.int64(4)), (0, np.int64(5)), (1, np.int64(1)), (1, np.int64(2)), (1, np.int64(3)), (1, np.int64(4)), (1, np.int64(5)), (2, np.int64(1)), (2, np.int64(2)), (2, np.int64(3)), (2, np.int64(4)), (2, np.int64(5)), (3, np.int64(1)), (3, np.int64(2)), (3, np.int64(3)), (3, np.int64(4)), (3, np.int64(5)), (5, np.int64(1)), (5, np.int64(2)), (5, np.int64(3)), (5, np.int64(4)), (5, np.int64(5)), (6, np.int64(1)), (6, np.int64(2)), (6, np.int64(3)), (6, np.int64(4)), (6, np.int64(5)), (7, np.int64(1)), (7, np.int64(2)), (7, np.int64(3)), (7, np.int64(4)), (7, np.int64(5)), (8, np.int64(1)), (8, np.int64(2)), (8, np.int64(3)), (8, np.int64(4)), (8, np.int64(5))]\n",
      "testing candidate: (1, np.int64(1)) maximum statistic, n_perm: 200\n",
      "testing candidate: (2, np.int64(1)) maximum statistic, n_perm: 200\n",
      " -- not significant\n",
      "\n",
      "---------------------------- (3) prune source candidate\n",
      "selected candidates: [(1, np.int64(1))]\n",
      " -- significant\n",
      "\n",
      "---------------------------- (4) final statistics\n",
      "selected variables: [(4, 1), (1, np.int64(1))]\n",
      "omnibus test, n_perm: 500\n",
      " -- significant\n",
      "\n",
      "sequential maximum statistic, n_perm: 500, testing 1 selected sources\n",
      "removing 0 variables after seq. max stats\n",
      "final source samples: [(1, np.int64(1))]\n",
      "final target samples: [(4, 1)]\n",
      "\n",
      "\n",
      "\n",
      "####### analysing target with index 5 from list [0, 1, 2, 3, 4, 5, 6, 7, 8]\n",
      "\n",
      "Target: 5 - testing sources [0, 1, 2, 3, 4, 6, 7, 8]\n",
      "\n",
      "---------------------------- (1) include target candidates\n",
      "candidate set: [(5, 1), (5, 2), (5, 3), (5, 4), (5, 5)]\n",
      "testing candidate: (5, 1) \n",
      "WARNING: Number of replications is not sufficient to generate the desired number of surrogates. Permuting samples in time instead.\n",
      "maximum statistic, n_perm: 200\n",
      "testing candidate: (5, 5) maximum statistic, n_perm: 200\n",
      " -- not significant\n",
      "\n",
      "---------------------------- (2) include source candidates\n",
      "candidate set: [(0, np.int64(1)), (0, np.int64(2)), (0, np.int64(3)), (0, np.int64(4)), (0, np.int64(5)), (1, np.int64(1)), (1, np.int64(2)), (1, np.int64(3)), (1, np.int64(4)), (1, np.int64(5)), (2, np.int64(1)), (2, np.int64(2)), (2, np.int64(3)), (2, np.int64(4)), (2, np.int64(5)), (3, np.int64(1)), (3, np.int64(2)), (3, np.int64(3)), (3, np.int64(4)), (3, np.int64(5)), (4, np.int64(1)), (4, np.int64(2)), (4, np.int64(3)), (4, np.int64(4)), (4, np.int64(5)), (6, np.int64(1)), (6, np.int64(2)), (6, np.int64(3)), (6, np.int64(4)), (6, np.int64(5)), (7, np.int64(1)), (7, np.int64(2)), (7, np.int64(3)), (7, np.int64(4)), (7, np.int64(5)), (8, np.int64(1)), (8, np.int64(2)), (8, np.int64(3)), (8, np.int64(4)), (8, np.int64(5))]\n",
      "testing candidate: (1, np.int64(1)) maximum statistic, n_perm: 200\n",
      "testing candidate: (6, np.int64(3)) maximum statistic, n_perm: 200\n",
      " -- not significant\n",
      "\n",
      "---------------------------- (3) prune source candidate\n",
      "selected candidates: [(1, np.int64(1))]\n",
      " -- significant\n",
      "\n",
      "---------------------------- (4) final statistics\n",
      "selected variables: [(5, 1), (1, np.int64(1))]\n",
      "omnibus test, n_perm: 500\n",
      " -- significant\n",
      "\n",
      "sequential maximum statistic, n_perm: 500, testing 1 selected sources\n",
      "removing 0 variables after seq. max stats\n",
      "final source samples: [(1, np.int64(1))]\n",
      "final target samples: [(5, 1)]\n",
      "\n",
      "\n",
      "\n",
      "####### analysing target with index 6 from list [0, 1, 2, 3, 4, 5, 6, 7, 8]\n",
      "\n",
      "Target: 6 - testing sources [0, 1, 2, 3, 4, 5, 7, 8]\n",
      "\n",
      "---------------------------- (1) include target candidates\n",
      "candidate set: [(6, 1), (6, 2), (6, 3), (6, 4), (6, 5)]\n",
      "testing candidate: (6, 1) \n",
      "WARNING: Number of replications is not sufficient to generate the desired number of surrogates. Permuting samples in time instead.\n",
      "maximum statistic, n_perm: 200\n",
      "testing candidate: (6, 5) maximum statistic, n_perm: 200\n",
      " -- not significant\n",
      "\n",
      "---------------------------- (2) include source candidates\n",
      "candidate set: [(0, np.int64(1)), (0, np.int64(2)), (0, np.int64(3)), (0, np.int64(4)), (0, np.int64(5)), (1, np.int64(1)), (1, np.int64(2)), (1, np.int64(3)), (1, np.int64(4)), (1, np.int64(5)), (2, np.int64(1)), (2, np.int64(2)), (2, np.int64(3)), (2, np.int64(4)), (2, np.int64(5)), (3, np.int64(1)), (3, np.int64(2)), (3, np.int64(3)), (3, np.int64(4)), (3, np.int64(5)), (4, np.int64(1)), (4, np.int64(2)), (4, np.int64(3)), (4, np.int64(4)), (4, np.int64(5)), (5, np.int64(1)), (5, np.int64(2)), (5, np.int64(3)), (5, np.int64(4)), (5, np.int64(5)), (7, np.int64(1)), (7, np.int64(2)), (7, np.int64(3)), (7, np.int64(4)), (7, np.int64(5)), (8, np.int64(1)), (8, np.int64(2)), (8, np.int64(3)), (8, np.int64(4)), (8, np.int64(5))]\n",
      "testing candidate: (8, np.int64(5)) maximum statistic, n_perm: 200\n",
      "testing candidate: (1, np.int64(3)) maximum statistic, n_perm: 200\n",
      "testing candidate: (1, np.int64(1)) maximum statistic, n_perm: 200\n",
      " -- not significant\n",
      "\n",
      "---------------------------- (3) prune source candidate\n",
      "selected candidates: [(8, np.int64(5)), (1, np.int64(3))]\n",
      "testing candidate: (1, np.int64(3)) minimum statistic, n_perm: 500\n",
      " -- significant\n",
      "\n",
      "---------------------------- (4) final statistics\n",
      "selected variables: [(6, 1), (8, np.int64(5)), (1, np.int64(3))]\n",
      "omnibus test, n_perm: 500\n",
      " -- significant\n",
      "\n",
      "sequential maximum statistic, n_perm: 500, testing 2 selected sources\n",
      "removing 0 variables after seq. max stats\n",
      "final source samples: [(8, np.int64(5)), (1, np.int64(3))]\n",
      "final target samples: [(6, 1)]\n",
      "\n",
      "\n",
      "\n",
      "####### analysing target with index 7 from list [0, 1, 2, 3, 4, 5, 6, 7, 8]\n",
      "\n",
      "Target: 7 - testing sources [0, 1, 2, 3, 4, 5, 6, 8]\n",
      "\n",
      "---------------------------- (1) include target candidates\n",
      "candidate set: [(7, 1), (7, 2), (7, 3), (7, 4), (7, 5)]\n",
      "testing candidate: (7, 4) \n",
      "WARNING: Number of replications is not sufficient to generate the desired number of surrogates. Permuting samples in time instead.\n",
      "maximum statistic, n_perm: 200\n",
      " -- not significant\n",
      "\n",
      "No informative sources in the target's past - adding target sample with lag 1.\n",
      "\n",
      "---------------------------- (2) include source candidates\n",
      "candidate set: [(0, np.int64(1)), (0, np.int64(2)), (0, np.int64(3)), (0, np.int64(4)), (0, np.int64(5)), (1, np.int64(1)), (1, np.int64(2)), (1, np.int64(3)), (1, np.int64(4)), (1, np.int64(5)), (2, np.int64(1)), (2, np.int64(2)), (2, np.int64(3)), (2, np.int64(4)), (2, np.int64(5)), (3, np.int64(1)), (3, np.int64(2)), (3, np.int64(3)), (3, np.int64(4)), (3, np.int64(5)), (4, np.int64(1)), (4, np.int64(2)), (4, np.int64(3)), (4, np.int64(4)), (4, np.int64(5)), (5, np.int64(1)), (5, np.int64(2)), (5, np.int64(3)), (5, np.int64(4)), (5, np.int64(5)), (6, np.int64(1)), (6, np.int64(2)), (6, np.int64(3)), (6, np.int64(4)), (6, np.int64(5)), (8, np.int64(1)), (8, np.int64(2)), (8, np.int64(3)), (8, np.int64(4)), (8, np.int64(5))]\n",
      "testing candidate: (6, np.int64(2)) maximum statistic, n_perm: 200\n",
      " -- not significant\n",
      "\n",
      "---------------------------- (3) prune source candidate\n",
      "no sources selected, nothing to prune ...\n",
      "\n",
      "---------------------------- (4) final statistics\n",
      "no sources selected ...\n",
      "final source samples: []\n",
      "final target samples: [(7, 1)]\n",
      "\n",
      "\n",
      "\n",
      "####### analysing target with index 8 from list [0, 1, 2, 3, 4, 5, 6, 7, 8]\n",
      "\n",
      "Target: 8 - testing sources [0, 1, 2, 3, 4, 5, 6, 7]\n",
      "\n",
      "---------------------------- (1) include target candidates\n",
      "candidate set: [(8, 1), (8, 2), (8, 3), (8, 4), (8, 5)]\n",
      "testing candidate: (8, 4) \n",
      "WARNING: Number of replications is not sufficient to generate the desired number of surrogates. Permuting samples in time instead.\n",
      "maximum statistic, n_perm: 200\n",
      "testing candidate: (8, 2) maximum statistic, n_perm: 200\n",
      " -- not significant\n",
      "\n",
      "---------------------------- (2) include source candidates\n",
      "candidate set: [(0, np.int64(1)), (0, np.int64(2)), (0, np.int64(3)), (0, np.int64(4)), (0, np.int64(5)), (1, np.int64(1)), (1, np.int64(2)), (1, np.int64(3)), (1, np.int64(4)), (1, np.int64(5)), (2, np.int64(1)), (2, np.int64(2)), (2, np.int64(3)), (2, np.int64(4)), (2, np.int64(5)), (3, np.int64(1)), (3, np.int64(2)), (3, np.int64(3)), (3, np.int64(4)), (3, np.int64(5)), (4, np.int64(1)), (4, np.int64(2)), (4, np.int64(3)), (4, np.int64(4)), (4, np.int64(5)), (5, np.int64(1)), (5, np.int64(2)), (5, np.int64(3)), (5, np.int64(4)), (5, np.int64(5)), (6, np.int64(1)), (6, np.int64(2)), (6, np.int64(3)), (6, np.int64(4)), (6, np.int64(5)), (7, np.int64(1)), (7, np.int64(2)), (7, np.int64(3)), (7, np.int64(4)), (7, np.int64(5))]\n",
      "testing candidate: (4, np.int64(1)) maximum statistic, n_perm: 200\n",
      "testing candidate: (0, np.int64(1)) maximum statistic, n_perm: 200\n",
      " -- not significant\n",
      "\n",
      "---------------------------- (3) prune source candidate\n",
      "selected candidates: [(4, np.int64(1))]\n",
      " -- significant\n",
      "\n",
      "---------------------------- (4) final statistics\n",
      "selected variables: [(8, 4), (4, np.int64(1))]\n",
      "omnibus test, n_perm: 500\n",
      " -- significant\n",
      "\n",
      "sequential maximum statistic, n_perm: 500, testing 1 selected sources\n",
      "removing 0 variables after seq. max stats\n",
      "final source samples: [(4, np.int64(1))]\n",
      "final target samples: [(8, 4)]\n",
      "\n",
      "\n",
      "WARNING: Number of permutations ('n_perm_max_seq') for at least one target is too low to allow for FDR correction (FDR-threshold: 0.0020, min. theoretically possible p-value: 0.002).\n",
      "\t1 -> 4, max_te_lag: 1\n",
      "\t1 -> 5, max_te_lag: 1\n",
      "\t1 -> 6, max_te_lag: 3\n",
      "\t4 -> 0, max_te_lag: 3\n",
      "\t4 -> 1, max_te_lag: 1\n",
      "\t4 -> 8, max_te_lag: 1\n",
      "\t5 -> 0, max_te_lag: 5\n",
      "\t6 -> 0, max_te_lag: 3\n",
      "\t7 -> 0, max_te_lag: 5\n",
      "\t8 -> 3, max_te_lag: 3\n",
      "\t8 -> 6, max_te_lag: 5\n"
     ]
    },
    {
     "data": {
      "image/png": "[encoded data removed]",
      "text/plain": [
       "<Figure size 1000x500 with 3 Axes>"
      ]
     },
     "metadata": {},
     "output_type": "display_data"
    },
    {
     "name": "stdout",
     "output_type": "stream",
     "text": [
      "Adding data with properties: 9 processes, 1493 samples, 1 replications\n",
      "overwriting existing data\n",
      "\n",
      "####### analysing target with index 0 from list [0, 1, 2, 3, 4, 5, 6, 7, 8]\n",
      "\n",
      "Target: 0 - testing sources [1, 2, 3, 4, 5, 6, 7, 8]\n",
      "\n",
      "---------------------------- (1) include target candidates\n",
      "candidate set: [(0, 1), (0, 2), (0, 3), (0, 4), (0, 5)]\n",
      "testing candidate: (0, 1) \n",
      "WARNING: Number of replications is not sufficient to generate the desired number of surrogates. Permuting samples in time instead.\n",
      "maximum statistic, n_perm: 200\n",
      "testing candidate: (0, 2) maximum statistic, n_perm: 200\n",
      "testing candidate: (0, 4) maximum statistic, n_perm: 200\n",
      " -- not significant\n",
      "\n",
      "---------------------------- (2) include source candidates\n",
      "candidate set: [(1, np.int64(1)), (1, np.int64(2)), (1, np.int64(3)), (1, np.int64(4)), (1, np.int64(5)), (2, np.int64(1)), (2, np.int64(2)), (2, np.int64(3)), (2, np.int64(4)), (2, np.int64(5)), (3, np.int64(1)), (3, np.int64(2)), (3, np.int64(3)), (3, np.int64(4)), (3, np.int64(5)), (4, np.int64(1)), (4, np.int64(2)), (4, np.int64(3)), (4, np.int64(4)), (4, np.int64(5)), (5, np.int64(1)), (5, np.int64(2)), (5, np.int64(3)), (5, np.int64(4)), (5, np.int64(5)), (6, np.int64(1)), (6, np.int64(2)), (6, np.int64(3)), (6, np.int64(4)), (6, np.int64(5)), (7, np.int64(1)), (7, np.int64(2)), (7, np.int64(3)), (7, np.int64(4)), (7, np.int64(5)), (8, np.int64(1)), (8, np.int64(2)), (8, np.int64(3)), (8, np.int64(4)), (8, np.int64(5))]\n",
      "testing candidate: (4, np.int64(1)) maximum statistic, n_perm: 200\n",
      "testing candidate: (2, np.int64(4)) maximum statistic, n_perm: 200\n",
      "testing candidate: (8, np.int64(3)) maximum statistic, n_perm: 200\n",
      " -- not significant\n",
      "\n",
      "---------------------------- (3) prune source candidate\n",
      "selected candidates: [(4, np.int64(1)), (2, np.int64(4))]\n",
      "testing candidate: (2, np.int64(4)) minimum statistic, n_perm: 500\n",
      " -- significant\n",
      "\n",
      "---------------------------- (4) final statistics\n",
      "selected variables: [(0, 1), (0, 2), (4, np.int64(1)), (2, np.int64(4))]\n",
      "omnibus test, n_perm: 500\n",
      " -- significant\n",
      "\n",
      "sequential maximum statistic, n_perm: 500, testing 2 selected sources\n",
      "removing 0 variables after seq. max stats\n",
      "final source samples: [(4, np.int64(1)), (2, np.int64(4))]\n",
      "final target samples: [(0, 1), (0, 2)]\n",
      "\n",
      "\n",
      "\n",
      "####### analysing target with index 1 from list [0, 1, 2, 3, 4, 5, 6, 7, 8]\n",
      "\n",
      "Target: 1 - testing sources [0, 2, 3, 4, 5, 6, 7, 8]\n",
      "\n",
      "---------------------------- (1) include target candidates\n",
      "candidate set: [(1, 1), (1, 2), (1, 3), (1, 4), (1, 5)]\n",
      "testing candidate: (1, 3) \n",
      "WARNING: Number of replications is not sufficient to generate the desired number of surrogates. Permuting samples in time instead.\n",
      "maximum statistic, n_perm: 200\n",
      " -- not significant\n",
      "\n",
      "No informative sources in the target's past - adding target sample with lag 1.\n",
      "\n",
      "---------------------------- (2) include source candidates\n",
      "candidate set: [(0, np.int64(1)), (0, np.int64(2)), (0, np.int64(3)), (0, np.int64(4)), (0, np.int64(5)), (2, np.int64(1)), (2, np.int64(2)), (2, np.int64(3)), (2, np.int64(4)), (2, np.int64(5)), (3, np.int64(1)), (3, np.int64(2)), (3, np.int64(3)), (3, np.int64(4)), (3, np.int64(5)), (4, np.int64(1)), (4, np.int64(2)), (4, np.int64(3)), (4, np.int64(4)), (4, np.int64(5)), (5, np.int64(1)), (5, np.int64(2)), (5, np.int64(3)), (5, np.int64(4)), (5, np.int64(5)), (6, np.int64(1)), (6, np.int64(2)), (6, np.int64(3)), (6, np.int64(4)), (6, np.int64(5)), (7, np.int64(1)), (7, np.int64(2)), (7, np.int64(3)), (7, np.int64(4)), (7, np.int64(5)), (8, np.int64(1)), (8, np.int64(2)), (8, np.int64(3)), (8, np.int64(4)), (8, np.int64(5))]\n",
      "testing candidate: (6, np.int64(2)) maximum statistic, n_perm: 200\n",
      "testing candidate: (7, np.int64(1)) maximum statistic, n_perm: 200\n",
      "testing candidate: (7, np.int64(3)) maximum statistic, n_perm: 200\n",
      "testing candidate: (8, np.int64(3)) maximum statistic, n_perm: 200\n",
      " -- not significant\n",
      "\n",
      "---------------------------- (3) prune source candidate\n",
      "selected candidates: [(6, np.int64(2)), (7, np.int64(1)), (7, np.int64(3))]\n",
      "testing candidate: (7, np.int64(3)) minimum statistic, n_perm: 500\n",
      " -- significant\n",
      "\n",
      "---------------------------- (4) final statistics\n",
      "selected variables: [(1, 1), (6, np.int64(2)), (7, np.int64(1)), (7, np.int64(3))]\n",
      "omnibus test, n_perm: 500\n",
      " -- significant\n",
      "\n",
      "sequential maximum statistic, n_perm: 500, testing 3 selected sources\n",
      "removing 0 variables after seq. max stats\n",
      "final source samples: [(6, np.int64(2)), (7, np.int64(1)), (7, np.int64(3))]\n",
      "final target samples: [(1, 1)]\n",
      "\n",
      "\n",
      "\n",
      "####### analysing target with index 2 from list [0, 1, 2, 3, 4, 5, 6, 7, 8]\n",
      "\n",
      "Target: 2 - testing sources [0, 1, 3, 4, 5, 6, 7, 8]\n",
      "\n",
      "---------------------------- (1) include target candidates\n",
      "candidate set: [(2, 1), (2, 2), (2, 3), (2, 4), (2, 5)]\n",
      "testing candidate: (2, 4) \n",
      "WARNING: Number of replications is not sufficient to generate the desired number of surrogates. Permuting samples in time instead.\n",
      "maximum statistic, n_perm: 200\n",
      " -- not significant\n",
      "\n",
      "No informative sources in the target's past - adding target sample with lag 1.\n",
      "\n",
      "---------------------------- (2) include source candidates\n",
      "candidate set: [(0, np.int64(1)), (0, np.int64(2)), (0, np.int64(3)), (0, np.int64(4)), (0, np.int64(5)), (1, np.int64(1)), (1, np.int64(2)), (1, np.int64(3)), (1, np.int64(4)), (1, np.int64(5)), (3, np.int64(1)), (3, np.int64(2)), (3, np.int64(3)), (3, np.int64(4)), (3, np.int64(5)), (4, np.int64(1)), (4, np.int64(2)), (4, np.int64(3)), (4, np.int64(4)), (4, np.int64(5)), (5, np.int64(1)), (5, np.int64(2)), (5, np.int64(3)), (5, np.int64(4)), (5, np.int64(5)), (6, np.int64(1)), (6, np.int64(2)), (6, np.int64(3)), (6, np.int64(4)), (6, np.int64(5)), (7, np.int64(1)), (7, np.int64(2)), (7, np.int64(3)), (7, np.int64(4)), (7, np.int64(5)), (8, np.int64(1)), (8, np.int64(2)), (8, np.int64(3)), (8, np.int64(4)), (8, np.int64(5))]\n",
      "testing candidate: (7, np.int64(1)) maximum statistic, n_perm: 200\n",
      "testing candidate: (6, np.int64(3)) maximum statistic, n_perm: 200\n",
      " -- not significant\n",
      "\n",
      "---------------------------- (3) prune source candidate\n",
      "selected candidates: [(7, np.int64(1))]\n",
      " -- significant\n",
      "\n",
      "---------------------------- (4) final statistics\n",
      "selected variables: [(2, 1), (7, np.int64(1))]\n",
      "omnibus test, n_perm: 500\n",
      " -- significant\n",
      "\n",
      "sequential maximum statistic, n_perm: 500, testing 1 selected sources\n",
      "removing 0 variables after seq. max stats\n",
      "final source samples: [(7, np.int64(1))]\n",
      "final target samples: [(2, 1)]\n",
      "\n",
      "\n",
      "\n",
      "####### analysing target with index 3 from list [0, 1, 2, 3, 4, 5, 6, 7, 8]\n",
      "\n",
      "Target: 3 - testing sources [0, 1, 2, 4, 5, 6, 7, 8]\n",
      "\n",
      "---------------------------- (1) include target candidates\n",
      "candidate set: [(3, 1), (3, 2), (3, 3), (3, 4), (3, 5)]\n",
      "testing candidate: (3, 3) \n",
      "WARNING: Number of replications is not sufficient to generate the desired number of surrogates. Permuting samples in time instead.\n",
      "maximum statistic, n_perm: 200\n",
      " -- not significant\n",
      "\n",
      "No informative sources in the target's past - adding target sample with lag 1.\n",
      "\n",
      "---------------------------- (2) include source candidates\n",
      "candidate set: [(0, np.int64(1)), (0, np.int64(2)), (0, np.int64(3)), (0, np.int64(4)), (0, np.int64(5)), (1, np.int64(1)), (1, np.int64(2)), (1, np.int64(3)), (1, np.int64(4)), (1, np.int64(5)), (2, np.int64(1)), (2, np.int64(2)), (2, np.int64(3)), (2, np.int64(4)), (2, np.int64(5)), (4, np.int64(1)), (4, np.int64(2)), (4, np.int64(3)), (4, np.int64(4)), (4, np.int64(5)), (5, np.int64(1)), (5, np.int64(2)), (5, np.int64(3)), (5, np.int64(4)), (5, np.int64(5)), (6, np.int64(1)), (6, np.int64(2)), (6, np.int64(3)), (6, np.int64(4)), (6, np.int64(5)), (7, np.int64(1)), (7, np.int64(2)), (7, np.int64(3)), (7, np.int64(4)), (7, np.int64(5)), (8, np.int64(1)), (8, np.int64(2)), (8, np.int64(3)), (8, np.int64(4)), (8, np.int64(5))]\n",
      "testing candidate: (0, np.int64(5)) maximum statistic, n_perm: 200\n",
      " -- not significant\n",
      "\n",
      "---------------------------- (3) prune source candidate\n",
      "no sources selected, nothing to prune ...\n",
      "\n",
      "---------------------------- (4) final statistics\n",
      "no sources selected ...\n",
      "final source samples: []\n",
      "final target samples: [(3, 1)]\n",
      "\n",
      "\n",
      "\n",
      "####### analysing target with index 4 from list [0, 1, 2, 3, 4, 5, 6, 7, 8]\n",
      "\n",
      "Target: 4 - testing sources [0, 1, 2, 3, 5, 6, 7, 8]\n",
      "\n",
      "---------------------------- (1) include target candidates\n",
      "candidate set: [(4, 1), (4, 2), (4, 3), (4, 4), (4, 5)]\n",
      "testing candidate: (4, 1) \n",
      "WARNING: Number of replications is not sufficient to generate the desired number of surrogates. Permuting samples in time instead.\n",
      "maximum statistic, n_perm: 200\n",
      "testing candidate: (4, 3) maximum statistic, n_perm: 200\n",
      " -- not significant\n",
      "\n",
      "---------------------------- (2) include source candidates\n",
      "candidate set: [(0, np.int64(1)), (0, np.int64(2)), (0, np.int64(3)), (0, np.int64(4)), (0, np.int64(5)), (1, np.int64(1)), (1, np.int64(2)), (1, np.int64(3)), (1, np.int64(4)), (1, np.int64(5)), (2, np.int64(1)), (2, np.int64(2)), (2, np.int64(3)), (2, np.int64(4)), (2, np.int64(5)), (3, np.int64(1)), (3, np.int64(2)), (3, np.int64(3)), (3, np.int64(4)), (3, np.int64(5)), (5, np.int64(1)), (5, np.int64(2)), (5, np.int64(3)), (5, np.int64(4)), (5, np.int64(5)), (6, np.int64(1)), (6, np.int64(2)), (6, np.int64(3)), (6, np.int64(4)), (6, np.int64(5)), (7, np.int64(1)), (7, np.int64(2)), (7, np.int64(3)), (7, np.int64(4)), (7, np.int64(5)), (8, np.int64(1)), (8, np.int64(2)), (8, np.int64(3)), (8, np.int64(4)), (8, np.int64(5))]\n",
      "testing candidate: (5, np.int64(4)) maximum statistic, n_perm: 200\n",
      " -- not significant\n",
      "\n",
      "---------------------------- (3) prune source candidate\n",
      "no sources selected, nothing to prune ...\n",
      "\n",
      "---------------------------- (4) final statistics\n",
      "no sources selected ...\n",
      "final source samples: []\n",
      "final target samples: [(4, 1)]\n",
      "\n",
      "\n",
      "\n",
      "####### analysing target with index 5 from list [0, 1, 2, 3, 4, 5, 6, 7, 8]\n",
      "\n",
      "Target: 5 - testing sources [0, 1, 2, 3, 4, 6, 7, 8]\n",
      "\n",
      "---------------------------- (1) include target candidates\n",
      "candidate set: [(5, 1), (5, 2), (5, 3), (5, 4), (5, 5)]\n",
      "testing candidate: (5, 3) \n",
      "WARNING: Number of replications is not sufficient to generate the desired number of surrogates. Permuting samples in time instead.\n",
      "maximum statistic, n_perm: 200\n",
      " -- not significant\n",
      "\n",
      "No informative sources in the target's past - adding target sample with lag 1.\n",
      "\n",
      "---------------------------- (2) include source candidates\n",
      "candidate set: [(0, np.int64(1)), (0, np.int64(2)), (0, np.int64(3)), (0, np.int64(4)), (0, np.int64(5)), (1, np.int64(1)), (1, np.int64(2)), (1, np.int64(3)), (1, np.int64(4)), (1, np.int64(5)), (2, np.int64(1)), (2, np.int64(2)), (2, np.int64(3)), (2, np.int64(4)), (2, np.int64(5)), (3, np.int64(1)), (3, np.int64(2)), (3, np.int64(3)), (3, np.int64(4)), (3, np.int64(5)), (4, np.int64(1)), (4, np.int64(2)), (4, np.int64(3)), (4, np.int64(4)), (4, np.int64(5)), (6, np.int64(1)), (6, np.int64(2)), (6, np.int64(3)), (6, np.int64(4)), (6, np.int64(5)), (7, np.int64(1)), (7, np.int64(2)), (7, np.int64(3)), (7, np.int64(4)), (7, np.int64(5)), (8, np.int64(1)), (8, np.int64(2)), (8, np.int64(3)), (8, np.int64(4)), (8, np.int64(5))]\n",
      "testing candidate: (1, np.int64(3)) maximum statistic, n_perm: 200\n",
      " -- not significant\n",
      "\n",
      "---------------------------- (3) prune source candidate\n",
      "no sources selected, nothing to prune ...\n",
      "\n",
      "---------------------------- (4) final statistics\n",
      "no sources selected ...\n",
      "final source samples: []\n",
      "final target samples: [(5, 1)]\n",
      "\n",
      "\n",
      "\n",
      "####### analysing target with index 6 from list [0, 1, 2, 3, 4, 5, 6, 7, 8]\n",
      "\n",
      "Target: 6 - testing sources [0, 1, 2, 3, 4, 5, 7, 8]\n",
      "\n",
      "---------------------------- (1) include target candidates\n",
      "candidate set: [(6, 1), (6, 2), (6, 3), (6, 4), (6, 5)]\n",
      "testing candidate: (6, 3) \n",
      "WARNING: Number of replications is not sufficient to generate the desired number of surrogates. Permuting samples in time instead.\n",
      "maximum statistic, n_perm: 200\n",
      " -- not significant\n",
      "\n",
      "No informative sources in the target's past - adding target sample with lag 1.\n",
      "\n",
      "---------------------------- (2) include source candidates\n",
      "candidate set: [(0, np.int64(1)), (0, np.int64(2)), (0, np.int64(3)), (0, np.int64(4)), (0, np.int64(5)), (1, np.int64(1)), (1, np.int64(2)), (1, np.int64(3)), (1, np.int64(4)), (1, np.int64(5)), (2, np.int64(1)), (2, np.int64(2)), (2, np.int64(3)), (2, np.int64(4)), (2, np.int64(5)), (3, np.int64(1)), (3, np.int64(2)), (3, np.int64(3)), (3, np.int64(4)), (3, np.int64(5)), (4, np.int64(1)), (4, np.int64(2)), (4, np.int64(3)), (4, np.int64(4)), (4, np.int64(5)), (5, np.int64(1)), (5, np.int64(2)), (5, np.int64(3)), (5, np.int64(4)), (5, np.int64(5)), (7, np.int64(1)), (7, np.int64(2)), (7, np.int64(3)), (7, np.int64(4)), (7, np.int64(5)), (8, np.int64(1)), (8, np.int64(2)), (8, np.int64(3)), (8, np.int64(4)), (8, np.int64(5))]\n",
      "testing candidate: (4, np.int64(2)) maximum statistic, n_perm: 200\n",
      " -- not significant\n",
      "\n",
      "---------------------------- (3) prune source candidate\n",
      "no sources selected, nothing to prune ...\n",
      "\n",
      "---------------------------- (4) final statistics\n",
      "no sources selected ...\n",
      "final source samples: []\n",
      "final target samples: [(6, 1)]\n",
      "\n",
      "\n",
      "\n",
      "####### analysing target with index 7 from list [0, 1, 2, 3, 4, 5, 6, 7, 8]\n",
      "\n",
      "Target: 7 - testing sources [0, 1, 2, 3, 4, 5, 6, 8]\n",
      "\n",
      "---------------------------- (1) include target candidates\n",
      "candidate set: [(7, 1), (7, 2), (7, 3), (7, 4), (7, 5)]\n",
      "testing candidate: (7, 4) \n",
      "WARNING: Number of replications is not sufficient to generate the desired number of surrogates. Permuting samples in time instead.\n",
      "maximum statistic, n_perm: 200\n",
      " -- not significant\n",
      "\n",
      "No informative sources in the target's past - adding target sample with lag 1.\n",
      "\n",
      "---------------------------- (2) include source candidates\n",
      "candidate set: [(0, np.int64(1)), (0, np.int64(2)), (0, np.int64(3)), (0, np.int64(4)), (0, np.int64(5)), (1, np.int64(1)), (1, np.int64(2)), (1, np.int64(3)), (1, np.int64(4)), (1, np.int64(5)), (2, np.int64(1)), (2, np.int64(2)), (2, np.int64(3)), (2, np.int64(4)), (2, np.int64(5)), (3, np.int64(1)), (3, np.int64(2)), (3, np.int64(3)), (3, np.int64(4)), (3, np.int64(5)), (4, np.int64(1)), (4, np.int64(2)), (4, np.int64(3)), (4, np.int64(4)), (4, np.int64(5)), (5, np.int64(1)), (5, np.int64(2)), (5, np.int64(3)), (5, np.int64(4)), (5, np.int64(5)), (6, np.int64(1)), (6, np.int64(2)), (6, np.int64(3)), (6, np.int64(4)), (6, np.int64(5)), (8, np.int64(1)), (8, np.int64(2)), (8, np.int64(3)), (8, np.int64(4)), (8, np.int64(5))]\n",
      "testing candidate: (3, np.int64(2)) maximum statistic, n_perm: 200\n",
      "testing candidate: (5, np.int64(4)) maximum statistic, n_perm: 200\n",
      "testing candidate: (4, np.int64(1)) maximum statistic, n_perm: 200\n",
      " -- not significant\n",
      "\n",
      "---------------------------- (3) prune source candidate\n",
      "selected candidates: [(3, np.int64(2)), (5, np.int64(4))]\n",
      "testing candidate: (5, np.int64(4)) minimum statistic, n_perm: 500\n",
      " -- significant\n",
      "\n",
      "---------------------------- (4) final statistics\n",
      "selected variables: [(7, 1), (3, np.int64(2)), (5, np.int64(4))]\n",
      "omnibus test, n_perm: 500\n",
      " -- significant\n",
      "\n",
      "sequential maximum statistic, n_perm: 500, testing 2 selected sources\n",
      "removing 0 variables after seq. max stats\n",
      "final source samples: [(3, np.int64(2)), (5, np.int64(4))]\n",
      "final target samples: [(7, 1)]\n",
      "\n",
      "\n",
      "\n",
      "####### analysing target with index 8 from list [0, 1, 2, 3, 4, 5, 6, 7, 8]\n",
      "\n",
      "Target: 8 - testing sources [0, 1, 2, 3, 4, 5, 6, 7]\n",
      "\n",
      "---------------------------- (1) include target candidates\n",
      "candidate set: [(8, 1), (8, 2), (8, 3), (8, 4), (8, 5)]\n",
      "testing candidate: (8, 3) \n",
      "WARNING: Number of replications is not sufficient to generate the desired number of surrogates. Permuting samples in time instead.\n",
      "maximum statistic, n_perm: 200\n",
      "testing candidate: (8, 2) maximum statistic, n_perm: 200\n",
      "testing candidate: (8, 1) maximum statistic, n_perm: 200\n",
      " -- not significant\n",
      "\n",
      "---------------------------- (2) include source candidates\n",
      "candidate set: [(0, np.int64(1)), (0, np.int64(2)), (0, np.int64(3)), (0, np.int64(4)), (0, np.int64(5)), (1, np.int64(1)), (1, np.int64(2)), (1, np.int64(3)), (1, np.int64(4)), (1, np.int64(5)), (2, np.int64(1)), (2, np.int64(2)), (2, np.int64(3)), (2, np.int64(4)), (2, np.int64(5)), (3, np.int64(1)), (3, np.int64(2)), (3, np.int64(3)), (3, np.int64(4)), (3, np.int64(5)), (4, np.int64(1)), (4, np.int64(2)), (4, np.int64(3)), (4, np.int64(4)), (4, np.int64(5)), (5, np.int64(1)), (5, np.int64(2)), (5, np.int64(3)), (5, np.int64(4)), (5, np.int64(5)), (6, np.int64(1)), (6, np.int64(2)), (6, np.int64(3)), (6, np.int64(4)), (6, np.int64(5)), (7, np.int64(1)), (7, np.int64(2)), (7, np.int64(3)), (7, np.int64(4)), (7, np.int64(5))]\n",
      "testing candidate: (4, np.int64(1)) maximum statistic, n_perm: 200\n",
      "testing candidate: (3, np.int64(5)) maximum statistic, n_perm: 200\n",
      "testing candidate: (7, np.int64(2)) maximum statistic, n_perm: 200\n",
      " -- not significant\n",
      "\n",
      "---------------------------- (3) prune source candidate\n",
      "selected candidates: [(4, np.int64(1)), (3, np.int64(5))]\n",
      "testing candidate: (3, np.int64(5)) minimum statistic, n_perm: 500\n",
      " -- significant\n",
      "\n",
      "---------------------------- (4) final statistics\n",
      "selected variables: [(8, 3), (8, 2), (4, np.int64(1)), (3, np.int64(5))]\n",
      "omnibus test, n_perm: 500\n",
      " -- significant\n",
      "\n",
      "sequential maximum statistic, n_perm: 500, testing 2 selected sources\n",
      "removing 0 variables after seq. max stats\n",
      "final source samples: [(4, np.int64(1)), (3, np.int64(5))]\n",
      "final target samples: [(8, 3), (8, 2)]\n",
      "\n",
      "\n",
      "WARNING: Number of permutations ('n_perm_max_seq') for at least one target is too low to allow for FDR correction (FDR-threshold: 0.0020, min. theoretically possible p-value: 0.002).\n",
      "\t2 -> 0, max_te_lag: 4\n",
      "\t3 -> 7, max_te_lag: 2\n",
      "\t3 -> 8, max_te_lag: 5\n",
      "\t4 -> 0, max_te_lag: 1\n",
      "\t4 -> 8, max_te_lag: 1\n",
      "\t5 -> 7, max_te_lag: 4\n",
      "\t6 -> 1, max_te_lag: 2\n",
      "\t7 -> 1, max_te_lag: 1\n",
      "\t7 -> 2, max_te_lag: 1\n"
     ]
    },
    {
     "data": {
      "image/png": "[encoded data removed]",
      "text/plain": [
       "<Figure size 1000x500 with 3 Axes>"
      ]
     },
     "metadata": {},
     "output_type": "display_data"
    }
   ],
   "source": [
    "discrete_log_returns = preprocess.discretize_df(pca_asset_classes, num_bins=2)\n",
    "window_len = 6\n",
    "window_step = 3\n",
    "windows = preprocess.sliding_window(discrete_log_returns, \n",
    "                                    window_len, \n",
    "                                    window_step, \n",
    "                                    window_unit=\"years\", \n",
    "                                    step_unit=\"years\")\n",
    "endpoints = [end_date for _, end_date, _ in windows]\n",
    "\n",
    "settings = {\n",
    "    \"cmi_estimator\": \"JidtDiscreteCMI\",\n",
    "    \"max_lag_sources\": 5,\n",
    "    \"min_lag_sources\": 1,\n",
    "    \"n_discrete_bins\": np.max(discrete_log_returns) + 1 \n",
    "}\n",
    "\n",
    "windows_results = windows_multi_te(windows, settings)"
   ]
  },
  {
   "cell_type": "code",
   "execution_count": 16,
   "id": "b58ccc6b",
   "metadata": {},
   "outputs": [],
   "source": [
    "import plotly.graph_objects as go\n",
    "def create_measure_heatmap(measure_matrix, assets, endpoints, \n",
    "                         measure_name=\"measure\", window_len=\"2\", colorscale=\"Viridis\"):\n",
    "    num_windows = measure_matrix.shape[2]\n",
    "    \n",
    "    frames = [\n",
    "        go.Frame(\n",
    "            name=f\"Window {t}\",\n",
    "            data=go.Heatmap(\n",
    "                z=measure_matrix[:, :, t],\n",
    "                x=assets,\n",
    "                y=assets,\n",
    "                colorscale=colorscale,\n",
    "                # Ensure square aspect ratio\n",
    "                hoverongaps=False,\n",
    "                showscale=True\n",
    "            )\n",
    "        )\n",
    "        for t in range(num_windows)\n",
    "    ]\n",
    "    \n",
    "    slider_steps = [{\n",
    "        \"args\": [[f\"Window {t}\"], {\"frame\": {\"duration\": 0}, \"mode\": \"immediate\"}],\n",
    "        \"label\": str(endpoints[t].year),\n",
    "        \"method\": \"animate\"\n",
    "    } for t in range(num_windows)]\n",
    "    \n",
    "    fig = go.Figure(\n",
    "        data=frames[0].data,\n",
    "        frames=frames,\n",
    "        layout=go.Layout(\n",
    "            title=f\"{measure_name} Heatmap Over Time\",\n",
    "            sliders=[{\n",
    "                \"active\": 0,\n",
    "                \"steps\": slider_steps,\n",
    "                \"currentvalue\": {\n",
    "                    \"font\": {\"size\": 20},\n",
    "                    \"prefix\": f\"{window_len} Year(s) up to: \", \n",
    "                    \"xanchor\": \"right\"},\n",
    "                \"pad\": {\"b\": 10, \"t\": 50}\n",
    "            }],\n",
    "            # Add these layout adjustments\n",
    "            height=800,  # Increase height\n",
    "            margin=dict(l=120),  # Add left margin for labels\n",
    "            yaxis=dict(\n",
    "                tickangle=-45,  # Rotate labels\n",
    "                tickfont=dict(size=10)  # Smaller font\n",
    "            ),\n",
    "            xaxis=dict(\n",
    "                tickangle=45,\n",
    "                tickfont=dict(size=10)\n",
    "            )\n",
    "        )\n",
    "    )\n",
    "    return fig"
   ]
  },
  {
   "cell_type": "code",
   "execution_count": 14,
   "id": "fda39a16",
   "metadata": {},
   "outputs": [],
   "source": [
    "te_matrix_3d = idtxl_3d_te_matrix(windows_results)"
   ]
  },
  {
   "cell_type": "code",
   "execution_count": 18,
   "id": "0ff91ca0",
   "metadata": {},
   "outputs": [
    {
     "data": {
      "application/vnd.plotly.v1+json": {
       "config": {
        "plotlyServerURL": "https://plot.ly"
       },
       "data": [
        {
         "colorscale": [
          [
           0,
           "#440154"
          ],
          [
           0.1111111111111111,
           "#482878"
          ],
          [
           0.2222222222222222,
           "#3e4989"
          ],
          [
           0.3333333333333333,
           "#31688e"
          ],
          [
           0.4444444444444444,
           "#26828e"
          ],
          [
           0.5555555555555556,
           "#1f9e89"
          ],
          [
           0.6666666666666666,
           "#35b779"
          ],
          [
           0.7777777777777778,
           "#6ece58"
          ],
          [
           0.8888888888888888,
           "#b5de2b"
          ],
          [
           1,
           "#fde725"
          ]
         ],
         "hoverongaps": false,
         "showscale": true,
         "type": "heatmap",
         "x": [
          "commodity",
          "credit",
          "currency",
          "energy",
          "equity",
          "interest",
          "metals",
          "real_estate",
          "volatility"
         ],
         "y": [
          "commodity",
          "credit",
          "currency",
          "energy",
          "equity",
          "interest",
          "metals",
          "real_estate",
          "volatility"
         ],
         "z": {
          "bdata": "AAAAAAAAAAAAAAAAAAAAAAAAAAAAAAAAAAAAAAAAAABcayKUC/BzPwAAAAAAAAAAAAAAAAAAAACgC1oen8t6PwAAAAAAAAAAAAAAAAAAAAAAAAAAAAAAAAAAAAAAAAAAAAAAAAAAAAAAAAAAAAAAAAAAAAAAAAAAAAAAAAAAAAAAAAAAAAAAAAAAAAAAAAAAAAAAAAAAAAAAAAAAAAAAAAAAAAAAAAAAAAAAAAAAAAAAAAAAAAAAAKhRDsomSXk/PnwjDgZXcz8AAAAAAAAAAAAAAAAAAAAAAAAAAAAAAAAAAAAAAAAAAAAAAAAAAAAAAAAAAAAAAAAAAAAAAAAAAAAAAAAAAAAAAAAAAAAAAAAAAAAAAAAAAAAAAAAAAAAAEnWyzb+rhD8AAAAAAAAAAAAAAAAAAAAAAAAAAAAAAAAAAAAAAAAAAAAAAAAAAAAAAAAAAAAAAAAAAAAAAAAAAAAAAAAAAAAAAAAAAAAAAACsqOd5U52FPwAAAAAAAAAAAAAAAAAAAAAAAAAAAAAAAAAAAAAAAAAAAAAAAAAAAAAAAAAAAAAAAAAAAAAAAAAAAAAAAAAAAAAAAAAAAAAAAAAAAAAAAAAAAAAAAAAAAAAAAAAAAAAAAAAAAAAAAAAAAAAAAAAAAAAAAAAAAAAAAAAAAAAAAAAAAAAAAAAAAAAAAAAAAAAAAAAAAAAAAAAAAAAAAAAAAAAAAAAAAAAAAAAAAAAAAAAAAAAAAAAAAAAAAAAAAAAAAAAAAAAAAAAAAAAAAAAAAAAAAAAAAAAAAAAAAAAAAAAAAAAAAAAAAAAAAAAAAAAAAAAAAAAAAAAAAAAAAAAAAAAAAAAAAAAAAAAAAAAAAAAA",
          "dtype": "f8",
          "shape": "9, 9"
         }
        }
       ],
       "frames": [
        {
         "data": [
          {
           "colorscale": [
            [
             0,
             "#440154"
            ],
            [
             0.1111111111111111,
             "#482878"
            ],
            [
             0.2222222222222222,
             "#3e4989"
            ],
            [
             0.3333333333333333,
             "#31688e"
            ],
            [
             0.4444444444444444,
             "#26828e"
            ],
            [
             0.5555555555555556,
             "#1f9e89"
            ],
            [
             0.6666666666666666,
             "#35b779"
            ],
            [
             0.7777777777777778,
             "#6ece58"
            ],
            [
             0.8888888888888888,
             "#b5de2b"
            ],
            [
             1,
             "#fde725"
            ]
           ],
           "hoverongaps": false,
           "showscale": true,
           "type": "heatmap",
           "x": [
            "commodity",
            "credit",
            "currency",
            "energy",
            "equity",
            "interest",
            "metals",
            "real_estate",
            "volatility"
           ],
           "y": [
            "commodity",
            "credit",
            "currency",
            "energy",
            "equity",
            "interest",
            "metals",
            "real_estate",
            "volatility"
           ],
           "z": {
            "bdata": "AAAAAAAAAAAAAAAAAAAAAAAAAAAAAAAAAAAAAAAAAABcayKUC/BzPwAAAAAAAAAAAAAAAAAAAACgC1oen8t6PwAAAAAAAAAAAAAAAAAAAAAAAAAAAAAAAAAAAAAAAAAAAAAAAAAAAAAAAAAAAAAAAAAAAAAAAAAAAAAAAAAAAAAAAAAAAAAAAAAAAAAAAAAAAAAAAAAAAAAAAAAAAAAAAAAAAAAAAAAAAAAAAAAAAAAAAAAAAAAAAKhRDsomSXk/PnwjDgZXcz8AAAAAAAAAAAAAAAAAAAAAAAAAAAAAAAAAAAAAAAAAAAAAAAAAAAAAAAAAAAAAAAAAAAAAAAAAAAAAAAAAAAAAAAAAAAAAAAAAAAAAAAAAAAAAAAAAAAAAEnWyzb+rhD8AAAAAAAAAAAAAAAAAAAAAAAAAAAAAAAAAAAAAAAAAAAAAAAAAAAAAAAAAAAAAAAAAAAAAAAAAAAAAAAAAAAAAAAAAAAAAAACsqOd5U52FPwAAAAAAAAAAAAAAAAAAAAAAAAAAAAAAAAAAAAAAAAAAAAAAAAAAAAAAAAAAAAAAAAAAAAAAAAAAAAAAAAAAAAAAAAAAAAAAAAAAAAAAAAAAAAAAAAAAAAAAAAAAAAAAAAAAAAAAAAAAAAAAAAAAAAAAAAAAAAAAAAAAAAAAAAAAAAAAAAAAAAAAAAAAAAAAAAAAAAAAAAAAAAAAAAAAAAAAAAAAAAAAAAAAAAAAAAAAAAAAAAAAAAAAAAAAAAAAAAAAAAAAAAAAAAAAAAAAAAAAAAAAAAAAAAAAAAAAAAAAAAAAAAAAAAAAAAAAAAAAAAAAAAAAAAAAAAAAAAAAAAAAAAAAAAAAAAAAAAAAAAAA",
            "dtype": "f8",
            "shape": "9, 9"
           }
          }
         ],
         "name": "Window 0"
        },
        {
         "data": [
          {
           "colorscale": [
            [
             0,
             "#440154"
            ],
            [
             0.1111111111111111,
             "#482878"
            ],
            [
             0.2222222222222222,
             "#3e4989"
            ],
            [
             0.3333333333333333,
             "#31688e"
            ],
            [
             0.4444444444444444,
             "#26828e"
            ],
            [
             0.5555555555555556,
             "#1f9e89"
            ],
            [
             0.6666666666666666,
             "#35b779"
            ],
            [
             0.7777777777777778,
             "#6ece58"
            ],
            [
             0.8888888888888888,
             "#b5de2b"
            ],
            [
             1,
             "#fde725"
            ]
           ],
           "hoverongaps": false,
           "showscale": true,
           "type": "heatmap",
           "x": [
            "commodity",
            "credit",
            "currency",
            "energy",
            "equity",
            "interest",
            "metals",
            "real_estate",
            "volatility"
           ],
           "y": [
            "commodity",
            "credit",
            "currency",
            "energy",
            "equity",
            "interest",
            "metals",
            "real_estate",
            "volatility"
           ],
           "z": {
            "bdata": "AAAAAAAAAAAAAAAAAAAAAAAAAAAAAAAAAAAAAAAAAAAAAAAAAAAAAAAAAAAAAAAAAAAAAAAAAAAAAAAAAAAAAAAAAAAAAAAAAAAAAAAAAAAAAAAAAAAAAAAAAAAAAAAAAAAAAAAAAAAAAAAAAAAAAAAAAAAAAAAAAAAAAAAAAAAAAAAAAAAAAAAAAAAAAAAA0TUMcbyjxz8AAAAAAAAAAAAAAAAAAAAAAAAAAAAAAAAAAAAAAAAAAAAAAAAAAAAAAAAAAAAAAAAAAAAAAAAAAAAAAAAAAAAAWcs0NC8+wz8AAAAAAAAAAAAAAAAAAAAAAAAAAAAAAAAAAAAAAAAAAAAAAAAAAAAAAAAAAAAAAAAAAAAAAAAAAJhEX5isKXw/AAAAAAAAAAAAAAAAAAAAAAAAAAAAAAAAAAAAAAAAAAAAAAAAAAAAAAAAAAAAAAAAAAAAAAAAAAAAAAAAAAAAAAAAAAAAAAAAW0BNzULDwz/UZKEkdhCHPwAAAAAAAAAAAAAAAAAAAAAAAAAAAAAAAAAAAAAAAAAAAAAAAAAAAAB2307cdx10PwAAAAAAAAAAAAAAAAAAAAAAAAAAAAAAAAAAAAAAAAAAAAAAAAAAAAAAAAAAAAAAAAAAAAAAAAAAAAAAAAAAAAAAAAAAAAAAAAAAAAAAAAAA0vY003u5wj8AAAAAAAAAAAAAAAAAAAAAAAAAAAAAAAAAAAAAAAAAAAAAAAAAAAAAAAAAAAAAAAAAAAAAAAAAAAAAAAAAAAAArIkCjei9xD+Wzv1nXJmEPwAAAAAAAAAAAAAAAAAAAAAAAAAAAAAAAAAAAAAAAAAAAAAAAAAAAAAAAAAAAAAAAAAAAAAAAAAA",
            "dtype": "f8",
            "shape": "9, 9"
           }
          }
         ],
         "name": "Window 1"
        },
        {
         "data": [
          {
           "colorscale": [
            [
             0,
             "#440154"
            ],
            [
             0.1111111111111111,
             "#482878"
            ],
            [
             0.2222222222222222,
             "#3e4989"
            ],
            [
             0.3333333333333333,
             "#31688e"
            ],
            [
             0.4444444444444444,
             "#26828e"
            ],
            [
             0.5555555555555556,
             "#1f9e89"
            ],
            [
             0.6666666666666666,
             "#35b779"
            ],
            [
             0.7777777777777778,
             "#6ece58"
            ],
            [
             0.8888888888888888,
             "#b5de2b"
            ],
            [
             1,
             "#fde725"
            ]
           ],
           "hoverongaps": false,
           "showscale": true,
           "type": "heatmap",
           "x": [
            "commodity",
            "credit",
            "currency",
            "energy",
            "equity",
            "interest",
            "metals",
            "real_estate",
            "volatility"
           ],
           "y": [
            "commodity",
            "credit",
            "currency",
            "energy",
            "equity",
            "interest",
            "metals",
            "real_estate",
            "volatility"
           ],
           "z": {
            "bdata": "AAAAAAAAAAAAAAAAAAAAAAAAAAAAAAAAAAAAAAAAAAAAAAAAAAAAAAAAAAAAAAAAAAAAAAAAAAAAAAAAAAAAAHPFQda2KsY/AAAAAAAAAAAAAAAAAAAAAOQ06jaRGHQ/AAAAAAAAAAAAAAAAAAAAAAAAAAAAAAAAAAAAAAAAAAAAAAAAAAAAAAAAAAAAAAAACPYh363pdz8AAAAAAAAAAAAAAAAAAAAAAAAAAAAAAAAAAAAAAAAAAAAAAAAAAAAAAAAAAAAAAAAAAAAAAAAAAAAAAAAAAAAAAAAAAAAAAAAAAAAAAAAAAAAAAAAAAAAAAAAAAAAAAAAAAAAAAAAAAAAAAAAAAAAAAAAAAAAAAAAAAAAAAAAAAO0vAnP7ucM/AAAAAAAAAAApVGvJggHKPwAAAAAAAAAAAAAAAAAAAAAAAAAAAAAAAAAAAAAAAAAAAAAAAAAAAAAAAAAAAAAAAFIpHanek8U/AAAAAAAAAAADJJNPnk7GPwAAAAAAAAAAAAAAAAAAAAAAAAAAAAAAAAAAAAAAAAAAAAAAAAAAAAD0VSOVlYhzPw6OLWYYG8U/AAAAAAAAAAAT8Et2XqjEPwAAAAAAAAAAAAAAAAAAAAAAAAAAAAAAAAAAAAAAAAAAAAAAAAAAAAAAAAAAAAAAAKDrOeQJb8M/AAAAAAAAAAAAAAAAAAAAAAAAAAAAAAAAFNxIHcNpdj8AAAAAAAAAAAAAAAAAAAAAZ8HIpgzHez8AAAAAAAAAAAAAAAAAAAAAAAAAAAAAAADkljOj/D3GPwAAAAAAAAAAAAAAAAAAAAAAAAAAAAAAAAAAAAAAAAAAAAAAAAAAAAAAAAAAAAAAAAAAAAAAAAAA",
            "dtype": "f8",
            "shape": "9, 9"
           }
          }
         ],
         "name": "Window 2"
        },
        {
         "data": [
          {
           "colorscale": [
            [
             0,
             "#440154"
            ],
            [
             0.1111111111111111,
             "#482878"
            ],
            [
             0.2222222222222222,
             "#3e4989"
            ],
            [
             0.3333333333333333,
             "#31688e"
            ],
            [
             0.4444444444444444,
             "#26828e"
            ],
            [
             0.5555555555555556,
             "#1f9e89"
            ],
            [
             0.6666666666666666,
             "#35b779"
            ],
            [
             0.7777777777777778,
             "#6ece58"
            ],
            [
             0.8888888888888888,
             "#b5de2b"
            ],
            [
             1,
             "#fde725"
            ]
           ],
           "hoverongaps": false,
           "showscale": true,
           "type": "heatmap",
           "x": [
            "commodity",
            "credit",
            "currency",
            "energy",
            "equity",
            "interest",
            "metals",
            "real_estate",
            "volatility"
           ],
           "y": [
            "commodity",
            "credit",
            "currency",
            "energy",
            "equity",
            "interest",
            "metals",
            "real_estate",
            "volatility"
           ],
           "z": {
            "bdata": "AAAAAAAAAAAAAAAAAAAAAAAAAAAAAAAAAAAAAAAAAAAAAAAAAAAAAAAAAAAAAAAAAAAAAAAAAAAAAAAAAAAAAAAAAAAAAAAAAAAAAAAAAAAAAAAAAAAAAAAAAAAAAAAAAAAAAAAAAACAqekJE2B0P+MGwxRWHn0/dt/kVSdMfD8AAAAAAAAAAAAAAAAAAAAAAAAAAAAAAAAAAAAAAAAAAAAAAAAAAAAAAAAAAAAAAAAAAAAAAAAAAAAAAAAAAAAAAAAAAAAAAAAAAAAAAAAAAAAAAAAAAAAAAAAAAAAAAAAAAAAAAAAAAAAAAAAAAAAAAAAAAAAAAAAAAAAAAAAAAAAAAAAAAAAAAAAAAAAAAAAAAAAAAAAAAAAAAAAAAAAAU3MeKcCRxD/MARh8zOt2PwAAAAAAAAAAAAAAAAAAAAAAAAAAAAAAAAAAAAAAAAAAAAAAAAAAAAAAAAAAAAAAAHJjX3/OcHU/m2BxifuTwz8AAAAAAAAAAAAAAAAAAAAAAAAAAAAAAAAAAAAAAAAAAAAAAAAAAAAAAAAAAAAAAAAAAAAAAAAAAAAAAAAAAAAAwuHsW7Juxj8AAAAAAAAAAAAAAAAAAAAAAAAAAAAAAAAAAAAAAAAAAAAAAAAAAAAAAAAAAAAAAAAAAAAAAAAAAAAAAAAAAAAAAtP6HRPgxD8AAAAAAAAAAAAAAAAAAAAAAAAAAAAAAAAAAAAAAAAAAAAAAAAAAAAAAAAAAAAAAAAAAAAAAAAAAAAAAAAAAAAAAAAAAAAAAAAAAAAAAAAAAAAAAAAAAAAATOy2es4LcT8AAAAAAAAAAAAAAAAAAAAAemyCuL/Igz8AAAAAAAAAAAAAAAAAAAAA",
            "dtype": "f8",
            "shape": "9, 9"
           }
          }
         ],
         "name": "Window 3"
        },
        {
         "data": [
          {
           "colorscale": [
            [
             0,
             "#440154"
            ],
            [
             0.1111111111111111,
             "#482878"
            ],
            [
             0.2222222222222222,
             "#3e4989"
            ],
            [
             0.3333333333333333,
             "#31688e"
            ],
            [
             0.4444444444444444,
             "#26828e"
            ],
            [
             0.5555555555555556,
             "#1f9e89"
            ],
            [
             0.6666666666666666,
             "#35b779"
            ],
            [
             0.7777777777777778,
             "#6ece58"
            ],
            [
             0.8888888888888888,
             "#b5de2b"
            ],
            [
             1,
             "#fde725"
            ]
           ],
           "hoverongaps": false,
           "showscale": true,
           "type": "heatmap",
           "x": [
            "commodity",
            "credit",
            "currency",
            "energy",
            "equity",
            "interest",
            "metals",
            "real_estate",
            "volatility"
           ],
           "y": [
            "commodity",
            "credit",
            "currency",
            "energy",
            "equity",
            "interest",
            "metals",
            "real_estate",
            "volatility"
           ],
           "z": {
            "bdata": "AAAAAAAAAAAAAAAAAAAAAAAAAAAAAAAAAAAAAAAAAAAAAAAAAAAAAAAAAAAAAAAAAAAAAAAAAAAAAAAAAAAAAAAAAAAAAAAAAAAAAAAAAAAAAAAAAAAAAAAAAAAAAAAAAAAAAAAAAAAAAAAAAAAAAAAAAAAAAAAAAAAAAAAAAAAAAAAAAAAAAAAAAAAAAAAAkjn1cuBgiD8AAAAAAAAAAAAAAAAAAAAAAAAAAAAAAAAAAAAAAAAAAAAAAAAAAAAAAAAAAAAAAAAAAAAAAAAAAAAAAAAAAAAAAAAAAAAAAAAAAAAAAAAAAAAAAAAAAAAAAAAAAAAAAAAAAAAAAAAAAAAAAAAAAAAAAAAAAAAAAAC06Ua2XBqCP8AZOpVMOIg/5CcXfpbOkz8AAAAAAAAAAAAAAAAAAAAAAAAAAAAAAAAAAAAAAAAAAAAAAAAAAAAAAAAAAAAAAAAAAAAAAAAAAG34Y5G5148/AAAAAAAAAAAAAAAAAAAAAAAAAAAAAAAAAAAAAAAAAAAAAAAAAAAAAAAAAAAAAAAAAAAAAAAAAADSwnUDtwWBPwAAAAAAAAAAAAAAAAAAAADiMbi9d8WNPwAAAAAAAAAAAAAAAAAAAAAAAAAAAAAAAAAAAAAAAAAAAAAAAAAAAAAAAAAAAAAAAAAAAAAAAAAAAAAAAAAAAAAtmrYEmb2HPyQYP1sAkXs/AAAAAAAAAAAAAAAAAAAAAAAAAAAAAAAAAAAAAAAAAAAAAAAAAAAAAAAAAAAAAAAAAAAAAAAAAAAAAAAAAAAAAAAAAAAAAAAAAAAAAAAAAAAAAAAAAAAAAAAAAAAAAAAAAAAAAAAAAAAAAAAAAAAAAAAAAAAAAAAA",
            "dtype": "f8",
            "shape": "9, 9"
           }
          }
         ],
         "name": "Window 4"
        }
       ],
       "layout": {
        "height": 800,
        "margin": {
         "l": 120
        },
        "sliders": [
         {
          "active": 0,
          "currentvalue": {
           "font": {
            "size": 20
           },
           "prefix": "6 Year(s) up to: ",
           "xanchor": "right"
          },
          "pad": {
           "b": 10,
           "t": 50
          },
          "steps": [
           {
            "args": [
             [
              "Window 0"
             ],
             {
              "frame": {
               "duration": 0
              },
              "mode": "immediate"
             }
            ],
            "label": "2011",
            "method": "animate"
           },
           {
            "args": [
             [
              "Window 1"
             ],
             {
              "frame": {
               "duration": 0
              },
              "mode": "immediate"
             }
            ],
            "label": "2014",
            "method": "animate"
           },
           {
            "args": [
             [
              "Window 2"
             ],
             {
              "frame": {
               "duration": 0
              },
              "mode": "immediate"
             }
            ],
            "label": "2017",
            "method": "animate"
           },
           {
            "args": [
             [
              "Window 3"
             ],
             {
              "frame": {
               "duration": 0
              },
              "mode": "immediate"
             }
            ],
            "label": "2020",
            "method": "animate"
           },
           {
            "args": [
             [
              "Window 4"
             ],
             {
              "frame": {
               "duration": 0
              },
              "mode": "immediate"
             }
            ],
            "label": "2023",
            "method": "animate"
           }
          ]
         }
        ],
        "template": {
         "data": {
          "bar": [
           {
            "error_x": {
             "color": "#2a3f5f"
            },
            "error_y": {
             "color": "#2a3f5f"
            },
            "marker": {
             "line": {
              "color": "#E5ECF6",
              "width": 0.5
             },
             "pattern": {
              "fillmode": "overlay",
              "size": 10,
              "solidity": 0.2
             }
            },
            "type": "bar"
           }
          ],
          "barpolar": [
           {
            "marker": {
             "line": {
              "color": "#E5ECF6",
              "width": 0.5
             },
             "pattern": {
              "fillmode": "overlay",
              "size": 10,
              "solidity": 0.2
             }
            },
            "type": "barpolar"
           }
          ],
          "carpet": [
           {
            "aaxis": {
             "endlinecolor": "#2a3f5f",
             "gridcolor": "white",
             "linecolor": "white",
             "minorgridcolor": "white",
             "startlinecolor": "#2a3f5f"
            },
            "baxis": {
             "endlinecolor": "#2a3f5f",
             "gridcolor": "white",
             "linecolor": "white",
             "minorgridcolor": "white",
             "startlinecolor": "#2a3f5f"
            },
            "type": "carpet"
           }
          ],
          "choropleth": [
           {
            "colorbar": {
             "outlinewidth": 0,
             "ticks": ""
            },
            "type": "choropleth"
           }
          ],
          "contour": [
           {
            "colorbar": {
             "outlinewidth": 0,
             "ticks": ""
            },
            "colorscale": [
             [
              0,
              "#0d0887"
             ],
             [
              0.1111111111111111,
              "#46039f"
             ],
             [
              0.2222222222222222,
              "#7201a8"
             ],
             [
              0.3333333333333333,
              "#9c179e"
             ],
             [
              0.4444444444444444,
              "#bd3786"
             ],
             [
              0.5555555555555556,
              "#d8576b"
             ],
             [
              0.6666666666666666,
              "#ed7953"
             ],
             [
              0.7777777777777778,
              "#fb9f3a"
             ],
             [
              0.8888888888888888,
              "#fdca26"
             ],
             [
              1,
              "#f0f921"
             ]
            ],
            "type": "contour"
           }
          ],
          "contourcarpet": [
           {
            "colorbar": {
             "outlinewidth": 0,
             "ticks": ""
            },
            "type": "contourcarpet"
           }
          ],
          "heatmap": [
           {
            "colorbar": {
             "outlinewidth": 0,
             "ticks": ""
            },
            "colorscale": [
             [
              0,
              "#0d0887"
             ],
             [
              0.1111111111111111,
              "#46039f"
             ],
             [
              0.2222222222222222,
              "#7201a8"
             ],
             [
              0.3333333333333333,
              "#9c179e"
             ],
             [
              0.4444444444444444,
              "#bd3786"
             ],
             [
              0.5555555555555556,
              "#d8576b"
             ],
             [
              0.6666666666666666,
              "#ed7953"
             ],
             [
              0.7777777777777778,
              "#fb9f3a"
             ],
             [
              0.8888888888888888,
              "#fdca26"
             ],
             [
              1,
              "#f0f921"
             ]
            ],
            "type": "heatmap"
           }
          ],
          "histogram": [
           {
            "marker": {
             "pattern": {
              "fillmode": "overlay",
              "size": 10,
              "solidity": 0.2
             }
            },
            "type": "histogram"
           }
          ],
          "histogram2d": [
           {
            "colorbar": {
             "outlinewidth": 0,
             "ticks": ""
            },
            "colorscale": [
             [
              0,
              "#0d0887"
             ],
             [
              0.1111111111111111,
              "#46039f"
             ],
             [
              0.2222222222222222,
              "#7201a8"
             ],
             [
              0.3333333333333333,
              "#9c179e"
             ],
             [
              0.4444444444444444,
              "#bd3786"
             ],
             [
              0.5555555555555556,
              "#d8576b"
             ],
             [
              0.6666666666666666,
              "#ed7953"
             ],
             [
              0.7777777777777778,
              "#fb9f3a"
             ],
             [
              0.8888888888888888,
              "#fdca26"
             ],
             [
              1,
              "#f0f921"
             ]
            ],
            "type": "histogram2d"
           }
          ],
          "histogram2dcontour": [
           {
            "colorbar": {
             "outlinewidth": 0,
             "ticks": ""
            },
            "colorscale": [
             [
              0,
              "#0d0887"
             ],
             [
              0.1111111111111111,
              "#46039f"
             ],
             [
              0.2222222222222222,
              "#7201a8"
             ],
             [
              0.3333333333333333,
              "#9c179e"
             ],
             [
              0.4444444444444444,
              "#bd3786"
             ],
             [
              0.5555555555555556,
              "#d8576b"
             ],
             [
              0.6666666666666666,
              "#ed7953"
             ],
             [
              0.7777777777777778,
              "#fb9f3a"
             ],
             [
              0.8888888888888888,
              "#fdca26"
             ],
             [
              1,
              "#f0f921"
             ]
            ],
            "type": "histogram2dcontour"
           }
          ],
          "mesh3d": [
           {
            "colorbar": {
             "outlinewidth": 0,
             "ticks": ""
            },
            "type": "mesh3d"
           }
          ],
          "parcoords": [
           {
            "line": {
             "colorbar": {
              "outlinewidth": 0,
              "ticks": ""
             }
            },
            "type": "parcoords"
           }
          ],
          "pie": [
           {
            "automargin": true,
            "type": "pie"
           }
          ],
          "scatter": [
           {
            "fillpattern": {
             "fillmode": "overlay",
             "size": 10,
             "solidity": 0.2
            },
            "type": "scatter"
           }
          ],
          "scatter3d": [
           {
            "line": {
             "colorbar": {
              "outlinewidth": 0,
              "ticks": ""
             }
            },
            "marker": {
             "colorbar": {
              "outlinewidth": 0,
              "ticks": ""
             }
            },
            "type": "scatter3d"
           }
          ],
          "scattercarpet": [
           {
            "marker": {
             "colorbar": {
              "outlinewidth": 0,
              "ticks": ""
             }
            },
            "type": "scattercarpet"
           }
          ],
          "scattergeo": [
           {
            "marker": {
             "colorbar": {
              "outlinewidth": 0,
              "ticks": ""
             }
            },
            "type": "scattergeo"
           }
          ],
          "scattergl": [
           {
            "marker": {
             "colorbar": {
              "outlinewidth": 0,
              "ticks": ""
             }
            },
            "type": "scattergl"
           }
          ],
          "scattermap": [
           {
            "marker": {
             "colorbar": {
              "outlinewidth": 0,
              "ticks": ""
             }
            },
            "type": "scattermap"
           }
          ],
          "scattermapbox": [
           {
            "marker": {
             "colorbar": {
              "outlinewidth": 0,
              "ticks": ""
             }
            },
            "type": "scattermapbox"
           }
          ],
          "scatterpolar": [
           {
            "marker": {
             "colorbar": {
              "outlinewidth": 0,
              "ticks": ""
             }
            },
            "type": "scatterpolar"
           }
          ],
          "scatterpolargl": [
           {
            "marker": {
             "colorbar": {
              "outlinewidth": 0,
              "ticks": ""
             }
            },
            "type": "scatterpolargl"
           }
          ],
          "scatterternary": [
           {
            "marker": {
             "colorbar": {
              "outlinewidth": 0,
              "ticks": ""
             }
            },
            "type": "scatterternary"
           }
          ],
          "surface": [
           {
            "colorbar": {
             "outlinewidth": 0,
             "ticks": ""
            },
            "colorscale": [
             [
              0,
              "#0d0887"
             ],
             [
              0.1111111111111111,
              "#46039f"
             ],
             [
              0.2222222222222222,
              "#7201a8"
             ],
             [
              0.3333333333333333,
              "#9c179e"
             ],
             [
              0.4444444444444444,
              "#bd3786"
             ],
             [
              0.5555555555555556,
              "#d8576b"
             ],
             [
              0.6666666666666666,
              "#ed7953"
             ],
             [
              0.7777777777777778,
              "#fb9f3a"
             ],
             [
              0.8888888888888888,
              "#fdca26"
             ],
             [
              1,
              "#f0f921"
             ]
            ],
            "type": "surface"
           }
          ],
          "table": [
           {
            "cells": {
             "fill": {
              "color": "#EBF0F8"
             },
             "line": {
              "color": "white"
             }
            },
            "header": {
             "fill": {
              "color": "#C8D4E3"
             },
             "line": {
              "color": "white"
             }
            },
            "type": "table"
           }
          ]
         },
         "layout": {
          "annotationdefaults": {
           "arrowcolor": "#2a3f5f",
           "arrowhead": 0,
           "arrowwidth": 1
          },
          "autotypenumbers": "strict",
          "coloraxis": {
           "colorbar": {
            "outlinewidth": 0,
            "ticks": ""
           }
          },
          "colorscale": {
           "diverging": [
            [
             0,
             "#8e0152"
            ],
            [
             0.1,
             "#c51b7d"
            ],
            [
             0.2,
             "#de77ae"
            ],
            [
             0.3,
             "#f1b6da"
            ],
            [
             0.4,
             "#fde0ef"
            ],
            [
             0.5,
             "#f7f7f7"
            ],
            [
             0.6,
             "#e6f5d0"
            ],
            [
             0.7,
             "#b8e186"
            ],
            [
             0.8,
             "#7fbc41"
            ],
            [
             0.9,
             "#4d9221"
            ],
            [
             1,
             "#276419"
            ]
           ],
           "sequential": [
            [
             0,
             "#0d0887"
            ],
            [
             0.1111111111111111,
             "#46039f"
            ],
            [
             0.2222222222222222,
             "#7201a8"
            ],
            [
             0.3333333333333333,
             "#9c179e"
            ],
            [
             0.4444444444444444,
             "#bd3786"
            ],
            [
             0.5555555555555556,
             "#d8576b"
            ],
            [
             0.6666666666666666,
             "#ed7953"
            ],
            [
             0.7777777777777778,
             "#fb9f3a"
            ],
            [
             0.8888888888888888,
             "#fdca26"
            ],
            [
             1,
             "#f0f921"
            ]
           ],
           "sequentialminus": [
            [
             0,
             "#0d0887"
            ],
            [
             0.1111111111111111,
             "#46039f"
            ],
            [
             0.2222222222222222,
             "#7201a8"
            ],
            [
             0.3333333333333333,
             "#9c179e"
            ],
            [
             0.4444444444444444,
             "#bd3786"
            ],
            [
             0.5555555555555556,
             "#d8576b"
            ],
            [
             0.6666666666666666,
             "#ed7953"
            ],
            [
             0.7777777777777778,
             "#fb9f3a"
            ],
            [
             0.8888888888888888,
             "#fdca26"
            ],
            [
             1,
             "#f0f921"
            ]
           ]
          },
          "colorway": [
           "#636efa",
           "#EF553B",
           "#00cc96",
           "#ab63fa",
           "#FFA15A",
           "#19d3f3",
           "#FF6692",
           "#B6E880",
           "#FF97FF",
           "#FECB52"
          ],
          "font": {
           "color": "#2a3f5f"
          },
          "geo": {
           "bgcolor": "white",
           "lakecolor": "white",
           "landcolor": "#E5ECF6",
           "showlakes": true,
           "showland": true,
           "subunitcolor": "white"
          },
          "hoverlabel": {
           "align": "left"
          },
          "hovermode": "closest",
          "mapbox": {
           "style": "light"
          },
          "paper_bgcolor": "white",
          "plot_bgcolor": "#E5ECF6",
          "polar": {
           "angularaxis": {
            "gridcolor": "white",
            "linecolor": "white",
            "ticks": ""
           },
           "bgcolor": "#E5ECF6",
           "radialaxis": {
            "gridcolor": "white",
            "linecolor": "white",
            "ticks": ""
           }
          },
          "scene": {
           "xaxis": {
            "backgroundcolor": "#E5ECF6",
            "gridcolor": "white",
            "gridwidth": 2,
            "linecolor": "white",
            "showbackground": true,
            "ticks": "",
            "zerolinecolor": "white"
           },
           "yaxis": {
            "backgroundcolor": "#E5ECF6",
            "gridcolor": "white",
            "gridwidth": 2,
            "linecolor": "white",
            "showbackground": true,
            "ticks": "",
            "zerolinecolor": "white"
           },
           "zaxis": {
            "backgroundcolor": "#E5ECF6",
            "gridcolor": "white",
            "gridwidth": 2,
            "linecolor": "white",
            "showbackground": true,
            "ticks": "",
            "zerolinecolor": "white"
           }
          },
          "shapedefaults": {
           "line": {
            "color": "#2a3f5f"
           }
          },
          "ternary": {
           "aaxis": {
            "gridcolor": "white",
            "linecolor": "white",
            "ticks": ""
           },
           "baxis": {
            "gridcolor": "white",
            "linecolor": "white",
            "ticks": ""
           },
           "bgcolor": "#E5ECF6",
           "caxis": {
            "gridcolor": "white",
            "linecolor": "white",
            "ticks": ""
           }
          },
          "title": {
           "x": 0.05
          },
          "xaxis": {
           "automargin": true,
           "gridcolor": "white",
           "linecolor": "white",
           "ticks": "",
           "title": {
            "standoff": 15
           },
           "zerolinecolor": "white",
           "zerolinewidth": 2
          },
          "yaxis": {
           "automargin": true,
           "gridcolor": "white",
           "linecolor": "white",
           "ticks": "",
           "title": {
            "standoff": 15
           },
           "zerolinecolor": "white",
           "zerolinewidth": 2
          }
         }
        },
        "title": {
         "text": "Multivariate Transfer Entropy Heatmap Over Time"
        },
        "xaxis": {
         "tickangle": 45,
         "tickfont": {
          "size": 10
         }
        },
        "yaxis": {
         "tickangle": -45,
         "tickfont": {
          "size": 10
         }
        }
       }
      }
     },
     "metadata": {},
     "output_type": "display_data"
    }
   ],
   "source": [
    "create_measure_heatmap(te_matrix_3d, \n",
    "                        pca_asset_classes.columns, \n",
    "                        endpoints, \n",
    "                        window_len=6,\n",
    "                        measure_name=\"Multivariate Transfer Entropy\")"
   ]
  },
  {
   "cell_type": "code",
   "execution_count": null,
   "id": "e2c5b9ad",
   "metadata": {},
   "outputs": [],
   "source": []
  }
 ],
 "metadata": {
  "kernelspec": {
   "display_name": "my_venv",
   "language": "python",
   "name": "python3"
  },
  "language_info": {
   "codemirror_mode": {
    "name": "ipython",
    "version": 3
   },
   "file_extension": ".py",
   "mimetype": "text/x-python",
   "name": "python",
   "nbconvert_exporter": "python",
   "pygments_lexer": "ipython3",
   "version": "3.11.1"
  }
 },
 "nbformat": 4,
 "nbformat_minor": 5
}
